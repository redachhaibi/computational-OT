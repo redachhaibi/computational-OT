{
 "cells": [
  {
   "cell_type": "markdown",
   "metadata": {},
   "source": [
    "# In this notebook we display the performance of the final version of damped Newton with preconditioning."
   ]
  },
  {
   "cell_type": "code",
   "execution_count": null,
   "metadata": {},
   "outputs": [],
   "source": [
    "from __future__ import division\n",
    "import os \n",
    "import numpy as np\n",
    "import time\n",
    "import matplotlib.pyplot as plt\n",
    "import warnings\n",
    "warnings.filterwarnings('ignore')\n",
    "np.random.seed(1234)\n",
    "%matplotlib inline\n",
    "%load_ext autoreload\n",
    "%autoreload "
   ]
  },
  {
   "cell_type": "code",
   "execution_count": null,
   "metadata": {},
   "outputs": [],
   "source": [
    "relative_path_to_new_folder = \"../Images\"\n",
    "os.makedirs(relative_path_to_new_folder, exist_ok = True)\n",
    "if not os.path.isdir('../Images/DampedNewtonPreconditioningFinal_images'):\n",
    "    os.makedirs('../Images/DampedNewtonPreconditioningFinal_images')"
   ]
  },
  {
   "cell_type": "code",
   "execution_count": null,
   "metadata": {},
   "outputs": [],
   "source": [
    "\"\"\"To compute distance matrix\"\"\"\n",
    "def distmat( x, y ):\n",
    "    return np.sum( x**2, 0 )[:,None] + np.sum( y**2, 0 )[None,:] - 2 * x.transpose().dot( y )\n",
    "\n",
    "\"\"\"To Normalise a vector\"\"\"\n",
    "normalize = lambda a: a/np.sum( a )\n",
    "\n",
    "\"\"\"To Compute P\"\"\"\n",
    "def GetP( u, K, v ):\n",
    "    return u[:,None] * K * v[None,:]\n",
    "\n",
    "def plotp(x, col, plt, scale = 200, edgecolors = \"k\"):\n",
    "  return plt.scatter( x[0,:], x[1,:], s = scale, edgecolors = edgecolors, c = col, cmap = 'plasma', linewidths = 2 )"
   ]
  },
  {
   "cell_type": "code",
   "execution_count": null,
   "metadata": {},
   "outputs": [],
   "source": [
    "N = [ 1000, 1100 ]"
   ]
  },
  {
   "cell_type": "code",
   "execution_count": null,
   "metadata": {},
   "outputs": [],
   "source": [
    "x = np.random.rand( 2, N[0] ) - 0.5\n",
    "theta = 2 * np.pi * np.random.rand( 1, N[1] )\n",
    "r = 0.8 + .2 * np.random.rand( 1, N[1] )\n",
    "y = np.vstack( ( r * np.cos(theta), r * np.sin(theta) ) )"
   ]
  },
  {
   "cell_type": "code",
   "execution_count": null,
   "metadata": {},
   "outputs": [],
   "source": [
    "import computational_OT"
   ]
  },
  {
   "cell_type": "markdown",
   "metadata": {},
   "source": [
    "## Entropy regularized formulation\n",
    "\n",
    "The primal entropy regularized formulation of OT is given by:\n",
    "$$\n",
    "OT_{\\varepsilon}(\\alpha,\\beta) = min_{\\pi \\in \\mathcal{U}(\\alpha,\\beta)} \\langle C,\\pi \\rangle +\\varepsilon KL(\\pi\\|\\alpha \\otimes \\beta)\\ ,\n",
    "$$\n",
    "where\n",
    "$\\ \n",
    "KL(\\pi\\|\\alpha \\otimes \\beta) \n",
    "\\ $ is the KL-divergence and $\\ \\mathcal{U}(\\alpha,\\beta)=\\{\\pi: \\pi\\mathcal{1}=\\alpha, \\pi^{T}\\mathcal{1}=\\beta\\}$."
   ]
  },
  {
   "attachments": {},
   "cell_type": "markdown",
   "metadata": {},
   "source": [
    "# 0. Sinkhorn vs damped Newton"
   ]
  },
  {
   "attachments": {},
   "cell_type": "markdown",
   "metadata": {},
   "source": [
    "## 0.1. Sinkhorn algorithm \n",
    "The optimal coupling $\\pi^{*}$ has the following form :\n",
    "$$\n",
    "\\pi^{*} = \\alpha \\odot diag(u)K diag(v)\\odot \\beta\n",
    "$$\n",
    "and we know that $\\pi^{*}\\mathbb{1}=\\alpha$ and $(\\pi^{*})^{T}\\mathbb{1}=\\beta$.\n",
    "###\n",
    "Therefore, Sinkhorn updates is given by the following alternative projections\n",
    "$$\n",
    "u^{t+1}  \\leftarrow \\frac{1}{K(v^{t}\\odot \\beta)}\\ ,\\ \n",
    "v^{t+1}  \\leftarrow \\frac{1}{K^{T}(u^{t+1}\\odot \\alpha)}\\ , \n",
    "$$\n",
    "where \n",
    "$K = e^{-\\frac{C}{\\varepsilon}}\\in M_{n\\times m}(\\mathbb{R}),\\ \\alpha \\in \\mathbb{R}^{n},\\ \\beta \\in \\mathbb{R}^{m}\\ ,\\ u\\in \\mathbb{R}^{n},\\ v\\in \\mathbb{R}^{m}\\ and \\ (u^{0},v^{0})=(u,v)\\ .$\n",
    "\n"
   ]
  },
  {
   "cell_type": "code",
   "execution_count": null,
   "metadata": {},
   "outputs": [],
   "source": [
    "# Sinkhorn\n",
    "print(\"Sinkhorn... \")\n",
    "print(\"Doing for (\",N[0], N[1],\").\")\n",
    "SinkhornP = []\n",
    "results_Sinkhorn = []\n",
    "times_Sinkhorn = []\n",
    "epsilons = [ 0.1, 0.5, 0.05, 0.03, 0.02, 0.010 ]\n",
    "Pmatrix_dist_linVSsinkhorn = []\n",
    "#Cost matrix\n",
    "C = distmat( x, y )\n",
    "# a and b\n",
    "a = normalize( np.ones( N[0] ) )\n",
    "b = normalize( np.ones( N[1] ) )\n",
    "for eps in epsilons:\n",
    "  print( \"For epsilon: \", str(eps) )\n",
    "  #Kernel\n",
    "  K = np.exp( - C/eps )\n",
    "  print( \" |- Iterating\")\n",
    "  #Inflating\n",
    "  u = a\n",
    "  v = b\n",
    "  start = time.time()\n",
    "  Optimizer = computational_OT.sinkhorn(  K,\n",
    "                                          a,\n",
    "                                          b,\n",
    "                                          u,\n",
    "                                          v,\n",
    "                                          eps )\n",
    "  out = Optimizer._update( max_iterations = 1000)\n",
    "  results_Sinkhorn.append( out )\n",
    "  end = time.time()\n",
    "  times_Sinkhorn.append( end - start )\n",
    "  print( \" |- Computing P\" )\n",
    "  print( \"\" )\n",
    "  u_opt = np.exp( out['potential_f']/eps )\n",
    "  K = np.exp( - C/eps )\n",
    "  v_opt =  np.exp( out['potential_g']/eps )\n",
    "  P_opt = GetP( u_opt, K, v_opt )\n",
    "  SinkhornP.append( P_opt )\n",
    "# end for"
   ]
  },
  {
   "cell_type": "markdown",
   "metadata": {},
   "source": [
    "### Error plot"
   ]
  },
  {
   "cell_type": "code",
   "execution_count": null,
   "metadata": {},
   "outputs": [],
   "source": [
    "plt.figure( figsize = ( 20, 7 ) )\n",
    "plt.subplot( 2, 1, 1 ),\n",
    "plt.title( \"$||P1 -a||_1+||P1 -b||_1$\" )\n",
    "for i in range(len(results_Sinkhorn)):\n",
    "  error = np.asarray( results_Sinkhorn[i]['error_a'] ) + np.asarray( results_Sinkhorn[i]['error_b'] )\n",
    "  plt.plot( error, label = 'Sinkhorn for $\\epsilon = $'+ str(epsilons[i]), linewidth = 2 )\n",
    "# end for\n",
    "plt.yscale( 'log' )\n",
    "plt.legend( loc = 'upper right' )\n",
    "plt.savefig( \"../Images/DampedNewtonPreconditioningFinal_images/ConvergenceSinkhornvaryingepsilon.pdf\", format = 'pdf')\n",
    "plt.show()"
   ]
  },
  {
   "attachments": {},
   "cell_type": "markdown",
   "metadata": {},
   "source": [
    "# 0.2. Damped Newton-Raphson\n",
    "\n",
    "## Damped Newton algorithm:\n",
    "The dual formulation of OT is given by\n",
    "$$\n",
    "OT_{\\varepsilon} = \\max_{f\\in \\mathbb{R}^{n}, g\\in\\mathbb{R}^{m}} \\langle f, \\alpha \\rangle + \\langle g, \\beta \\rangle - \\varepsilon\\left(\\langle\\alpha \\otimes \\beta, e^{\\frac{f}{\\varepsilon}}\\odot K \\odot e^{\\frac{g}{\\varepsilon}}  \\rangle-1\\right)\\ ,\n",
    "$$\n",
    "where\n",
    "$$\n",
    "\\alpha \\in \\mathcal{M}_{1}(\\mathcal{X}),\\ \\beta \\in \\mathcal{M}_{1}(\\mathcal{Y}),\\ \\varepsilon>0,\\ f\\in\\mathbb{R}^{n},\\ g\\in \\mathbb{R}^{m}\\ .\n",
    "$$\n",
    "\n",
    "The Hessian is given by \n",
    "$\\nabla^{2}Q_{\\alpha, \\beta,\\varepsilon}(f,g)=\\frac{-1}{\\varepsilon}\n",
    "\\begin{pmatrix}\n",
    "\\Delta(\\alpha) && \\pi_{\\varepsilon}\\\\\n",
    "\\pi^{T}_{\\varepsilon} && \\Delta(\\beta) \n",
    "\\end{pmatrix}\n",
    "\\ , \\ $ where $\\pi\\mathbb{1}_{m} = \\alpha,\\ \\pi^{T}\\mathbb{1}_{n}=\\beta,\\ $ and $\\Delta = diag: \\mathbb{R}^{n} \\rightarrow M_{n}(\\mathbb{R})$ is the linear operator mapping a vector  to a diagonal matrix  containing  this vector.\n",
    "\n",
    "\n",
    "This implies \n",
    "$$\n",
    "\\begin{pmatrix}\n",
    "\\Delta(\\alpha) && \\pi_{\\varepsilon}\\\\\n",
    "\\pi^{T}_{\\varepsilon} && \\Delta(\\beta) \n",
    "\\end{pmatrix}\n",
    "\\begin{pmatrix}\n",
    "\\mathbb{1}_{n}\\\\\n",
    "\\mathbb{1}_{m}\n",
    "\\end{pmatrix} = 0\\ ,\n",
    "$$\n",
    "that is,\n",
    "$$\n",
    "\\begin{pmatrix}\n",
    "\\mathbb{1}_{n}\\\\\n",
    "\\mathbb{1}_{m}\n",
    "\\end{pmatrix}\\in \\ker(\\nabla^{2}Q_{\\alpha, \\beta,\\varepsilon}(f,g))\\ .\n",
    "$$\n",
    "Hence, $\\nabla^{2}Q_{\\alpha, \\beta,\\varepsilon}(f,g)$ is singular. Therefore, on regularization we have the following Hessian\n",
    "$\n",
    "H_{reg} := \\nabla^{2}Q_{\\alpha, \\beta,\\varepsilon}(f,g)+\\lambda cc^{T}\\ ,\n",
    "$ \n",
    "where $c= \\begin{pmatrix}\\frac{\\mathbb{1}}{\\sqrt{n+m}}\\\\-\\frac{\\mathbb{1}}{\\sqrt{n+m}}\\end{pmatrix}\\in M_{(n+m),1}(\\mathbb{R})$.\n",
    "\n",
    "Now, at the $k^{th}$ iteration solve\n",
    "$\\nabla^{2}Q_{\\alpha, \\beta,\\varepsilon}(f,g)p_{k} = \\nabla Q_{\\alpha, \\beta,\\varepsilon}(f,g)$ to obtain the optimizing direction vector $p_{k}$ and then perform the Armijo condition to obtain the update step $\\alpha_{k}$ such that we have the update\n",
    "$$\n",
    "(f,g) \\leftarrow (f,g) + \\alpha_{k} p_{k}\\ .\n",
    "$$"
   ]
  },
  {
   "cell_type": "code",
   "execution_count": null,
   "metadata": {},
   "outputs": [],
   "source": [
    "# Damped Newton\n",
    "print(\"Damped Newton... \")\n",
    "print( \"Doing for (\",N[0], N[1],\").\" )\n",
    "rho = 0.95\n",
    "c = 0.05\n",
    "withoutprecond_dampedNewtonP = []\n",
    "withoutprecond_results_dampedNewton  = []\n",
    "withoutprecond_times_dampedNewton    = []\n",
    "withoutprecond_Hessians_dampedNewton = []\n",
    "withoutprecond_epsilons = [ 1.0, 0.5, 0.1, 0.05, 0.03, 0.02, 0.01 ]\n",
    "#Cost matrix\n",
    "C = distmat( x, y )\n",
    "# a and b\n",
    "a = normalize( np.ones( N[0] ) )\n",
    "b = normalize( np.ones( N[1] ) )\n",
    "for eps in withoutprecond_epsilons:\n",
    "    print( \"For epsilon = \"+str(eps)+\":\" )    \n",
    "    #Kernel\n",
    "    K = np.exp( -C/eps )\n",
    "    f, g = a, b\n",
    "    print( \" |- Iterating\")  \n",
    "    start = time.time()\n",
    "    Optimizer = computational_OT.damped_Newton(     K,\n",
    "                                                    a,\n",
    "                                                    b,\n",
    "                                                    f,\n",
    "                                                    g,\n",
    "                                                    eps,\n",
    "                                                    rho,\n",
    "                                                    c )\n",
    "    out = Optimizer._update(    max_iterations = 30,\n",
    "                                debug = False )\n",
    "    end = time.time()\n",
    "    if out != -1:\n",
    "        withoutprecond_results_dampedNewton.append( out )\n",
    "        withoutprecond_times_dampedNewton.append( end - start )        \n",
    "        print( \" |- Computing P\" )\n",
    "        print( \"\" )\n",
    "        u_opt = np.exp( out['potential_f']/eps )\n",
    "        K = np.exp( - C/eps )\n",
    "        v_opt =  np.exp( out['potential_g']/eps )\n",
    "        P_opt = GetP( u_opt, K, v_opt )\n",
    "        withoutprecond_dampedNewtonP.append( P_opt )\n",
    "        print( \" |- Recording (unstabilized) Hessian \\n\" )\n",
    "        mat  = - eps * Optimizer.Hessian\n",
    "        diag = 1/np.sqrt( np.concatenate( ( a, b), axis = None ) )\n",
    "        mat = diag[:,None] * mat * diag[None,:]\n",
    "        withoutprecond_Hessians_dampedNewton.append( mat )\n",
    "    else:\n",
    "        withoutprecond_epsilons.remove( eps )\n",
    "# end for"
   ]
  },
  {
   "cell_type": "markdown",
   "metadata": {},
   "source": [
    "### Error plot"
   ]
  },
  {
   "cell_type": "code",
   "execution_count": null,
   "metadata": {},
   "outputs": [],
   "source": [
    "plt.figure( figsize = ( 20, 7 ) )\n",
    "plt.title( \"$$\" )\n",
    "plt.title( \"$||P1 -a||_1+||P^T 1 -b||_1$\" ) \n",
    "for i in range( len( withoutprecond_results_dampedNewton ) ):\n",
    "  error = np.asarray( withoutprecond_results_dampedNewton[i]['error_a'] ) + np.asarray( withoutprecond_results_dampedNewton[i]['error_b'] )\n",
    "  plt.plot( error, label = 'Damped Newton for $\\epsilon = $'+ str(epsilons[i]), linewidth = 2 )\n",
    "# end for\n",
    "plt.xlabel( \"Number of iterations\" )\n",
    "plt.ylabel( \"Error in log-scale\" )\n",
    "plt.legend( loc = 'upper right' )\n",
    "plt.yscale( 'log' )\n",
    "plt.savefig( \"../Images/DampedNewtonPreconditioningFinal_images/ErrorDampedNewtonwithoutPrecond.pdf\", format = 'pdf' )\n",
    "plt.show()\n",
    "print( \"\\n Error plots can increase! The error is not the objective function!\" )"
   ]
  },
  {
   "cell_type": "markdown",
   "metadata": {},
   "source": [
    "### Objective function plot"
   ]
  },
  {
   "cell_type": "code",
   "execution_count": null,
   "metadata": {},
   "outputs": [],
   "source": [
    "plt.figure( figsize = ( 20, 7 ) ) \n",
    "plt.title( \"$$\" )\n",
    "plt.title( \"Objective Function\" )\n",
    "for i in range( len( withoutprecond_results_dampedNewton ) ):\n",
    "  plt.plot( np.asarray( withoutprecond_results_dampedNewton[i]['objective_values'] ), label = 'Damped Newton for $\\epsilon = $'+ str(epsilons[i]), linewidth = 2 )\n",
    "# end for\n",
    "plt.xlabel( \"Number of iterations\" )\n",
    "plt.ylabel( \"Objective value\" )\n",
    "plt.legend( loc = 'upper right' )\n",
    "plt.savefig( \"../Images/DampedNewtonPreconditioningFinal_images/ObjectiveDampedNewtonwithoutPrecond.pdf\", format = 'pdf' )\n",
    "plt.show()"
   ]
  },
  {
   "cell_type": "markdown",
   "metadata": {},
   "source": [
    "### Ascent step-size plot"
   ]
  },
  {
   "cell_type": "code",
   "execution_count": null,
   "metadata": {},
   "outputs": [],
   "source": [
    "plt.figure( figsize = ( 20, 7 ) )\n",
    "plt.subplot( 2, 1, 1 ),\n",
    "plt.title( \"Alpha\" )\n",
    "for i in range( len( withoutprecond_results_dampedNewton ) ):\n",
    "  plt.plot( np.asarray( withoutprecond_results_dampedNewton[i]['linesearch_steps'] ), label = 'Damped Newton for $\\epsilon = $'+ str(epsilons[i]), linewidth = 2 )\n",
    "# end for\n",
    "plt.xlabel( \"Number of iterations\" )\n",
    "plt.ylabel( \"Alpha in log-scale\" )\n",
    "plt.legend( loc = 'upper right' )\n",
    "plt.savefig( \"../Images/DampedNewtonPreconditioningFinal_images/AlphaDampedNewtonwithoutPrecond.pdf\", format = 'pdf' )\n",
    "plt.show()"
   ]
  },
  {
   "attachments": {},
   "cell_type": "markdown",
   "metadata": {},
   "source": [
    "# I. Plotting spectrum as a function of $\\varepsilon$"
   ]
  },
  {
   "cell_type": "code",
   "execution_count": null,
   "metadata": {},
   "outputs": [],
   "source": [
    "def spectral_decomposition( mat ):\n",
    "    eig, v = np.linalg.eigh( mat )\n",
    "    sorting_indices = np.argsort( eig )\n",
    "    eig = eig[ sorting_indices ]\n",
    "    v   = v[ :, sorting_indices ]    \n",
    "    print( \"List of smallest eigenvalues: \", eig[ : 10 ] )\n",
    "    print( \"List of largest  eigenvalues: \", eig[ - 10 : ] )\n",
    "    return eig, v"
   ]
  },
  {
   "cell_type": "code",
   "execution_count": null,
   "metadata": {},
   "outputs": [],
   "source": [
    "eigs = []\n",
    "eigvecs = []\n",
    "for i in range(len(withoutprecond_epsilons)):\n",
    "    eps = epsilons[i]\n",
    "    print(\"Spectral statistics of Hessian for epsilon = \"+str(eps))\n",
    "    ev = spectral_decomposition( withoutprecond_Hessians_dampedNewton[i] )\n",
    "    eigs.append( ev[0] )\n",
    "    eigvecs.append( ev[1] )\n",
    "    print(\"\")\n",
    "# end for"
   ]
  },
  {
   "cell_type": "code",
   "execution_count": null,
   "metadata": {},
   "outputs": [],
   "source": [
    "plt.rcParams.update( { 'font.size': 10 } )\n",
    "fig, ax = plt.subplots( figsize = ( 5, 12 ), nrows = len(withoutprecond_epsilons), ncols = 1, sharey = True )\n",
    "plt.title(\"Histogram of eigenvalues.\")\n",
    "for i in range(len(withoutprecond_epsilons)):\n",
    "    ax[i].hist( eigs[i], 50)\n",
    "    ax[i].set_title( \" $\\epsilon$: \"+str(withoutprecond_epsilons[i]))\n",
    "    ax[i].set_xlabel( \"Eigenvalues\" )\n",
    "    ax[i].set_yscale( \"log\" )\n",
    "# end for\n",
    "plt.subplots_adjust( wspace = 0, hspace  = 0.8 )\n",
    "plt.savefig( \"../Images/DampedNewtonPreconditioningFinal_images/eigenhistunstabilizedDampedNewtonwithoutPrecond.pdf\", format = 'pdf' )\n",
    "plt.show()"
   ]
  },
  {
   "cell_type": "markdown",
   "metadata": {},
   "source": [
    "## Damped Newton with Preconditioning\n",
    "Here we perform dual damped Newton with preconditioning. Here we consider $t$ eigenvalues of the Hessian that we want to move to one and form the following preconditioning matrix using the corresponding eigenvectors,\n",
    "$$\n",
    "P = \\left(I_{n+m}-\\sum_{i-1}^{t}\\left(1 - \\frac{1}{\\sqrt{\\lambda_{i}}}\\right)y_{i}y_{i}^{T}\\right)\\ ,\n",
    "$$\n",
    "where\n",
    "$$\n",
    "y_{i} \\in \\ker\\left(\\nabla^{2}_{f}Q_{\\alpha, \\beta, \\varepsilon}(f)-\\lambda_{i}I_{n}\\right),\\ \\forall i= 1,\\dots,k\\ ,\n",
    "$$\n",
    " are orthonormal.\n",
    "\n",
    "Now, at the $k^{th}$ iteration we solve the following equation:\n",
    "$$\n",
    "(P\\nabla^{2}Q_{\\alpha, \\beta, \\varepsilon}(f)P)(Pp_{k})=P\\nabla Q_{\\alpha, \\beta, \\varepsilon}(f)\\ ,\n",
    "$$\n",
    "using iterative inversion methods such as \"Conjugate gradient\" and \"GMRES\" to get the ascent direction $p_{k}$, following which we use the Armijo condition to obtain the ascent step size $\\alpha_{k}$."
   ]
  },
  {
   "attachments": {},
   "cell_type": "markdown",
   "metadata": {},
   "source": [
    "# II. Actual preconditioning"
   ]
  },
  {
   "cell_type": "code",
   "execution_count": null,
   "metadata": {},
   "outputs": [],
   "source": [
    "def build_preconditioners( num_eigs, modified_Hessian, ansatz = True ):\n",
    "    # Diagonalize\n",
    "    eigenvalues, eigenvectors = np.linalg.eigh( modified_Hessian )\n",
    "    sorting_indices = np.argsort( eigenvalues )\n",
    "    eigenvalues  = eigenvalues[ sorting_indices ]\n",
    "    eigenvectors = eigenvectors[ :, sorting_indices ]\n",
    "    # Form null vector\n",
    "    if not ansatz:\n",
    "        null_vector = eigenvectors[ : , 0 ]\n",
    "    else:\n",
    "        null_vector = np.hstack( ( np.ones(N[0]), - np.ones(N[1]) ) )\n",
    "        norm = np.sqrt( N[0] + N[1] )\n",
    "        null_vector = null_vector/norm\n",
    "    # Form other vectors (only 13)\n",
    "    _, m = eigenvectors.shape\n",
    "    indices=[]\n",
    "    for i in range(num_eigs//2):\n",
    "        indices.append( m - i - 2 )\n",
    "        indices.append( i + 1 )\n",
    "    # end for\n",
    "    if num_eigs%2 != 0:\n",
    "        indices.append( m - 1 - ( num_eigs//2 ) )\n",
    "   \n",
    "    precond_vectors = eigenvectors[:, indices ]\n",
    "    precond_vectors = []\n",
    "    for index in indices:\n",
    "        precond_vectors.append( eigenvectors[ : , index ] )\n",
    "    # end for\n",
    "    return null_vector, precond_vectors"
   ]
  },
  {
   "attachments": {},
   "cell_type": "markdown",
   "metadata": {},
   "source": [
    "## Final version"
   ]
  },
  {
   "cell_type": "markdown",
   "metadata": {},
   "source": [
    "### Exact Inversion"
   ]
  },
  {
   "cell_type": "code",
   "execution_count": null,
   "metadata": {},
   "outputs": [],
   "source": [
    "# Damped Newton with preconditioning\n",
    "print(\"Damped Newton with preconditioning and exact inversion... \")\n",
    "print( \"Doing for (\",N[0], N[1],\").\" )\n",
    "# Get null vector and preconditioning vectors\n",
    "num_eigs = 30 \n",
    "null_vector, precond_vectors = build_preconditioners( num_eigs, withoutprecond_Hessians_dampedNewton[- 1], ansatz = False )\n",
    "# Experiment\n",
    "## Here EI: Exact inversion\n",
    "rho = 0.95\n",
    "c = 0.1\n",
    "reset_starting_point = True\n",
    "withprecond_final_modified_Hessians_EI = []\n",
    "withprecond_dampedNewtonP_EI = []\n",
    "withprecond_results_dampedNewton_EI  = []\n",
    "withprecond_times_dampedNewton_EI    = []\n",
    "withprecond_epsilons =  [ 1.0, 0.5, 0.05, 0.03, 0.02, 0.01 ]\n",
    "f, g = None, None\n",
    "# Cost matrix\n",
    "C = distmat( x, y )\n",
    "# a and b\n",
    "a = normalize( np.ones( N[0] ) )\n",
    "b = normalize( np.ones( N[1] ) )\n",
    "for eps in withprecond_epsilons:\n",
    "    print( \"For epsilon = \"+str(eps)+\":\" )  \n",
    "    #Kernel\n",
    "    K = np.exp( - C/eps )\n",
    "    if ( f is None ) or ( g is None ): \n",
    "        f, g = a, b\n",
    "    print( \"Doing for (\",N[0], N[1],\").\" )\n",
    "    print( \" |- Iterating\" )  \n",
    "    start = time.time()\n",
    "    Optimizer = computational_OT.damped_Newton_with_preconditioning(    K,\n",
    "                                                                        a,\n",
    "                                                                        b,\n",
    "                                                                        f,\n",
    "                                                                        g,\n",
    "                                                                        eps,\n",
    "                                                                        rho,\n",
    "                                                                        c,\n",
    "                                                                        null_vector,\n",
    "                                                                        precond_vectors[:] )\n",
    "    out = Optimizer._update(    max_iterations = 50,\n",
    "                                iterative_inversion = -1,\n",
    "                                version = None,\n",
    "                                debug = False,\n",
    "                                optType = 'cg' )\n",
    "    withprecond_results_dampedNewton_EI.append( out )\n",
    "    end = time.time()\n",
    "    withprecond_times_dampedNewton_EI.append( end - start )\n",
    "    print( \" |- Computing P\" )\n",
    "    print( \"\" )\n",
    "    u_opt = np.exp( out['potential_f']/eps )\n",
    "    K = np.exp( - C/eps )\n",
    "    v_opt =  np.exp( out['potential_g']/eps )\n",
    "    P_opt = GetP( u_opt, K, v_opt )\n",
    "    withprecond_dampedNewtonP_EI.append( P_opt )\n",
    "    if not reset_starting_point:\n",
    "        f = Optimizer.x[:a.shape[0]]\n",
    "        g = Optimizer.x[a.shape[0]:] \n",
    "    withprecond_final_modified_Hessians_EI.append( Optimizer.modified_Hessian )\n",
    "# end for"
   ]
  },
  {
   "cell_type": "markdown",
   "metadata": {},
   "source": [
    "#### Error plot"
   ]
  },
  {
   "cell_type": "code",
   "execution_count": null,
   "metadata": {},
   "outputs": [],
   "source": [
    "plt.figure( figsize = ( 20, 7 ) )\n",
    "plt.title( \"$$\" )\n",
    "plt.title( \"$||P1 -a||_1+||P^T 1 -b||_1$\" )\n",
    "for i in range( len( withprecond_results_dampedNewton_EI ) ):\n",
    "  error = np.asarray( withprecond_results_dampedNewton_EI[i]['error_a'] ) + np.asarray( withprecond_results_dampedNewton_EI[i]['error_b'] )\n",
    "  plt.plot( error, label = 'Damped Newton with preconditioning for $\\epsilon = $'+ str(withprecond_epsilons[i]), linewidth = 2 )\n",
    "# end for\n",
    "plt.xlabel( \"Number of iterations\" )\n",
    "plt.ylabel( \"Error in log-scale\" )\n",
    "plt.legend( loc = 'upper right' )\n",
    "plt.yscale( 'log' )\n",
    "plt.savefig( \"../Images/DampedNewtonPreconditioningFinal_images/ErrorDampedNewtonwithPrecond_final_exact_inversion.pdf\", format = 'pdf' )\n",
    "plt.show()\n",
    "print( \"\\n Error plots can increase! The error is not the objective function!\" )"
   ]
  },
  {
   "cell_type": "markdown",
   "metadata": {},
   "source": [
    "#### Average time plot"
   ]
  },
  {
   "cell_type": "code",
   "execution_count": null,
   "metadata": {},
   "outputs": [],
   "source": [
    "text = [\n",
    "        \"Preconditioning 1: Form E data\",\n",
    "        \"Preconditioning 2: Form P data\",\n",
    "        \"Form preconditioning functions\",\n",
    "        \"Invert the linear system for p_k\",\n",
    "        \"Unwinding\",\n",
    "        \"Complete code block\"\n",
    "        ]\n",
    "plt.figure( figsize = ( 20, 10 ) )  \n",
    "for j in range( len(withprecond_results_dampedNewton_EI[0]['timings'][0]) ):\n",
    "  values = []\n",
    "  for i in range( len(withprecond_results_dampedNewton_EI) ):\n",
    "    mean = 0\n",
    "    for k in range( len(withprecond_results_dampedNewton_EI[i]['timings']) ):\n",
    "      mean += withprecond_results_dampedNewton_EI[i]['timings'][k][j]\n",
    "    # end for\n",
    "    mean = mean/len( withprecond_results_dampedNewton_EI[i]['timings'] ) \n",
    "    values.append( mean )\n",
    "  # end for\n",
    "  if len(withprecond_epsilons) == len(values):\n",
    "    plt.plot( withprecond_epsilons, np.asarray(values), label = text[j], linewidth = 2 )\n",
    "    plt.legend( loc = 'upper right' )\n",
    "# end for\n",
    "plt.xlabel( \"$\\epsilon$\" )\n",
    "plt.ylabel( \"Time in ms\" )\n",
    "plt.savefig( \"../Images/DampedNewtonPreconditioningFinal_images/Timings_DampedNewtonwithPrecond_final_exact_inversion.pdf\", format = 'pdf' )\n",
    "plt.show()"
   ]
  },
  {
   "cell_type": "markdown",
   "metadata": {},
   "source": [
    "### Iterative inversion"
   ]
  },
  {
   "cell_type": "code",
   "execution_count": null,
   "metadata": {},
   "outputs": [],
   "source": [
    "# Damped Newton with preconditioning\n",
    "print( \"Damped Newton with preconditioning and iterative inversion... \" )\n",
    "print( \"Doing for (\",N[0], N[1],\").\" )\n",
    "# Get null vector and preconditioning vectors\n",
    "num_eigs = 30 \n",
    "null_vector, precond_vectors = build_preconditioners( num_eigs, withoutprecond_Hessians_dampedNewton[- 1], ansatz = False )\n",
    "# Experitment\n",
    "## Here I_inv: Iterative inversion\n",
    "rho = 0.95\n",
    "c = 0.1\n",
    "reset_starting_point = True\n",
    "withprecond_final_modified_Hessians_I_inv = []\n",
    "withprecond_dampedNewtonP_I_inv = []\n",
    "withprecond_results_dampedNewton_I_inv  = []\n",
    "withprecond_times_dampedNewton_I_inv    = []\n",
    "withprecond_epsilons =  [ 1.0, 0.5, 0.05, 0.03, 0.02, 0.01 ]\n",
    "iter_inv = 30\n",
    "r_tol = 1e-5\n",
    "a_tol = 1e-10\n",
    "f, g = None, None\n",
    "# Cost matrix\n",
    "C = distmat( x, y )\n",
    "# a and b\n",
    "a = normalize( np.ones( N[0] ) )\n",
    "b = normalize( np.ones( N[1] ) )\n",
    "for eps in withprecond_epsilons:\n",
    "    print( \"For epsilon: \", str(eps) )\n",
    "    #Kernel\n",
    "    K = np.exp( - C/eps )\n",
    "    if ( f is None ) or ( g is None ): \n",
    "        f, g = a, b\n",
    "    print( \" |- Iterating\" )  \n",
    "    start = time.time()\n",
    "    Optimizer = computational_OT.damped_Newton_with_preconditioning(    K,\n",
    "                                                                        a,\n",
    "                                                                        b,\n",
    "                                                                        f,\n",
    "                                                                        g,\n",
    "                                                                        eps,\n",
    "                                                                        rho,\n",
    "                                                                        c,\n",
    "                                                                        null_vector,\n",
    "                                                                        precond_vectors[:] )\n",
    "    out = Optimizer._update(    max_iterations = 50,\n",
    "                                iterative_inversion = iter_inv,\n",
    "                                relative_tol = r_tol,\n",
    "                                absolute_tol = a_tol,\n",
    "                                version = None,\n",
    "                                debug = False,\n",
    "                                optType = 'cg' )\n",
    "    withprecond_results_dampedNewton_I_inv.append( out )\n",
    "    end = time.time()\n",
    "    withprecond_times_dampedNewton_I_inv.append( end - start )\n",
    "    print( \" |- Computing P\" )\n",
    "    print( \"\" )\n",
    "    u_opt = np.exp( out['potential_f']/eps )\n",
    "    K = np.exp( - C/eps )\n",
    "    v_opt =  np.exp( out['potential_g']/eps )\n",
    "    P_opt = GetP( u_opt, K, v_opt )\n",
    "    withprecond_dampedNewtonP_I_inv.append( P_opt )\n",
    "    if not reset_starting_point:\n",
    "        f = Optimizer.x[:a.shape[0]]\n",
    "        g = Optimizer.x[a.shape[0]:] \n",
    "    withprecond_final_modified_Hessians_I_inv.append( Optimizer.modified_Hessian )\n",
    "# end for"
   ]
  },
  {
   "cell_type": "markdown",
   "metadata": {},
   "source": [
    "#### Error plot"
   ]
  },
  {
   "cell_type": "code",
   "execution_count": null,
   "metadata": {},
   "outputs": [],
   "source": [
    "plt.figure( figsize = ( 20, 7 ) )\n",
    "plt.title( \"$$\" )\n",
    "plt.title( \"$||P1 -a||_1+||P^T 1 -b||_1$\" )\n",
    "for i in range( len( withprecond_results_dampedNewton_I_inv ) ):\n",
    "  error = np.asarray( withprecond_results_dampedNewton_I_inv[i]['error_a'] ) + np.asarray( withprecond_results_dampedNewton_I_inv[i]['error_b'] )\n",
    "  plt.plot( error, label = 'Damped Newton with preconditioning for $\\epsilon = $'+ str(withprecond_epsilons[i]), linewidth = 2 )\n",
    "# end for\n",
    "plt.xlabel( \"Number of iterations\" )\n",
    "plt.ylabel( \"Error in log-scale\" )\n",
    "plt.legend()\n",
    "plt.yscale( 'log' )\n",
    "plt.savefig( \"../Images/DampedNewtonPreconditioningFinal_images/ErrorDampedNewtonwithPrecond_final_iterative_inversion.pdf\", format = 'pdf' )\n",
    "plt.show()\n",
    "print( \"\\n Error plots can increase! The error is not the objective function!\" )"
   ]
  },
  {
   "cell_type": "markdown",
   "metadata": {},
   "source": [
    "#### Average time plot"
   ]
  },
  {
   "cell_type": "code",
   "execution_count": null,
   "metadata": {},
   "outputs": [],
   "source": [
    "text = [\n",
    "        \"Preconditioning 1: Form E data\",\n",
    "        \"Preconditioning 2: Form P data\",\n",
    "        \"Form preconditioning functions\",\n",
    "        \"Invert the linear system for p_k\",\n",
    "        \"Unwinding\",\n",
    "        \"Complete code block\"\n",
    "        ]\n",
    "plt.figure( figsize = ( 20, 10 ) )  \n",
    "for j in range( len( withprecond_results_dampedNewton_I_inv[0]['timings'][0]) ):\n",
    "  values = []\n",
    "  for i in range( len(withprecond_results_dampedNewton_I_inv) ):\n",
    "    mean = 0\n",
    "    for k in range( len(withprecond_results_dampedNewton_I_inv[i]['timings']) ):\n",
    "      mean += withprecond_results_dampedNewton_I_inv[i]['timings'][k][j]\n",
    "    # end for\n",
    "    mean = mean/len( withprecond_results_dampedNewton_I_inv[i]['timings'] ) \n",
    "    values.append( mean )\n",
    "  # end for\n",
    "  if len(withprecond_epsilons) == len(values):\n",
    "    plt.plot( withprecond_epsilons, np.asarray(values), label = text[j], linewidth = 2 )\n",
    "    plt.legend( loc = 'upper right' )\n",
    "# end for\n",
    "plt.xlabel( \"$\\epsilon$\" )\n",
    "plt.ylabel( \"Time in ms\" )\n",
    "plt.savefig( \"../Images/DampedNewtonPreconditioningFinal_images/Timings_DampedNewtonwithPrecond_final_iterative_inversion.pdf\", format = 'pdf' )\n",
    "plt.show()"
   ]
  },
  {
   "cell_type": "markdown",
   "metadata": {},
   "source": [
    "### Time to converge\n",
    "The following plot displays a comparison between the exact inversion and the iterative inversion methods with preconditioning as a function of $\\epsilon$."
   ]
  },
  {
   "cell_type": "code",
   "execution_count": null,
   "metadata": {},
   "outputs": [],
   "source": [
    "plt.rcParams.update( { 'font.size' : 12 } )\n",
    "plt.figure( figsize = ( 20, 7 ) )   \n",
    "plt.title( \"$$\" ) \n",
    "plt.title( \"Time plot\" ) \n",
    "plt.plot( withprecond_times_dampedNewton_EI[::-1], label = 'Damped Newton with true preconditioning and exact inversion with 30 preconditioning vectors $', linewidth = 2, marker = 'o' ) \n",
    "plt.plot( withprecond_times_dampedNewton_I_inv[::-1], label = 'Damped Newton with true preconditioning and CG with (num_precond, iter_inv, atol, rtol) = ('+str(num_eigs)+', '+str(iter_inv)+', '+str(a_tol)+',  '+str(r_tol)+') ', linewidth = 2, marker = 'o' ) \n",
    "plt.xlabel( \" $\\epsilon$ \" )  \n",
    "plt.ylabel( \" Time in sec\" ) \n",
    "plt.legend( loc = 'upper right' ) \n",
    "plt.savefig( \"../Images/DampedNewtonPreconditioningFinal_images/Timeplot_EI_vs_II.pdf\", format ='pdf' ) \n",
    "plt.show() "
   ]
  },
  {
   "attachments": {},
   "cell_type": "markdown",
   "metadata": {},
   "source": [
    "# III. More spectral statistics"
   ]
  },
  {
   "cell_type": "code",
   "execution_count": null,
   "metadata": {},
   "outputs": [],
   "source": [
    "def print_spectral_statistics( mat, stabilize = False ):\n",
    "    if stabilize:\n",
    "        # Stabilizing largest and smallest eigenvalue\n",
    "        min_vector = np.hstack( (np.ones(N[0]), - np.ones(N[1])) )\n",
    "        max_vector = np.hstack( (np.ones(N[0]),  np.ones(N[1])) )\n",
    "        norm = np.sqrt( N[0] + N[1] )\n",
    "        min_vector = min_vector/norm\n",
    "        max_vector = max_vector/norm\n",
    "        min_vector = min_vector.reshape( ( min_vector.shape[0], 1 ) )\n",
    "        max_vector = max_vector.reshape( ( max_vector.shape[0], 1 ) )\n",
    "        #\n",
    "        mat = mat + np.dot( min_vector, min_vector.T )\n",
    "        mat = mat - np.dot( max_vector, max_vector.T )\n",
    "    # endif\n",
    "    eig, v = np.linalg.eigh( mat )\n",
    "    sorting_indices = np.argsort( eig )\n",
    "    eig = eig[ sorting_indices ]\n",
    "    v   = v[ : , sorting_indices ]\n",
    "    \n",
    "    #print( \"Mean eigenvalue: \", np.mean(eig) )\n",
    "    print( \"List of smallest eigenvalues: \", eig[ : 10 ])\n",
    "    print( \"List of largest  eigenvalues: \", eig[ - 10 : ])\n",
    "    min_index = np.argmin( eig )\n",
    "    max_index = np.argmax( eig )\n",
    "    min_value = eig[ min_index ]\n",
    "    max_value = eig[ max_index ]\n",
    "    min_vector = v[ : , min_index ]\n",
    "    min_vector = min_vector/min_vector[0]\n",
    "    max_vector = v[ : , max_index ]\n",
    "    max_vector = max_vector/max_vector[0]\n",
    "    condition_number = max_value/min_value\n",
    "    # Test smallest and largest\n",
    "    # print( \"Min eigenvalue vector: \", min_vector)\n",
    "    # print( \"Max eigenvalue vector: \", max_vector)\n",
    "    #\n",
    "    #print( v[:,0]*np.sqrt( self.N1 + self.N2))\n",
    "    #vector = v[:,0]\n",
    "    #test = np.dot( result, vector)\n",
    "    #print( np.linalg.norm(test) )\n",
    "    #print(\"Min absolute eigenvalues: \", min_value)\n",
    "    #print(\"Norm of v-1: \", np.linalg.norm(min_vector-eig_vector))\n",
    "    print( \"Condition number: \", condition_number )\n",
    "    # plt.hist( eig, 50)\n",
    "    # plt.title( \"Histogram of eigenvalues for Hessian\")\n",
    "    # plt.xlabel( \"Eigenvalues\")\n",
    "    # plt.yscale( \"log\" )\n",
    "    # plt.show()\n",
    "    return eig, v"
   ]
  },
  {
   "cell_type": "code",
   "execution_count": null,
   "metadata": {},
   "outputs": [],
   "source": [
    "eigs = []\n",
    "eigvecs = []\n",
    "for i in range( len( withprecond_epsilons ) ):\n",
    "    eps = epsilons[i]\n",
    "    print( \"Spectral statistics of Hessian for epsilon = \"+str(eps) )\n",
    "    Hessian = withoutprecond_Hessians_dampedNewton[i]\n",
    "    ev = print_spectral_statistics( Hessian, stabilize = False )\n",
    "    eigs.append( ev[0] )\n",
    "    eigvecs.append( ev[1] )\n",
    "    print(\"\")\n",
    "# end for"
   ]
  },
  {
   "cell_type": "code",
   "execution_count": null,
   "metadata": {},
   "outputs": [],
   "source": [
    "# Using the largest epsilon's eigenvectors for conditioning\n",
    "print( \"Building preconditioning eigenvectors\"  )\n",
    "#null_vector, precond_vectors = build_preconditioners( Hessians_DampedNewton[-1], ansatz=False )\n",
    "num_eigs = 13\n",
    "null_vector, precond_vectors = build_preconditioners( num_eigs, withoutprecond_Hessians_dampedNewton[-1], ansatz = False )\n",
    "for i in range( len( withprecond_epsilons ) ):\n",
    "    eps = withprecond_epsilons[i]\n",
    "    print( \"Spectral statistics of Hessian for epsilon = \"+str(eps) )\n",
    "    Hessian = withprecond_final_modified_Hessians_I_inv[i]\n",
    "    print_spectral_statistics( Hessian )\n",
    "    print(\"\")\n",
    "# end for"
   ]
  },
  {
   "cell_type": "code",
   "execution_count": null,
   "metadata": {},
   "outputs": [],
   "source": [
    "# Using the previous epsilon's eigenvectors for conditioning\n",
    "print( \"Building preconditioning eigenvectors\"  )\n",
    "num_eigs = 13\n",
    "null_vector, precond_vectors = build_preconditioners( num_eigs, withoutprecond_Hessians_dampedNewton[-1], ansatz = False )\n",
    "for i in range( len( withprecond_epsilons ) ):\n",
    "    eps = withprecond_epsilons[i]\n",
    "    print( \"Spectral statistics of Hessian for epsilon = \"+str(eps) )\n",
    "    Hessian = withprecond_final_modified_Hessians_I_inv[i]\n",
    "    print_spectral_statistics( Hessian )\n",
    "    print( \"\" )\n",
    "    print( \"Building preconditioning eigenvectors\" )\n",
    "    num_eigs = 13\n",
    "    null_vector, precond_vectors = build_preconditioners( num_eigs, withoutprecond_Hessians_dampedNewton[-1], ansatz = False )\n",
    "    print( \"\" ) \n",
    "# end for"
   ]
  }
 ],
 "metadata": {
  "kernelspec": {
   "display_name": ".venv_computational-OT",
   "language": "python",
   "name": "python3"
  },
  "language_info": {
   "codemirror_mode": {
    "name": "ipython",
    "version": 3
   },
   "file_extension": ".py",
   "mimetype": "text/x-python",
   "name": "python",
   "nbconvert_exporter": "python",
   "pygments_lexer": "ipython3",
   "version": "3.12.3"
  },
  "orig_nbformat": 4
 },
 "nbformat": 4,
 "nbformat_minor": 2
}
