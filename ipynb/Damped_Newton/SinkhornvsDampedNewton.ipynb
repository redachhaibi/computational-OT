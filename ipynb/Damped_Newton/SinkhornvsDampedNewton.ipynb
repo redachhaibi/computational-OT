{
 "cells": [
  {
   "cell_type": "markdown",
   "metadata": {},
   "source": [
    "# In this notebook we compare the performance of the Sinkhorn and the damped Newton algorithm."
   ]
  },
  {
   "cell_type": "code",
   "execution_count": null,
   "metadata": {},
   "outputs": [],
   "source": [
    "from __future__ import division\n",
    "import os\n",
    "import numpy as np\n",
    "import time\n",
    "import matplotlib.pyplot as plt\n",
    "import scipy as scp\n",
    "import pylab as pyl\n",
    "\n",
    "import warnings\n",
    "warnings.filterwarnings('ignore')\n",
    "np.random.seed(1234)\n",
    "\n",
    "%matplotlib inline\n",
    "%load_ext autoreload\n",
    "%autoreload "
   ]
  },
  {
   "cell_type": "code",
   "execution_count": null,
   "metadata": {},
   "outputs": [],
   "source": [
    "%load_ext autoreload\n",
    "%autoreload 2"
   ]
  },
  {
   "cell_type": "code",
   "execution_count": null,
   "metadata": {},
   "outputs": [],
   "source": [
    "relative_path_to_new_folder = \"../Images\"\n",
    "os.makedirs(relative_path_to_new_folder, exist_ok = True)\n",
    "if not os.path.isdir('../Images/SinkhornvsDampedNewton_images'):\n",
    "    os.makedirs('../Images/SinkhornvsDampedNewton_images')"
   ]
  },
  {
   "cell_type": "code",
   "execution_count": null,
   "metadata": {},
   "outputs": [],
   "source": [
    "\"\"\"To compute distance matrix\"\"\"\n",
    "def distmat( x, y ):\n",
    "    return np.sum( x**2, 0 )[:,None] + np.sum( y**2, 0 )[None,:] - 2 * x.transpose().dot( y )\n",
    "\n",
    "\"\"\"To Normalise a vector\"\"\"\n",
    "normalize = lambda a: a/np.sum( a )\n",
    "\n",
    "\"\"\"To Compute P\"\"\"\n",
    "def GetP( u, K, v ):\n",
    "    return u[:,None] * K *v[None,:]\n",
    "\n",
    "def plotp( x, col, plt, scale = 200, edgecolors = \"k\"):\n",
    "  return plt.scatter( x[0,:], x[1,:], s = scale, edgecolors = edgecolors,  c = col, cmap = 'plasma', linewidths = 2 )"
   ]
  },
  {
   "cell_type": "code",
   "execution_count": null,
   "metadata": {},
   "outputs": [],
   "source": [
    "import computational_OT"
   ]
  },
  {
   "cell_type": "markdown",
   "metadata": {},
   "source": [
    "## Entropy regularized formulation\n",
    "\n",
    "The primal entropy regularized formulation of OT is given by:\n",
    "$$\n",
    "OT_{\\varepsilon}(\\alpha,\\beta) = min_{\\pi \\in \\mathcal{U}(\\alpha,\\beta)} \\langle C,\\pi \\rangle +\\varepsilon KL(\\pi\\|\\alpha \\otimes \\beta)\\ ,\n",
    "$$\n",
    "where\n",
    "$\\ \n",
    "KL(\\pi\\|\\alpha \\otimes \\beta) \n",
    "\\ $ is the KL-divergence and $\\ \\mathcal{U}(\\alpha,\\beta)=\\{\\pi: \\pi\\mathcal{1}=\\alpha, \\pi^{T}\\mathcal{1}=\\beta\\}$."
   ]
  },
  {
   "attachments": {},
   "cell_type": "markdown",
   "metadata": {},
   "source": [
    "# Sinkhorn iteration function\n",
    "The optimal coupling $\\pi^{*}$ has the following form :\n",
    "$$\n",
    "\\pi^{*} = \\alpha \\odot diag(u)K diag(v)\\odot \\beta\n",
    "$$\n",
    "and we know that $\\pi^{*}\\mathbb{1}=\\alpha$ and $(\\pi^{*})^{T}\\mathbb{1}=\\beta$.\n",
    "###\n",
    "Therefore, Sinkhorn updates is given by the following alternative projections\n",
    "$$\n",
    "u^{t+1}  \\leftarrow \\frac{1}{K(v^{t}\\odot \\beta)}\\ , \\\\\n",
    "v^{t+1}  \\leftarrow \\frac{1}{K^{T}(u^{t+1}\\odot \\alpha)}\\ , \n",
    "$$\n",
    "where \n",
    "$K = e^{-\\frac{C}{\\varepsilon}}\\in M_{n\\times m}(\\mathbb{R}),\\ \\alpha \\in \\mathbb{R}^{n},\\ \\beta \\in \\mathbb{R}^{m}\\ ,\\ u\\in \\mathbb{R}^{n},\\ v\\in \\mathbb{R}^{m}\\ and \\ (u^{0},v^{0})=(u,v)\\ .$\n"
   ]
  },
  {
   "cell_type": "code",
   "execution_count": null,
   "metadata": {},
   "outputs": [],
   "source": [
    "def sinkhorn( epsilons, N, x, y, iterations = 1000 ):\n",
    "    # Sinkhorn\n",
    "    print(\"Sinkhorn.... \")\n",
    "    SinkhornP                  = []\n",
    "    results_Sinkhorn           = []\n",
    "    times_Sinkhorn             = []\n",
    "    Pmatrix_dist_linVSsinkhorn = []\n",
    "    for eps in epsilons:\n",
    "\n",
    "        print( \"Sinkhorn for epsilon = \"+str(eps)+\":\" )    \n",
    "        #Cost matrix\n",
    "        C = distmat( x, y )\n",
    "        \n",
    "        # a and b\n",
    "        a = normalize( np.ones( N[0] ) )\n",
    "        b = normalize( np.ones( N[1] ) )\n",
    "\n",
    "        #Kernel\n",
    "        K = np.exp( - C/eps )\n",
    "\n",
    "\n",
    "        print(\"Doing for (\",N[0],N[1],\").\")\n",
    "        print( \" |- Iterating\")\n",
    "\n",
    "        #Inflating\n",
    "        u = a\n",
    "        v = b\n",
    "\n",
    "        start = time.time()\n",
    "        Optimizer = computational_OT.Sinkhorn( K, a, b, u, v, eps )\n",
    "        out       = Optimizer._update( maxiter = iterations )\n",
    "        results_Sinkhorn.append( out )\n",
    "        end = time.time()\n",
    "        times_Sinkhorn.append( 1e3 * ( end - start ) )\n",
    "        print( \" |- Computing P\")\n",
    "        print( \"\" )\n",
    "        SinkhornP.append( GetP( np.exp( out['potential_f']/eps ), K, np.exp( out['potential_g']/eps ) ) )\n",
    "    return {\n",
    "        'results_list': results_Sinkhorn,\n",
    "        'time_stamps' : times_Sinkhorn,\n",
    "        'Ps'          : SinkhornP\n",
    "    }\n",
    "    "
   ]
  },
  {
   "attachments": {},
   "cell_type": "markdown",
   "metadata": {},
   "source": [
    "# Damped Newton(without precondition) iteration function\n",
    "\n",
    "The dual formulation of OT is given by\n",
    "$$\n",
    "OT_{\\varepsilon} = \\max_{f\\in \\mathbb{R}^{n}, g\\in\\mathbb{R}^{m}} \\langle f, \\alpha \\rangle + \\langle g, \\beta \\rangle - \\varepsilon\\left(\\langle\\alpha \\otimes \\beta, e^{\\frac{f}{\\varepsilon}}\\odot K \\odot e^{\\frac{g}{\\varepsilon}}  \\rangle-1\\right)\\ ,\n",
    "$$\n",
    "where\n",
    "$$\n",
    "\\alpha \\in \\mathcal{M}_{1}(\\mathcal{X}),\\ \\beta \\in \\mathcal{M}_{1}(\\mathcal{Y}),\\ \\varepsilon>0,\\ f\\in\\mathbb{R}^{n},\\ g\\in \\mathbb{R}^{m}\\ .\n",
    "$$\n",
    "### \n",
    "The Hessian is given by \n",
    "$\\nabla^{2}Q_{\\varepsilon}(f,g)=\\frac{-1}{\\varepsilon}\n",
    "\\begin{pmatrix}\n",
    "\\Delta(\\alpha) && \\pi_{\\varepsilon}\\\\\n",
    "\\pi^{T}_{\\varepsilon} && \\Delta(\\beta) \n",
    "\\end{pmatrix}\n",
    "\\ , \\ $ where $\\pi\\mathbb{1}_{m} = \\alpha,\\ \\pi^{T}\\mathbb{1}_{n}=\\beta,\\ $ and $\\Delta = diag: \\mathbb{R}^{n} \\rightarrow M_{n}(\\mathbb{R})$ is the linear operator mapping a vector  to a diagonal matrix  containing  this vector.\n",
    "#####\n",
    "\n",
    "This implies \n",
    "$$\n",
    "\\begin{pmatrix}\n",
    "\\Delta(\\alpha) && \\pi_{\\varepsilon}\\\\\n",
    "\\pi^{T}_{\\varepsilon} && \\Delta(\\beta) \n",
    "\\end{pmatrix}\n",
    "\\begin{pmatrix}\n",
    "\\mathbb{1}_{n}\\\\\n",
    "\\mathbb{1}_{m}\n",
    "\\end{pmatrix} = 0\\ ,\n",
    "$$\n",
    "that is,\n",
    "$$\n",
    "\\begin{pmatrix}\n",
    "\\mathbb{1}_{n}\\\\\n",
    "\\mathbb{1}_{m}\n",
    "\\end{pmatrix}\\in Ker(\\nabla^{2}Q_{\\varepsilon}(f,g))\\ .\n",
    "$$\n",
    "Hence, $\\nabla^{2}Q_{\\varepsilon}(f,g)$ is singular. Therefore, on regularization we have the following Hessian\n",
    "$\n",
    "H_{reg} := \\nabla^{2}Q_{\\varepsilon}(f,g)+\\lambda cc^{T}\\ ,\n",
    "$ \n",
    "where $c= \\begin{pmatrix}\\frac{\\mathbb{1}}{\\sqrt{n+m}}\\\\-\\frac{\\mathbb{1}}{\\sqrt{n+m}}\\end{pmatrix}\\in M_{(n+m),1}(\\mathbb{R})$.\n",
    "###\n",
    "Now, at the $k^{th}$ iteration solve\n",
    "$\\nabla^{2}Q_{\\varepsilon}(f,g)p_{k} = \\nabla Q_{\\varepsilon}(f,g)$ to obtain the optimizing direction vector $p_{k}$ and then perform the Armijo condition to obtain the update step $\\alpha_{k}$ such that we have the update\n",
    "$$\n",
    "(f,g) \\leftarrow (f,g) + \\alpha_{k} p_{k}\\ .\n",
    "$$\n",
    "\n",
    "\n",
    "\n",
    "\n"
   ]
  },
  {
   "cell_type": "code",
   "execution_count": null,
   "metadata": {},
   "outputs": [],
   "source": [
    "def dampednewton( epsilons, N, x, y, rho = 0.95, c = 0.05, iterations = 50 ):\n",
    "    DampedNewtonP=[]\n",
    "    results_DampedNewton  = []\n",
    "    times_DampedNewton    = []\n",
    "    Hessians_DampedNewton = []\n",
    "    #Cost matrix\n",
    "    C = distmat( x, y )\n",
    "\n",
    "    # a and b\n",
    "    a = normalize( np.ones( N[0] ) )\n",
    "    b = normalize( np.ones( N[1] ) )\n",
    "\n",
    "    for eps in epsilons:\n",
    "        print(\"Damped Newton for epsilon = \"+str(eps)+\":\")     \n",
    "\n",
    "        #Kernel\n",
    "        K = np.exp( - C/eps )\n",
    "        f, g = a, b\n",
    "\n",
    "        print(\"Doing for (\",N[0], N[1],\").\")\n",
    "        print( \" |- Iterating\")  \n",
    "        start = time.time()\n",
    "        Optimizer = computational_OT.DampedNewton( K, a, b, f, g, eps, rho, c )\n",
    "        out = Optimizer._update( maxiter = iterations )\n",
    "        results_DampedNewton.append( out )\n",
    "        end = time.time()\n",
    "        times_DampedNewton.append( 1e3 * ( end - start ) )\n",
    "        print( \" |- Computing P\")\n",
    "        DampedNewtonP.append( GetP( np.exp( out['potential_f']/eps ), K, np.exp( out['potential_g']/eps ) ) )\n",
    "        print( \" |- Recording (unstabilized) Hessian \\n\")\n",
    "\n",
    "        mat  = - eps * Optimizer.Hessian\n",
    "        diag = 1/np.sqrt( np.concatenate( ( a, b ), axis = None ) )\n",
    "        mat = diag[:,None] * mat * diag[None,:]\n",
    "        Hessians_DampedNewton.append( mat )\n",
    "\n",
    "    return {\n",
    "        'results_list': results_DampedNewton,\n",
    "        'time_stamps' : times_DampedNewton,\n",
    "        'Ps'          : DampedNewtonP,\n",
    "        'Hessians'    : Hessians_DampedNewton \n",
    "    }\n",
    "    "
   ]
  },
  {
   "attachments": {},
   "cell_type": "markdown",
   "metadata": {},
   "source": [
    "# Damped Newton with preconditioning iteration function\n",
    "Here we proceed similar to the damped Newton algorithm but with preconditioning.  We consider $t$ eigenvalues of the Hessian and form the following preconditioning matrix:\n",
    "$$\n",
    "P = \\left(I_{n+m}-\\sum_{i-1}^{t}\\left(1 - \\frac{1}{\\sqrt{\\lambda_{i}}}\\right)y_{i}y_{i}^{T}\\right)\\ .\n",
    "$$\n",
    "Now, at the $k^{th}$ iteration we solve the following equation:\n",
    "$$\n",
    "(P\\nabla^{2}Q_{\\varepsilon}(f,g)P)(Pp_{k})=P\\nabla Q_{\\varepsilon}(f,g)\\ ,\n",
    "$$\n",
    "using iterative inversion methods such as \"Conjugate gradient\" and \"GMRES\" to get the update direction $p_{k}$, following which we use the Armijo condition to obtain the step size $\\alpha_{k}$."
   ]
  },
  {
   "cell_type": "code",
   "execution_count": null,
   "metadata": {},
   "outputs": [],
   "source": [
    "def dampednewtonprecondition( epsilons, N, x, y, null_vector, precond_vectors, rho = 0.95, c = 0.05,  iterations = 500, iter_inv = 30, optimizer = 'cg', version = None, debug = False):\n",
    "    reset_starting_point = True\n",
    "    final_modified_Hessians = []\n",
    "    DampedNewtonwithprecondP = []\n",
    "    results_DampedNewtonwithprecond  = []\n",
    "    times_DampedNewtonwithprecond    = []\n",
    "    # Cost matrix\n",
    "        \n",
    "    C = distmat( x, y )\n",
    "\n",
    "    # a and b\n",
    "    a = normalize( np.ones(N[0]) )\n",
    "    b = normalize( np.ones(N[1]) )\n",
    "\n",
    "    f, g = None, None\n",
    "    for eps in epsilons:\n",
    "        print( \"Damped Newton with preconditioning for epsilon = \"+str(eps)+\":\" )    \n",
    "\n",
    "        #Kernel\n",
    "        K = np.exp( - C/eps )\n",
    "\n",
    "        if (f is None) or (g is None): \n",
    "            f, g = a, b\n",
    "\n",
    "        print( \"Doing for (\",N[0], N[1],\").\" )\n",
    "        \n",
    "        print( \" |- Iterating\" )  \n",
    "        start = time.time()\n",
    "        Optimizer = computational_OT.DampedNewton_With_Preconditioner( K, a, b, f, g, eps, rho, c, null_vector, precond_vectors[:] )\n",
    "        out = Optimizer._update( maxiter = iterations, iterative_inversion = iter_inv, version = version, debug = debug, optType = optimizer )\n",
    "        results_DampedNewtonwithprecond.append( out )\n",
    "        end = time.time()\n",
    "        \n",
    "        times_DampedNewtonwithprecond.append( 1e3 * ( end - start ) )\n",
    "        print( \" |- Computing P\" )\n",
    "\n",
    "        if not reset_starting_point:\n",
    "            f = Optimizer.x[:a.shape[0]]\n",
    "            g = Optimizer.x[a.shape[0]:]\n",
    " \n",
    "\n",
    "        DampedNewtonwithprecondP.append( GetP( np.exp( out['potential_f']/eps ), K, np.exp( out['potential_g']/eps ) ) )\n",
    "        final_modified_Hessians.append( Optimizer.modified_Hessian )\n",
    "    return {\n",
    "        'results_list': results_DampedNewtonwithprecond,\n",
    "        'time_stamps' : times_DampedNewtonwithprecond,\n",
    "        'Ps'          : DampedNewtonwithprecondP,\n",
    "        'Hessians'    : final_modified_Hessians \n",
    "    }\n",
    "    "
   ]
  },
  {
   "attachments": {},
   "cell_type": "markdown",
   "metadata": {},
   "source": [
    "# Comparison for Data size 400 and 500"
   ]
  },
  {
   "cell_type": "code",
   "execution_count": null,
   "metadata": {},
   "outputs": [],
   "source": [
    "N = [ 400, 500 ]"
   ]
  },
  {
   "cell_type": "code",
   "execution_count": null,
   "metadata": {},
   "outputs": [],
   "source": [
    "x     = np.random.rand( 2, N[0] ) - 0.5\n",
    "theta = 2 * np.pi * np.random.rand( 1, N[1] )\n",
    "r     = 0.8 + .2 * np.random.rand( 1, N[1] )\n",
    "y     = np.vstack( ( r * np.cos(theta), r * np.sin(theta) ) )"
   ]
  },
  {
   "attachments": {},
   "cell_type": "markdown",
   "metadata": {},
   "source": [
    "## I. Sinkhorn"
   ]
  },
  {
   "cell_type": "code",
   "execution_count": null,
   "metadata": {},
   "outputs": [],
   "source": [
    "epsilons = [  0.03, 0.001, 0.0009, 0.00084 ]\n",
    "results_sinkhorn = sinkhorn( epsilons, N, x, y, iterations = 20000 )"
   ]
  },
  {
   "attachments": {},
   "cell_type": "markdown",
   "metadata": {},
   "source": [
    "### Error plot"
   ]
  },
  {
   "cell_type": "code",
   "execution_count": null,
   "metadata": {},
   "outputs": [],
   "source": [
    "plt.figure( figsize = ( 20, 7 ) )\n",
    "\n",
    "plt.subplot( 2, 1, 1 ),\n",
    "plt.title( \"$||P1 -a||_1+||P1 -b||_1$\" )\n",
    "for i in range(len(results_sinkhorn['results_list'])):\n",
    "  error = np.asarray( results_sinkhorn['results_list'][i]['error_a'] ) + np.asarray( results_sinkhorn['results_list'][i]['error_b'] ) \n",
    "  plt.plot( error, label = 'Sinkhorn for $\\epsilon = $'+ str(epsilons[i]), linewidth = 2 )\n",
    "plt.yscale( 'log' )\n",
    "plt.legend()\n",
    "plt.savefig( \"../Images/SinkhornvsDampedNewton_images/ConvergenceSinkhornvaryingepsilon.png\" )\n",
    "plt.show()"
   ]
  },
  {
   "attachments": {},
   "cell_type": "markdown",
   "metadata": {},
   "source": [
    "## II. Damped Newton without Preconditioning"
   ]
  },
  {
   "cell_type": "code",
   "execution_count": null,
   "metadata": {},
   "outputs": [],
   "source": [
    "epsilons = [  0.5, 0.03, 0.02 ]\n",
    "results_DampedNewton = dampednewton( epsilons, N, x, y )"
   ]
  },
  {
   "attachments": {},
   "cell_type": "markdown",
   "metadata": {},
   "source": [
    "### Error plot"
   ]
  },
  {
   "cell_type": "code",
   "execution_count": null,
   "metadata": {},
   "outputs": [],
   "source": [
    "plt.figure( figsize = ( 20, 7 ) )\n",
    "plt.title( \"$$\" )\n",
    "plt.title( \"$||P1 -a||_1+||P^T 1 -b||_1$\" )\n",
    "\n",
    "for i in range(len(results_DampedNewton['results_list'])):\n",
    "  error = np.asarray( results_DampedNewton['results_list'][i]['error_a'] ) + np.asarray( results_DampedNewton['results_list'][i]['error_b'] )\n",
    "  plt.plot( error, label = 'Damped Newton for $\\epsilon = $'+ str(epsilons[i]), linewidth = 2 )\n",
    "\n",
    "plt.xlabel( \"Number of iterations\" )\n",
    "plt.ylabel( \"Error in log-scale\" )\n",
    "plt.legend()\n",
    "plt.yscale( 'log' )\n",
    "plt.savefig(\"../Images/SinkhornvsDampedNewton_images/ErrorDampedNewtonwithoutPrecond.png\" )\n",
    "plt.show()\n",
    "\n",
    "print( \"\\n Error plots can increase! The error is not the objective function!\" )"
   ]
  },
  {
   "attachments": {},
   "cell_type": "markdown",
   "metadata": {},
   "source": [
    "### Objective function"
   ]
  },
  {
   "cell_type": "code",
   "execution_count": null,
   "metadata": {},
   "outputs": [],
   "source": [
    "plt.figure( figsize = ( 20, 7 ) )\n",
    "plt.title( \"$$\" )\n",
    "plt.title( \"Objective Function\" )\n",
    "\n",
    "for i in range(len(results_DampedNewton['results_list'])):\n",
    "  plt.plot( np.asarray( results_DampedNewton['results_list'][i]['objectives'] ), label = 'Damped Newton for $\\epsilon = $'+ str(epsilons[i]), linewidth = 2 )\n",
    "\n",
    "plt.xlabel( \"Number of iterations\" )\n",
    "plt.ylabel( \"Objective value\" )\n",
    "plt.legend()\n",
    "plt.savefig( \"../Images/SinkhornvsDampedNewton_images/ObjectiveDampedNewtonwithoutPrecond.png\" )\n",
    "plt.show()\n"
   ]
  },
  {
   "attachments": {},
   "cell_type": "markdown",
   "metadata": {},
   "source": [
    "### Alpha plot\n"
   ]
  },
  {
   "cell_type": "code",
   "execution_count": null,
   "metadata": {},
   "outputs": [],
   "source": [
    "plt.figure( figsize = ( 20, 7 ) )\n",
    "plt.subplot( 2, 1, 1 ),\n",
    "plt.title( \"Alpha\" )\n",
    "\n",
    "for i in range(len(results_DampedNewton['results_list'])):\n",
    "  plt.plot( np.asarray( results_DampedNewton['results_list'][i]['linesearch_steps'] ), label = 'Damped Newton for $\\epsilon = $'+ str(epsilons[i]), linewidth = 2 )\n",
    "\n",
    "plt.xlabel( \"Number of iterations\" )\n",
    "plt.ylabel( \"Alpha in log-scale\" )\n",
    "plt.legend()\n",
    "plt.savefig( \"../Images/SinkhornvsDampedNewton_images/AlphaDampedNewtonwithoutPrecond.png\" )\n",
    "plt.show()"
   ]
  },
  {
   "attachments": {},
   "cell_type": "markdown",
   "metadata": {},
   "source": [
    "### Plotting spectrum as a function of $\\varepsilon$"
   ]
  },
  {
   "cell_type": "code",
   "execution_count": null,
   "metadata": {},
   "outputs": [],
   "source": [
    "def spectral_decomposition( mat ):\n",
    "    eig, v = np.linalg.eigh( mat )\n",
    "    sorting_indices = np.argsort( eig )\n",
    "    eig = eig[ sorting_indices ]\n",
    "    v   = v[ : , sorting_indices ]\n",
    "    \n",
    "    print( \"List of smallest eigenvalues: \", eig[ : 10 ] )\n",
    "    print( \"List of largest  eigenvalues: \", eig[ - 10 : ] )\n",
    "    return eig, v"
   ]
  },
  {
   "cell_type": "code",
   "execution_count": null,
   "metadata": {},
   "outputs": [],
   "source": [
    "eigs = []\n",
    "eigvecs = []\n",
    "for i in range(len(epsilons)):\n",
    "    eps = epsilons[i]\n",
    "    print(\"Spectral statistics of Hessian for epsilon = \"+str(eps))\n",
    "    ev = spectral_decomposition( results_DampedNewton['Hessians'][i] )\n",
    "    eigs.append( ev[0] )\n",
    "    eigvecs.append( ev[1] )\n",
    "    print(\"\")\n"
   ]
  },
  {
   "cell_type": "code",
   "execution_count": null,
   "metadata": {},
   "outputs": [],
   "source": [
    "fig, ax=plt.subplots( figsize = ( 5, 12 ), nrows = len(epsilons), ncols = 1, sharey = True )\n",
    "plt.title(\"Histogram of eigenvalues.\")\n",
    "for i in range(len(epsilons)):\n",
    "    ax[i].hist( eigs[i], 50)\n",
    "    ax[i].set_title( \" $\\epsilon$: \"+str(epsilons[i]))\n",
    "    ax[i].set_xlabel( \"Eigenvalues\" )\n",
    "    ax[i].set_yscale( \"log\" )\n",
    "plt.subplots_adjust( wspace = 0, hspace = 0.5 )\n",
    "plt.savefig( \"../Images/SinkhornvsDampedNewton_images/eigenhistunstabilizedDampedNewtonwithoutPrecond.png\" )\n",
    "plt.show()"
   ]
  },
  {
   "attachments": {},
   "cell_type": "markdown",
   "metadata": {},
   "source": [
    "### Actual preconditioning"
   ]
  },
  {
   "cell_type": "code",
   "execution_count": null,
   "metadata": {},
   "outputs": [],
   "source": [
    "def build_preconditioners( num_eigs, modified_Hessian, ansatz = True ):\n",
    "    # Diagonalize\n",
    "    eigenvalues, eigenvectors = np.linalg.eigh( modified_Hessian )\n",
    "    sorting_indices = np.argsort( eigenvalues )\n",
    "    eigenvalues  = eigenvalues[ sorting_indices ]\n",
    "    eigenvectors = eigenvectors[ : , sorting_indices ]\n",
    "    # Form null vector\n",
    "    if not ansatz:\n",
    "        null_vector = eigenvectors[ : , 0 ]\n",
    "    else:\n",
    "        null_vector = np.hstack( ( np.ones(N[0]), - np.ones(N[1]) ) )\n",
    "        norm = np.sqrt( N[0] + N[1] )\n",
    "        null_vector = null_vector/norm\n",
    "    # Form other vectors (only 13)\n",
    "    _, m = eigenvectors.shape\n",
    "    indices = []\n",
    "    for i in range(num_eigs//2):\n",
    "        indices.append( m - i - 2 )\n",
    "        indices.append( i + 1 )\n",
    "    if num_eigs%2 != 0:\n",
    "        indices.append( m - 1 - ( num_eigs//2 ) )\n",
    "   \n",
    "    precond_vectors = eigenvectors[ : , indices ]\n",
    "    precond_vectors = []\n",
    "    for index in indices:\n",
    "        precond_vectors.append( eigenvectors[:,index] )\n",
    "    #\n",
    "    return null_vector, precond_vectors"
   ]
  },
  {
   "cell_type": "code",
   "execution_count": null,
   "metadata": {},
   "outputs": [],
   "source": [
    "num_eigs = 13\n",
    "null_vector, precond_vectors = build_preconditioners( num_eigs, results_DampedNewton['Hessians'][-1], ansatz = False )"
   ]
  },
  {
   "attachments": {},
   "cell_type": "markdown",
   "metadata": {},
   "source": [
    "## III. Damped Newton with Preconditioning"
   ]
  },
  {
   "attachments": {},
   "cell_type": "markdown",
   "metadata": {},
   "source": [
    "### Exact inversion"
   ]
  },
  {
   "cell_type": "code",
   "execution_count": null,
   "metadata": {},
   "outputs": [],
   "source": [
    "epsilons = [ 0.5, 0.001 , 0.00084 ] \n",
    "results_DampedNewtonwithprecond = dampednewtonprecondition( epsilons, N, x, y, null_vector, precond_vectors, iterations = 50, version = None, iter_inv = -1, rho = 0.95 )"
   ]
  },
  {
   "attachments": {},
   "cell_type": "markdown",
   "metadata": {},
   "source": [
    "#### Error plot"
   ]
  },
  {
   "cell_type": "code",
   "execution_count": null,
   "metadata": {},
   "outputs": [],
   "source": [
    "plt.figure( figsize = ( 20,7 ) )\n",
    "plt.title( \"$$\" )\n",
    "plt.title( \"$||P1 -a||_1+||P^T 1 -b||_1$\" )\n",
    "\n",
    "for i in range(len(results_DampedNewtonwithprecond['results_list'])):\n",
    "  error = np.asarray( results_DampedNewtonwithprecond['results_list'][i]['error_a'] ) + np.asarray( results_DampedNewtonwithprecond['results_list'][i]['error_b'] )\n",
    "  plt.plot( error, label = 'Damped Newton with preconditioning for $\\epsilon = $'+ str(epsilons[i]), linewidth = 2 )\n",
    "  \n",
    "plt.xlabel( \"Number of iterations\" )\n",
    "plt.ylabel( \"Error in log-scale\" )\n",
    "plt.legend()  \n",
    "plt.yscale( 'log' )\n",
    "plt.savefig( \"../Images/SinkhornvsDampedNewton_images/ErrorDampedNewtonwithPrecondrho.png\" )\n",
    "plt.show()\n",
    "\n",
    "print( \"\\n Error plots can increase! The error is not the objective function!\" )"
   ]
  },
  {
   "attachments": {},
   "cell_type": "markdown",
   "metadata": {},
   "source": [
    "#### Spectrum of the Hessian"
   ]
  },
  {
   "cell_type": "code",
   "execution_count": null,
   "metadata": {},
   "outputs": [],
   "source": [
    "eigs = []\n",
    "eigvecs = []\n",
    "for i in range(len(epsilons)):\n",
    "    eps = epsilons[i]\n",
    "    print( \"Spectral statistics of Hessian for epsilon = \"+str(eps) )\n",
    "    ev = spectral_decomposition( results_DampedNewtonwithprecond['Hessians'][i] )\n",
    "    eigs.append( ev[0] )\n",
    "    eigvecs.append( ev[1] )\n",
    "    print(\"\")\n"
   ]
  },
  {
   "cell_type": "code",
   "execution_count": null,
   "metadata": {},
   "outputs": [],
   "source": [
    "fig, ax = plt.subplots( figsize = ( 20, 3 ), nrows = 1, ncols = len(epsilons), sharey = True )\n",
    "plt.title(\"Histogram of eigenvalues.\")\n",
    "for i in range(len(epsilons)):\n",
    "    ax[i].hist( eigs[i], 50 )\n",
    "    ax[i].set_title( \" $\\epsilon$: \"+str(epsilons[i]))\n",
    "    ax[i].set_xlabel( \"Eigenvalues\" )\n",
    "    ax[i].set_yscale( \"log\" )\n",
    "plt.subplots_adjust( wspace = 0, hspace = 0 )\n",
    "plt.savefig( \"../Images/SinkhornvsDampedNewton_images/eigenhistunstabilizedDampedNewtonwithPrecond.png\" )\n",
    "plt.show()"
   ]
  },
  {
   "attachments": {},
   "cell_type": "markdown",
   "metadata": {},
   "source": [
    "### Iterative inversion = 2"
   ]
  },
  {
   "attachments": {},
   "cell_type": "markdown",
   "metadata": {},
   "source": [
    "#### rho = 0.5"
   ]
  },
  {
   "cell_type": "code",
   "execution_count": null,
   "metadata": {},
   "outputs": [],
   "source": [
    "epsilons = [ 0.5, 0.03, 0.02, 0.001, 0.00084 ] \n",
    "results_DampedNewtonwithprecond = dampednewtonprecondition( epsilons, N, x, y, null_vector, precond_vectors, iterations = 500, iter_inv = 2, rho = 0.5 )"
   ]
  },
  {
   "cell_type": "code",
   "execution_count": null,
   "metadata": {},
   "outputs": [],
   "source": [
    "plt.figure( figsize = ( 20, 7 ) )\n",
    "plt.title( \"$$\" )\n",
    "plt.title( \"$||P1 -a||_1+||P^T 1 -b||_1$\" )\n",
    "\n",
    "for i in range(len(results_DampedNewtonwithprecond['results_list'])):\n",
    "  error = np.asarray( results_DampedNewtonwithprecond['results_list'][i]['error_a'] ) + np.asarray( results_DampedNewtonwithprecond['results_list'][i]['error_b'] )\n",
    "  plt.plot( error, label = 'Damped Newton with preconditioning for $\\epsilon = $'+ str(epsilons[i]), linewidth = 2 )\n",
    "  \n",
    "plt.xlabel( \"Number of iterations\" )\n",
    "plt.ylabel( \"Error in log-scale\" )\n",
    "plt.legend()  \n",
    "plt.yscale( 'log' )\n",
    "plt.savefig( \"../Images/SinkhornvsDampedNewton_images/ErrorDampedNewtonwithPrecondrho0_5itv2.png\" )\n",
    "plt.show()\n",
    "\n",
    "print( \"\\n Error plots can increase! The error is not the objective function!\" )"
   ]
  },
  {
   "attachments": {},
   "cell_type": "markdown",
   "metadata": {},
   "source": [
    "#### rho = 0.7"
   ]
  },
  {
   "cell_type": "code",
   "execution_count": null,
   "metadata": {},
   "outputs": [],
   "source": [
    "epsilons = [ 0.5, 0.03, 0.02, 0.00084 ] \n",
    "results_DampedNewtonwithprecond = dampednewtonprecondition( epsilons, N, x, y, null_vector, precond_vectors, iterations = 500, iter_inv = 2, rho = 0.7 )"
   ]
  },
  {
   "cell_type": "code",
   "execution_count": null,
   "metadata": {},
   "outputs": [],
   "source": [
    "plt.figure( figsize = ( 20, 7 ) )\n",
    "plt.title( \"$$\" )\n",
    "plt.title( \"$||P1 -a||_1+||P^T 1 -b||_1$\" )\n",
    "\n",
    "for i in range(len(results_DampedNewtonwithprecond['results_list'])):\n",
    "  error = np.asarray( results_DampedNewtonwithprecond['results_list'][i]['error_a'] ) + np.asarray( results_DampedNewtonwithprecond['results_list'][i]['error_b'] )\n",
    "  plt.plot( error, label = 'Damped Newton with preconditioning for $\\epsilon = $'+ str(epsilons[i]), linewidth = 2 )\n",
    "  \n",
    "plt.xlabel( \"Number of iterations\" )\n",
    "plt.ylabel( \"Error in log-scale\" )\n",
    "plt.legend()  \n",
    "plt.yscale( 'log' )\n",
    "plt.savefig( \"../Images/SinkhornvsDampedNewton_images/ErrorDampedNewtonwithPrecondrho0_7itv2.png\" )\n",
    "plt.show()\n",
    "\n",
    "print( \"\\n Error plots can increase! The error is not the objective function!\" )"
   ]
  },
  {
   "attachments": {},
   "cell_type": "markdown",
   "metadata": {},
   "source": [
    "#### rho = 0.9"
   ]
  },
  {
   "cell_type": "code",
   "execution_count": null,
   "metadata": {},
   "outputs": [],
   "source": [
    "epsilons = [ 0.5, 0.03, 0.02, 0.00084 ] \n",
    "results_DampedNewtonwithprecond = dampednewtonprecondition( epsilons, N, x, y, null_vector, precond_vectors, iterations = 500, iter_inv = 2, rho = 0.9 )"
   ]
  },
  {
   "cell_type": "code",
   "execution_count": null,
   "metadata": {},
   "outputs": [],
   "source": [
    "plt.figure( figsize = ( 20, 7 ) )\n",
    "plt.title( \"$$\" )\n",
    "plt.title( \"$||P1 -a||_1+||P^T 1 -b||_1$\" )\n",
    "\n",
    "for i in range(len(results_DampedNewtonwithprecond['results_list'])):\n",
    "  error = np.asarray( results_DampedNewtonwithprecond['results_list'][i]['error_a'] ) + np.asarray( results_DampedNewtonwithprecond['results_list'][i]['error_b'] )\n",
    "  plt.plot( error, label = 'Damped Newton with preconditioning for $\\epsilon = $'+ str(epsilons[i]), linewidth = 2 )\n",
    "  \n",
    "plt.xlabel( \"Number of iterations\" )\n",
    "plt.ylabel( \"Error in log-scale\" )\n",
    "plt.legend()  \n",
    "plt.yscale( 'log' ) \n",
    "plt.savefig( \"../Images/SinkhornvsDampedNewton_images/ErrorDampedNewtonwithPrecondrho0_9itv2.png\" )\n",
    "plt.show()\n",
    "\n",
    "print( \"\\n Error plots can increase! The error is not the objective function!\" )"
   ]
  },
  {
   "attachments": {},
   "cell_type": "markdown",
   "metadata": {},
   "source": [
    "### Iterative Inversion = 5"
   ]
  },
  {
   "attachments": {},
   "cell_type": "markdown",
   "metadata": {},
   "source": [
    "#### rho = 0.5"
   ]
  },
  {
   "cell_type": "code",
   "execution_count": null,
   "metadata": {},
   "outputs": [],
   "source": [
    "epsilons = [ 0.5, 0.03, 0.02, 0.00084 ] \n",
    "results_DampedNewtonwithprecond = dampednewtonprecondition( epsilons, N, x, y, null_vector, precond_vectors, iterations = 500, iter_inv = 5, rho = 0.5 )"
   ]
  },
  {
   "cell_type": "code",
   "execution_count": null,
   "metadata": {},
   "outputs": [],
   "source": [
    "plt.figure( figsize = ( 20, 7 ) )\n",
    "plt.title( \"$$\" )\n",
    "plt.title( \"$||P1 -a||_1+||P^T 1 -b||_1$\" )\n",
    "\n",
    "for i in range(len(results_DampedNewtonwithprecond['results_list'])):\n",
    "  error = np.asarray( results_DampedNewtonwithprecond['results_list'][i]['error_a'] ) + np.asarray( results_DampedNewtonwithprecond['results_list'][i]['error_b'] )\n",
    "  plt.plot( error, label = 'Damped Newton with preconditioning for $\\epsilon = $'+ str(epsilons[i]), linewidth = 2 )\n",
    "  \n",
    "plt.xlabel( \"Number of iterations\" )\n",
    "plt.ylabel( \"Error in log-scale\" )\n",
    "plt.legend()  \n",
    "plt.yscale( 'log' )\n",
    "plt.savefig( \"../Images/SinkhornvsDampedNewton_images/ErrorDampedNewtonwithPrecondrho0_5itv5.png\" )\n",
    "plt.show()\n",
    "\n",
    "print( \"\\n Error plots can increase! The error is not the objective function!\" )"
   ]
  },
  {
   "attachments": {},
   "cell_type": "markdown",
   "metadata": {},
   "source": [
    "#### rho = 0.7"
   ]
  },
  {
   "cell_type": "code",
   "execution_count": null,
   "metadata": {},
   "outputs": [],
   "source": [
    "epsilons = [ 0.5, 0.03, 0.02, 0.00084 ] \n",
    "results_DampedNewtonwithprecond = dampednewtonprecondition( epsilons, N, x, y, null_vector, precond_vectors, iterations = 500, iter_inv = 5, rho = 0.7 )"
   ]
  },
  {
   "cell_type": "code",
   "execution_count": null,
   "metadata": {},
   "outputs": [],
   "source": [
    "plt.figure( figsize = ( 20, 7 ) )\n",
    "plt.title( \"$$\" )\n",
    "plt.title( \"$||P1 -a||_1+||P^T 1 -b||_1$\" )\n",
    "\n",
    "for i in range(len(results_DampedNewtonwithprecond['results_list'])):\n",
    "  error = np.asarray( results_DampedNewtonwithprecond['results_list'][i]['error_a'] ) + np.asarray( results_DampedNewtonwithprecond['results_list'][i]['error_b'] )\n",
    "  plt.plot( error, label = 'Damped Newton with preconditioning for $\\epsilon = $'+ str(epsilons[i]), linewidth = 2 )\n",
    "  \n",
    "plt.xlabel( \"Number of iterations\" )\n",
    "plt.ylabel( \"Error in log-scale\" )\n",
    "plt.legend()  \n",
    "plt.yscale( 'log' )\n",
    "plt.savefig( \"../Images/SinkhornvsDampedNewton_images/ErrorDampedNewtonwithPrecondrho0_7itv5.png\" )\n",
    "plt.show()\n",
    "\n",
    "print( \"\\n Error plots can increase! The error is not the objective function!\" )"
   ]
  },
  {
   "attachments": {},
   "cell_type": "markdown",
   "metadata": {},
   "source": [
    "#### rho = 0.9"
   ]
  },
  {
   "cell_type": "code",
   "execution_count": null,
   "metadata": {},
   "outputs": [],
   "source": [
    "epsilons = [ 0.5, 0.03, 0.02, 0.00084 ] \n",
    "results_DampedNewtonwithprecond = dampednewtonprecondition( epsilons, N, x, y, null_vector, precond_vectors, iterations = 500, iter_inv = 5, rho = 0.9 )"
   ]
  },
  {
   "cell_type": "code",
   "execution_count": null,
   "metadata": {},
   "outputs": [],
   "source": [
    "plt.figure( figsize = ( 20, 7 ) )\n",
    "plt.title( \"$$\" )\n",
    "plt.title( \"$||P1 -a||_1+||P^T 1 -b||_1$\" )\n",
    "\n",
    "for i in range(len(results_DampedNewtonwithprecond['results_list'])):\n",
    "  error = np.asarray( results_DampedNewtonwithprecond['results_list'][i]['error_a'] ) + np.asarray( results_DampedNewtonwithprecond['results_list'][i]['error_b'] )\n",
    "  plt.plot( error, label = 'Damped Newton with preconditioning for $\\epsilon = $'+ str(epsilons[i]), linewidth = 2 )\n",
    "  \n",
    "plt.xlabel( \"Number of iterations\" )\n",
    "plt.ylabel( \"Error in log-scale\" )\n",
    "plt.legend()  \n",
    "plt.yscale( 'log' )\n",
    "plt.savefig( \"../Images/SinkhornvsDampedNewton_images/ErrorDampedNewtonwithPrecondrho0_9itv5.png\" )\n",
    "plt.show()\n",
    "\n",
    "print( \"\\n Error plots can increase! The error is not the objective function!\" )"
   ]
  },
  {
   "attachments": {},
   "cell_type": "markdown",
   "metadata": {},
   "source": [
    "### Iterative Inversion = 10"
   ]
  },
  {
   "attachments": {},
   "cell_type": "markdown",
   "metadata": {},
   "source": [
    "#### rho = 0.5"
   ]
  },
  {
   "cell_type": "code",
   "execution_count": null,
   "metadata": {},
   "outputs": [],
   "source": [
    "epsilons = [ 0.5, 0.03, 0.02, 0.00084 ] \n",
    "results_DampedNewtonwithprecond = dampednewtonprecondition( epsilons, N, x, y, null_vector, precond_vectors, iterations = 500, iter_inv = 10, rho = 0.5 )"
   ]
  },
  {
   "cell_type": "code",
   "execution_count": null,
   "metadata": {},
   "outputs": [],
   "source": [
    "plt.figure( figsize = ( 20, 7 ) )\n",
    "plt.title( \"$$\" )\n",
    "plt.title( \"$||P1 -a||_1+||P^T 1 -b||_1$\" )\n",
    "\n",
    "for i in range(len(results_DampedNewtonwithprecond['results_list'])):\n",
    "  error = np.asarray( results_DampedNewtonwithprecond['results_list'][i]['error_a'] ) + np.asarray( results_DampedNewtonwithprecond['results_list'][i]['error_b'] )\n",
    "  plt.plot( error, label = 'Damped Newton with preconditioning for $\\epsilon = $'+ str(epsilons[i]), linewidth = 2 )\n",
    "  \n",
    "plt.xlabel( \"Number of iterations\" )\n",
    "plt.ylabel( \"Error in log-scale\" )\n",
    "plt.legend()  \n",
    "plt.yscale( 'log' )\n",
    "plt.savefig( \"../Images/SinkhornvsDampedNewton_images/ErrorDampedNewtonwithPrecondrho0_5itv10.png\" ) \n",
    "plt.show()\n",
    "\n",
    "print( \"\\n Error plots can increase! The error is not the objective function!\" )"
   ]
  },
  {
   "attachments": {},
   "cell_type": "markdown",
   "metadata": {},
   "source": [
    "#### rho = 0.7"
   ]
  },
  {
   "cell_type": "code",
   "execution_count": null,
   "metadata": {},
   "outputs": [],
   "source": [
    "epsilons = [ 0.5, 0.03, 0.02, 0.00084 ] \n",
    "results_DampedNewtonwithprecond = dampednewtonprecondition( epsilons, N, x, y, null_vector, precond_vectors, iterations = 500, iter_inv = 10, rho = 0.7 )"
   ]
  },
  {
   "cell_type": "code",
   "execution_count": null,
   "metadata": {},
   "outputs": [],
   "source": [
    "plt.figure( figsize = ( 20, 7 ) )\n",
    "plt.title( \"$$\" )\n",
    "plt.title( \"$||P1 -a||_1+||P^T 1 -b||_1$\" )\n",
    "\n",
    "for i in range(len(results_DampedNewtonwithprecond['results_list'])):\n",
    "  error = np.asarray(results_DampedNewtonwithprecond['results_list'][i]['error_a']) + np.asarray(results_DampedNewtonwithprecond['results_list'][i]['error_b'])\n",
    "  plt.plot( error, label = 'Damped Newton with preconditioning for $\\epsilon = $'+ str(epsilons[i]), linewidth = 2 )\n",
    "  \n",
    "plt.xlabel( \"Number of iterations\" )\n",
    "plt.ylabel( \"Error in log-scale\" )\n",
    "plt.legend()  \n",
    "plt.yscale( 'log' )\n",
    "plt.savefig( \"../Images/SinkhornvsDampedNewton_images/ErrorDampedNewtonwithPrecondrho0_7itv10.png\" )\n",
    "plt.show()\n",
    "\n",
    "print( \"\\n Error plots can increase! The error is not the objective function!\" )"
   ]
  },
  {
   "attachments": {},
   "cell_type": "markdown",
   "metadata": {},
   "source": [
    "#### rho = 0.9"
   ]
  },
  {
   "cell_type": "code",
   "execution_count": null,
   "metadata": {},
   "outputs": [],
   "source": [
    "epsilons = [ 0.5, 0.03, 0.02, 0.00084 ] \n",
    "results_DampedNewtonwithprecond = dampednewtonprecondition( epsilons, N, x, y, null_vector, precond_vectors, iterations = 500,iter_inv = 10, rho = 0.9 )"
   ]
  },
  {
   "cell_type": "code",
   "execution_count": null,
   "metadata": {},
   "outputs": [],
   "source": [
    "plt.figure( figsize = ( 20, 7 ) )\n",
    "plt.title( \"$$\" )\n",
    "plt.title( \"$||P1 -a||_1+||P^T 1 -b||_1$\" )\n",
    "\n",
    "for i in range(len(results_DampedNewtonwithprecond['results_list'])):\n",
    "  error = np.asarray( results_DampedNewtonwithprecond['results_list'][i]['error_a'] ) + np.asarray( results_DampedNewtonwithprecond['results_list'][i]['error_b'] )\n",
    "  plt.plot( error, label = 'Damped Newton with preconditioning for $\\epsilon = $'+ str(epsilons[i]), linewidth = 2 )\n",
    "  \n",
    "plt.xlabel( \"Number of iterations\" ) \n",
    "plt.ylabel( \"Error in log-scale\" )\n",
    "plt.legend()  \n",
    "plt.yscale( 'log' )\n",
    "plt.savefig( \"../Images/SinkhornvsDampedNewton_images/ErrorDampedNewtonwithPrecondrho0_9itv10.png\" )\n",
    "plt.show()\n",
    "\n",
    "print( \"\\n Error plots can increase! The error is not the objective function!\" ) "
   ]
  },
  {
   "attachments": {},
   "cell_type": "markdown",
   "metadata": {},
   "source": [
    "#### rho = 0.95"
   ]
  },
  {
   "cell_type": "code",
   "execution_count": null,
   "metadata": {},
   "outputs": [],
   "source": [
    "epsilons = [ 0.5, 0.03, 0.02, 0.00084 ] \n",
    "results_DampedNewtonwithprecond = dampednewtonprecondition(  epsilons, N, x, y, null_vector, precond_vectors, iterations = 500, iter_inv = 10, rho = 0.95 )"
   ]
  },
  {
   "cell_type": "code",
   "execution_count": null,
   "metadata": {},
   "outputs": [],
   "source": [
    "plt.figure( figsize = ( 20, 7 ) )\n",
    "plt.title( \"$$\" )\n",
    "plt.title( \"$||P1 -a||_1+||P^T 1 -b||_1$\" )\n",
    "\n",
    "for i in range(len(results_DampedNewtonwithprecond['results_list'])):\n",
    "  error = np.asarray( results_DampedNewtonwithprecond['results_list'][i]['error_a'] ) + np.asarray( results_DampedNewtonwithprecond['results_list'][i]['error_b'] )\n",
    "  plt.plot( error, label = 'Damped Newton with preconditioning for $\\epsilon = $'+ str(epsilons[i]), linewidth = 2 )\n",
    "  \n",
    "plt.xlabel( \"Number of iterations\" )\n",
    "plt.ylabel( \"Error in log-scale\" )\n",
    "plt.legend()  \n",
    "plt.yscale( 'log' )\n",
    "plt.savefig( \"../Images/SinkhornvsDampedNewton_images/ErrorDampedNewtonwithPrecondrho0_95itv10.png\" )\n",
    "plt.show()\n",
    "print( \"\\n Error plots can increase! The error is not the objective function!\" )"
   ]
  }
 ],
 "metadata": {
  "kernelspec": {
   "display_name": ".venv_computational-OT",
   "language": "python",
   "name": "python3"
  },
  "language_info": {
   "codemirror_mode": {
    "name": "ipython",
    "version": 3
   },
   "file_extension": ".py",
   "mimetype": "text/x-python",
   "name": "python",
   "nbconvert_exporter": "python",
   "pygments_lexer": "ipython3",
   "version": "3.10.12"
  },
  "orig_nbformat": 4
 },
 "nbformat": 4,
 "nbformat_minor": 2
}
