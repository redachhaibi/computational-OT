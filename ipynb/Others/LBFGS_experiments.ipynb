{
 "cells": [
  {
   "cell_type": "markdown",
   "metadata": {},
   "source": [
    "# In this notebook we look into the performance of L-BFGS-B algorithm."
   ]
  },
  {
   "cell_type": "code",
   "execution_count": null,
   "metadata": {},
   "outputs": [],
   "source": [
    "from __future__ import division\n",
    "import os\n",
    "import numpy as np\n",
    "import matplotlib.pyplot as plt\n",
    "import scipy as sc\n",
    "import pylab as pyl\n",
    "import time\n",
    "import cvxpy as cp\n",
    "from numpy import linalg as Lin\n",
    "from matplotlib import cm\n",
    "from mpl_toolkits.mplot3d import Axes3D\n",
    "from matplotlib import style\n",
    "from sklearn import datasets\n",
    "import computational_OT\n",
    "\n",
    "import warnings\n",
    "\n",
    "warnings.filterwarnings('ignore')\n",
    "\n",
    "\n",
    "%matplotlib inline\n",
    "%load_ext autoreload\n",
    "%autoreload 2"
   ]
  },
  {
   "cell_type": "code",
   "execution_count": null,
   "metadata": {},
   "outputs": [],
   "source": [
    "relative_path_to_new_folder = \"../Images\"\n",
    "os.makedirs(relative_path_to_new_folder, exist_ok = True)\n",
    "if not os.path.isdir('../Images/LBFGS_images'):\n",
    "    os.makedirs('../Images/LBFGS_images')"
   ]
  },
  {
   "attachments": {},
   "cell_type": "markdown",
   "metadata": {},
   "source": [
    "### Helper Functions"
   ]
  },
  {
   "cell_type": "code",
   "execution_count": null,
   "metadata": {},
   "outputs": [],
   "source": [
    "\"\"\"To compute distance matrix\"\"\"\n",
    "def distmat( x, y ):\n",
    "    return np.sum( x**2, 0 )[:,None] + np.sum( y**2, 0 )[None,:] - 2 * x.transpose().dot( y )\n",
    "\n",
    "\"\"\"To Normalise a vector\"\"\"\n",
    "normalize = lambda a: a/np.sum( a )\n",
    "\n",
    "\"\"\"To Compute P\"\"\"\n",
    "def GetP( u, K, v ):\n",
    "    return u[:,None] * K * v[None,:]\n",
    "\n",
    "def plotp( x, col, plt, scale = 200, edgecolors = \"k\" ):\n",
    "  return plt.scatter( x[0,:], x[1,:], s = scale, edgecolors = edgecolors, c = col, cmap = 'plasma', linewidths = 2 )"
   ]
  },
  {
   "cell_type": "code",
   "execution_count": null,
   "metadata": {},
   "outputs": [],
   "source": [
    "from sklearn.cluster import KMeans"
   ]
  },
  {
   "cell_type": "code",
   "execution_count": null,
   "metadata": {},
   "outputs": [],
   "source": [
    "def randomsampledata( N ):\n",
    "  x = []\n",
    "  y = []\n",
    "  N = np.sort( N )\n",
    "  for i in range(len(N)):\n",
    "    x.append( np.random.rand( 2, N[i] ) - 0.5 )\n",
    "    theta = 2 * np.pi * np.random.rand( 1, N[i] )\n",
    "    r = 0.8 + 0.2 * np.random.rand( 1, N[i] )\n",
    "    y.append( np.vstack( ( np.cos(theta) * r, np.sin(theta) * r ) ) )\n",
    "  \n",
    "  return x, y, N"
   ]
  },
  {
   "cell_type": "code",
   "execution_count": null,
   "metadata": {},
   "outputs": [],
   "source": [
    "N = [ 200, 400, 600, 800, 1000 ]\n",
    "x, y, N = randomsampledata( N )"
   ]
  },
  {
   "cell_type": "markdown",
   "metadata": {},
   "source": [
    "### I. For fixed epsilon"
   ]
  },
  {
   "cell_type": "code",
   "execution_count": null,
   "metadata": {},
   "outputs": [],
   "source": [
    "BFGSP = []\n",
    "results_BFGS = []\n",
    "times_BFGS = []\n",
    "# BFGS\n",
    "print(\"BFGS....\")\n",
    "for i in range(len(N)):\n",
    "\n",
    "      xi, yi = x[i], y[i]\n",
    "      #Cost matrix\n",
    "      C = distmat( xi, yi )\n",
    "      # a and b\n",
    "      a = normalize( np.ones( N[i] ) )\n",
    "      a = a.reshape( a.shape[0], - 1 )\n",
    "      b = normalize( np.ones( N[i] ) ) \n",
    "      b = b.reshape( b.shape[0], - 1 )\n",
    "\n",
    "      #Epsilon\n",
    "      epsilon = .06\n",
    "\n",
    "      #Kernel\n",
    "      K = np.exp( - C/epsilon )\n",
    "      \n",
    "      f,g = a,b\n",
    "      print( \"Doing for \", N[i] )\n",
    "      print( \" |- Iterating\" )\n",
    "      start = time.time()\n",
    "      Optimizer = computational_OT.L_BFGS_B( K, a, b, f, g, epsilon )\n",
    "      out = Optimizer._update( maxiter_lbgfs = 100 )\n",
    "      results_BFGS.append( out )\n",
    "      end = time.time()\n",
    "      times_BFGS.append( 1e3 * ( end - start ) )\n",
    "      print( \" |- Computing P\")\n",
    "      print( \"\" )\n",
    "      BFGSP.append( GetP( np.exp( out['potential_f']/epsilon ), K, np.exp( out['potential_g']/epsilon ) ) )\n",
    "\n",
    "     "
   ]
  },
  {
   "cell_type": "code",
   "execution_count": null,
   "metadata": {},
   "outputs": [],
   "source": [
    "plt.figure( figsize = ( 20, 7 ) )\n",
    "plt.subplot( 2, 1, 1 )\n",
    "plt.title( \"$$\" )\n",
    "plt.title( \"$||P1 -a||_1$\" )\n",
    "\n",
    "for result in results_BFGS:\n",
    "  plt.plot( np.asarray(result['error_a']), linewidth = 2 )\n",
    "plt.yscale( 'log')\n",
    "plt.legend([ \"Population size: \"+str(i) for i in N ], loc = \"upper right\" )\n",
    "plt.subplot( 2, 1, 2 )\n",
    "\n",
    "plt.title( \"$||P^T 1 -b||_1$\" )\n",
    "for result in results_BFGS:\n",
    "  plt.plot( np.asarray(result['error_b']), linewidth = 2 )\n",
    "plt.yscale( 'log' )\n",
    "plt.legend( [ \"Population size: \"+str(i) for i in N ], loc = \"upper right\" )\n",
    "plt.savefig( \"../Images/LBFGS_images/LBFGSconvergence.png\" )\n",
    "plt.show()\n",
    "\n",
    "print(\"\\n Error plots can increase! The error is not the objective function!\")"
   ]
  },
  {
   "cell_type": "code",
   "execution_count": null,
   "metadata": {},
   "outputs": [],
   "source": [
    "plt.figure( figsize = ( 20, 7 ) )\n",
    "plt.subplot( 2, 1, 1 ),\n",
    "plt.title( \"Objective Function\" )\n",
    "for result in results_BFGS:\n",
    "  plt.plot( np.asarray(result['objectives']), linewidth = 2 )\n",
    "plt.legend( [ str(i) for i in N ], loc = \"upper right\" )\n",
    "plt.show()"
   ]
  },
  {
   "cell_type": "markdown",
   "metadata": {},
   "source": [
    "### II. For varying epsilon"
   ]
  },
  {
   "cell_type": "code",
   "execution_count": null,
   "metadata": {},
   "outputs": [],
   "source": [
    "BFGSP = []\n",
    "results_BFGS = []\n",
    "epsilons = [ 0.01, 0.05, 0.1, 0.5 ]\n",
    "\n",
    "# BFGS\n",
    "print(\"BFGS....\")\n",
    "N = ( 400, 400 )\n",
    "for eps in epsilons:\n",
    "\n",
    "      #Cost matrix\n",
    "      C = distmat( x[1], y[1] )\n",
    "      # a and b\n",
    "      a = normalize( np.ones( N[1] ) )\n",
    "      a = a.reshape( a.shape[0], - 1 )\n",
    "      b = normalize( np.ones( N[1] ) )\n",
    "      b = b.reshape( b.shape[0], - 1 )\n",
    "\n",
    "      #Kernel\n",
    "      K = np.exp( - C/eps )\n",
    "      \n",
    "      f, g = a, b\n",
    "      print( \"Doing for \",( N[1], N[1] ) )\n",
    "      print( \"\\n Epsilon: \" +str(eps) )\n",
    "      print( \" |- Iterating\" )\n",
    "      start = time.time()\n",
    "      Optimizer = computational_OT.L_BFGS_B( K, a, b, f, g, eps )\n",
    "      out = Optimizer._update( maxiter_lbgfs = 10 )\n",
    "      results_BFGS.append( out )\n",
    "      end = time.time()\n",
    "      print( \" |- Computing P\")\n",
    "      print( \"\" )\n",
    "      BFGSP.append( GetP( np.exp( out['potential_f']/epsilon ), K, np.exp( out['potential_g']/epsilon ) ) )\n",
    "\n",
    "     "
   ]
  },
  {
   "cell_type": "code",
   "execution_count": null,
   "metadata": {},
   "outputs": [],
   "source": [
    "plt.figure( figsize = ( 20, 7 ) )\n",
    "plt.title( \"$$\" )\n",
    "plt.title( \"$||P1 -a||_1+||P^T 1 -b||_1$\" )\n",
    "\n",
    "for i in range( len(results_BFGS) ):\n",
    "  error = np.asarray( results_BFGS[i]['error_a'] ) + np.asarray( results_BFGS[i]['error_b'] )\n",
    "  plt.plot( error, label = 'LBGFS for $\\epsilon = $'+ str(epsilons[i]), linewidth = 2 )\n",
    "plt.yscale( 'log' )\n",
    "plt.savefig( \"../Images/LBFGS_images/LBGFSvaryepsilon.png\" )\n",
    "plt.show()"
   ]
  },
  {
   "cell_type": "code",
   "execution_count": null,
   "metadata": {},
   "outputs": [],
   "source": []
  }
 ],
 "metadata": {
  "kernelspec": {
   "display_name": ".venv_computational-OT",
   "language": "python",
   "name": "python3"
  },
  "language_info": {
   "codemirror_mode": {
    "name": "ipython",
    "version": 3
   },
   "file_extension": ".py",
   "mimetype": "text/x-python",
   "name": "python",
   "nbconvert_exporter": "python",
   "pygments_lexer": "ipython3",
   "version": "3.10.12"
  },
  "orig_nbformat": 4,
  "vscode": {
   "interpreter": {
    "hash": "de9381b46ee18642961792e0bc26104d28dc78aa3674ba2ee1bd10d79b1e5992"
   }
  }
 },
 "nbformat": 4,
 "nbformat_minor": 2
}
