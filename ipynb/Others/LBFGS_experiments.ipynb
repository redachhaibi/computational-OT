{
 "cells": [
  {
   "cell_type": "markdown",
   "metadata": {},
   "source": [
    "# In this notebook we look into the performance of L-BFGS-B algorithm."
   ]
  },
  {
   "cell_type": "code",
   "execution_count": null,
   "metadata": {},
   "outputs": [],
   "source": [
    "from __future__ import division\n",
    "import os\n",
    "import numpy as np\n",
    "import matplotlib.pyplot as plt\n",
    "import time\n",
    "import computational_OT\n",
    "import warnings\n",
    "warnings.filterwarnings('ignore')\n",
    "%matplotlib inline\n",
    "%load_ext autoreload\n",
    "%autoreload 2"
   ]
  },
  {
   "cell_type": "code",
   "execution_count": null,
   "metadata": {},
   "outputs": [],
   "source": [
    "relative_path_to_new_folder = \"../Images\"\n",
    "os.makedirs(relative_path_to_new_folder, exist_ok = True)\n",
    "if not os.path.isdir('../Images/LBFGS_images'):\n",
    "    os.makedirs('../Images/LBFGS_images')"
   ]
  },
  {
   "attachments": {},
   "cell_type": "markdown",
   "metadata": {},
   "source": [
    "### Helper Functions"
   ]
  },
  {
   "cell_type": "code",
   "execution_count": null,
   "metadata": {},
   "outputs": [],
   "source": [
    "\"\"\"To compute distance matrix\"\"\"\n",
    "def distmat( x, y ):\n",
    "    return np.sum( x**2, 0 )[:,None] + np.sum( y**2, 0 )[None,:] - 2 * x.transpose().dot( y )\n",
    "\n",
    "\"\"\"To Normalise a vector\"\"\"\n",
    "normalize = lambda a: a/np.sum( a )\n",
    "\n",
    "\"\"\"To Compute P\"\"\"\n",
    "def GetP( u, K, v ):\n",
    "    return u[:,None] * K * v[None,:]\n",
    "\n",
    "def plotp( x, col, plt, scale = 200, edgecolors = \"k\" ):\n",
    "  return plt.scatter( x[0,:], x[1,:], s = scale, edgecolors = edgecolors, c = col, cmap = 'plasma', linewidths = 2 )"
   ]
  },
  {
   "cell_type": "code",
   "execution_count": null,
   "metadata": {},
   "outputs": [],
   "source": [
    "def randomsampledata( N ):\n",
    "  x = []\n",
    "  y = []\n",
    "  N = np.sort( N )\n",
    "  for i in range(len(N)):\n",
    "    x.append( np.random.rand( 2, N[i] ) - 0.5 )\n",
    "    theta = 2 * np.pi * np.random.rand( 1, N[i] )\n",
    "    r = 0.8 + 0.2 * np.random.rand( 1, N[i] )\n",
    "    y.append( np.vstack( ( np.cos(theta) * r, np.sin(theta) * r ) ) )\n",
    "  \n",
    "  return x, y, N"
   ]
  },
  {
   "cell_type": "markdown",
   "metadata": {},
   "source": [
    "### I. For fixed epsilon"
   ]
  },
  {
   "cell_type": "code",
   "execution_count": null,
   "metadata": {},
   "outputs": [],
   "source": [
    "# BFGS\n",
    "print(\"BFGS...\")\n",
    "N = [ 200, 400, 600, 800, 1000 ]\n",
    "#Epsilon\n",
    "epsilon = .06\n",
    "x, y, N = randomsampledata( N )\n",
    "BFGSP = []\n",
    "results_BFGS = []\n",
    "times_BFGS = []\n",
    "for i in range(len(N)):\n",
    "      xi, yi = x[i], y[i]\n",
    "      #Cost matrix\n",
    "      C = distmat( xi, yi )\n",
    "      # a and b\n",
    "      a = normalize( np.ones( N[i] ) )\n",
    "      a = a.reshape( a.shape[0], - 1 )\n",
    "      b = normalize( np.ones( N[i] ) ) \n",
    "      b = b.reshape( b.shape[0], - 1 )\n",
    "      #Kernel\n",
    "      K = np.exp( - C/epsilon )\n",
    "      f, g = a, b\n",
    "      print( \"Doing for \", N[i] )\n",
    "      print( \" |- Iterating\" )\n",
    "      start = time.time()\n",
    "      Optimizer = computational_OT.l_bfgs_b(    K,\n",
    "                                                a,\n",
    "                                                b,\n",
    "                                                f,\n",
    "                                                g,\n",
    "                                                epsilon )\n",
    "      out = Optimizer._update( maxiter_lbgfs = 10 )\n",
    "      results_BFGS.append( out )\n",
    "      end = time.time()\n",
    "      times_BFGS.append( end - start  )\n",
    "      print( \" |- Computing P\" )\n",
    "      print( \"\" )\n",
    "      u_opt = np.exp( out['potential_f']/epsilon )\n",
    "      K = np.exp( - C/epsilon )\n",
    "      v_opt =  np.exp( out['potential_g']/epsilon )\n",
    "      P_opt = GetP( u_opt, K, v_opt )\n",
    "      BFGSP.append( P_opt )\n",
    "# end for"
   ]
  },
  {
   "cell_type": "markdown",
   "metadata": {},
   "source": [
    "#### Error plot"
   ]
  },
  {
   "cell_type": "code",
   "execution_count": null,
   "metadata": {},
   "outputs": [],
   "source": [
    "plt.figure( figsize = ( 20, 7 ) )\n",
    "plt.title( \"$||P 1 -a||_1+||P^T 1 -b||_1$\" )\n",
    "for result in results_BFGS:\n",
    "  error = np.asarray( result['error_a'] ) + np.asarray( result['error_b'] )\n",
    "  plt.plot( error, linewidth = 2 )\n",
    "# end for\n",
    "plt.yscale( 'log' )\n",
    "plt.legend( [ \"N = \"+str(i) for i in N ], loc = \"upper right\" )\n",
    "plt.savefig( \"../Images/LBFGS_images/LBFGSconvergence.pdf\", format = 'pdf' )\n",
    "plt.show()\n",
    "print(\"\\n Error plots can increase! The error is not the objective function!\")"
   ]
  },
  {
   "cell_type": "markdown",
   "metadata": {},
   "source": [
    "#### Objective function plot"
   ]
  },
  {
   "cell_type": "code",
   "execution_count": null,
   "metadata": {},
   "outputs": [],
   "source": [
    "plt.figure( figsize = ( 20, 7 ) )\n",
    "plt.subplot( 2, 1, 1 ),\n",
    "plt.title( \"Objective Function\" )\n",
    "for result in results_BFGS:\n",
    "  plt.plot( -np.asarray(result['objective_values']), linewidth = 2 )\n",
    "plt.legend( [ \"N = \"+str(i) for i in N ], loc = \"upper right\" )\n",
    "plt.savefig( \"../Images/LBFGS_images/LBFGSobjective_value.pdf\", format = 'pdf' )\n",
    "plt.show()\n",
    "plt.show()"
   ]
  },
  {
   "cell_type": "markdown",
   "metadata": {},
   "source": [
    "### II. For varying epsilon"
   ]
  },
  {
   "cell_type": "code",
   "execution_count": null,
   "metadata": {},
   "outputs": [],
   "source": [
    "# BFGS\n",
    "print(\"BFGS...\")\n",
    "BFGSP = []\n",
    "results_BFGS = []\n",
    "epsilons = [ 0.5, 0.1, 0.05, 0.01 ]\n",
    "N = [ 400, 500 ]\n",
    "x =  np.random.rand( 2, N[0] ) - 0.5 \n",
    "theta = 2 * np.pi * np.random.rand( 1, N[1] )\n",
    "r = 0.8 + 0.2 * np.random.rand( 1, N[1] )\n",
    "y =  np.vstack( ( np.cos(theta) * r, np.sin(theta) * r ) ) \n",
    "#Cost matrix\n",
    "C = distmat( x, y )\n",
    "# a and b\n",
    "a = normalize( np.ones( N[0] ) )\n",
    "a = a.reshape( a.shape[0], - 1 )\n",
    "b = normalize( np.ones( N[1] ) )\n",
    "b = b.reshape( b.shape[0], - 1 )\n",
    "print( \"Doing for \",( N[0], N[1] ) )\n",
    "for eps in epsilons:\n",
    "      #Kernel\n",
    "      K = np.exp( - C/eps )\n",
    "      f, g = a, b\n",
    "      print( \"\\n For epsilon = \" +str(eps) )\n",
    "      print( \" |- Iterating\" )\n",
    "      start = time.time()\n",
    "      Optimizer = computational_OT.l_bfgs_b(    K,\n",
    "                                                a,\n",
    "                                                b,\n",
    "                                                f,\n",
    "                                                g,\n",
    "                                                eps )\n",
    "      out = Optimizer._update( maxiter_lbgfs = 10 )\n",
    "      results_BFGS.append( out )\n",
    "      end = time.time()\n",
    "      print( \" |- Computing P\" )\n",
    "      print( \"\" )\n",
    "      u_opt = np.exp( out['potential_f']/epsilon )\n",
    "      K = np.exp( - C/epsilon )\n",
    "      v_opt =  np.exp( out['potential_g']/epsilon )\n",
    "      P_opt = GetP( u_opt, K, v_opt )\n",
    "      BFGSP.append( P_opt )\n",
    "# end for"
   ]
  },
  {
   "cell_type": "markdown",
   "metadata": {},
   "source": [
    "#### Error plot"
   ]
  },
  {
   "cell_type": "code",
   "execution_count": null,
   "metadata": {},
   "outputs": [],
   "source": [
    "plt.figure( figsize = ( 20, 7 ) )\n",
    "plt.title( \"$$\" )\n",
    "plt.title( \"$||P1 -a||_1+||P^T 1 -b||_1$\" )\n",
    "for i in range( len(results_BFGS) ):\n",
    "  error = np.asarray( results_BFGS[i]['error_a'] ) + np.asarray( results_BFGS[i]['error_b'] )\n",
    "  plt.plot( error, label = 'LBGFS for $\\epsilon = $'+ str(epsilons[i]), linewidth = 2 )\n",
    "# end for\n",
    "plt.legend( loc = 'upper right' )\n",
    "plt.yscale( 'log' )\n",
    "plt.savefig( \"../Images/LBFGS_images/LBGFSerror_varyepsilon.pdf\", format = 'pdf' )\n",
    "plt.show()"
   ]
  },
  {
   "cell_type": "markdown",
   "metadata": {},
   "source": [
    "#### Objective function plot"
   ]
  },
  {
   "cell_type": "code",
   "execution_count": null,
   "metadata": {},
   "outputs": [],
   "source": [
    "plt.figure( figsize = ( 20, 7 ) )\n",
    "plt.subplot( 2, 1, 1 ),\n",
    "plt.title( \"Objective Function\" )\n",
    "for i in range( len(results_BFGS) ):\n",
    "  plt.plot( -np.asarray(results_BFGS[i]['objective_values']), label = 'LBGFS for $\\epsilon = $'+ str(epsilons[i]), linewidth = 2 )\n",
    "plt.legend( loc = \"upper right\" )\n",
    "plt.savefig( \"../Images/LBFGS_images/LBGFSobjective_value_varyepsilon.pdf\", format = 'pdf' )\n",
    "plt.show()"
   ]
  }
 ],
 "metadata": {
  "kernelspec": {
   "display_name": ".venv_computational-OT",
   "language": "python",
   "name": "python3"
  },
  "language_info": {
   "codemirror_mode": {
    "name": "ipython",
    "version": 3
   },
   "file_extension": ".py",
   "mimetype": "text/x-python",
   "name": "python",
   "nbconvert_exporter": "python",
   "pygments_lexer": "ipython3",
   "version": "3.12.3"
  },
  "orig_nbformat": 4,
  "vscode": {
   "interpreter": {
    "hash": "de9381b46ee18642961792e0bc26104d28dc78aa3674ba2ee1bd10d79b1e5992"
   }
  }
 },
 "nbformat": 4,
 "nbformat_minor": 2
}
