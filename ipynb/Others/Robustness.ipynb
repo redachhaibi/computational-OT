{
 "cells": [
  {
   "cell_type": "markdown",
   "metadata": {},
   "source": [
    "### In this notebook we look into the robustness of the eigenvectors of the Hessian over the spectrum of eigenvalues with respect to a reference eigenvector."
   ]
  },
  {
   "cell_type": "code",
   "execution_count": null,
   "metadata": {},
   "outputs": [],
   "source": [
    "from __future__ import division\n",
    "import os\n",
    "import numpy as np\n",
    "import time\n",
    "import matplotlib.pyplot as plt\n",
    "import scipy as scp\n",
    "import pylab as pyl\n",
    "import warnings\n",
    "warnings.filterwarnings('ignore')\n",
    "np.random.seed(1234)\n",
    "plt.rcParams.update({'font.size': 8})\n",
    "\n",
    "%matplotlib inline \n",
    "\n",
    "%load_ext autoreload                                                              \n",
    "                                                                                                                                  \n",
    "%autoreload "
   ]
  },
  {
   "cell_type": "code",
   "execution_count": null,
   "metadata": {},
   "outputs": [],
   "source": [
    "%load_ext autoreload\n",
    "%autoreload 2"
   ]
  },
  {
   "cell_type": "code",
   "execution_count": null,
   "metadata": {},
   "outputs": [],
   "source": [
    "relative_path_to_new_folder = \"../Images\"\n",
    "os.makedirs(relative_path_to_new_folder, exist_ok=True)\n",
    "if not os.path.isdir('../Images/Robustness_images'):\n",
    "    os.makedirs('../Images/Robustness_images')"
   ]
  },
  {
   "cell_type": "code",
   "execution_count": null,
   "metadata": {},
   "outputs": [],
   "source": [
    "\"\"\"To compute distance matrix\"\"\"\n",
    "def distmat(x,y):\n",
    "    return np.sum( x**2,0 )[:,None] + np.sum( y**2,0 )[None,:] - 2*x.transpose().dot(y)\n",
    "\n",
    "\"\"\"To Normalise a vector\"\"\"\n",
    "normalize = lambda a: a/np.sum( a )\n",
    "\n",
    "\"\"\"To Compute P\"\"\"\n",
    "def GetP(u,K,v):\n",
    "    return u[:,None]*K*v[None,:]\n",
    "\n",
    "def plotp(x, col,plt, scale=200, edgecolors=\"k\"):\n",
    "  return plt.scatter( x[0,:], x[1,:], s=scale, edgecolors=edgecolors,  c=col, cmap='plasma', linewidths=2 )"
   ]
  },
  {
   "cell_type": "code",
   "execution_count": null,
   "metadata": {},
   "outputs": [],
   "source": [
    "def generate_data(N):\n",
    "    \"\"\"\n",
    "     N is a list of the size of the data on x and y\n",
    "    \"\"\"\n",
    "    x = np.random.rand( 2,N[0] )-0.5\n",
    "    theta = 2*np.pi*np.random.rand( 1,N[1] )\n",
    "    r = 0.8+.2*np.random.rand( 1,N[1] )\n",
    "    y = np.vstack( ( r*np.cos( theta ),r*np.sin( theta ) ) )\n",
    "    return x,y"
   ]
  },
  {
   "cell_type": "code",
   "execution_count": null,
   "metadata": {},
   "outputs": [],
   "source": [
    "def spectral_decomposition(mat):\n",
    "    eig, v = np.linalg.eigh( mat )\n",
    "    sorting_indices = np.argsort(eig)\n",
    "    eig = eig[sorting_indices]\n",
    "    v   = v[:, sorting_indices]\n",
    "    \n",
    "    print( \"List of smallest eigenvalues: \", eig[:10])\n",
    "    print( \"List of largest  eigenvalues: \", eig[-10:])\n",
    "\n",
    "    return eig,v\n",
    "\n"
   ]
  },
  {
   "cell_type": "code",
   "execution_count": null,
   "metadata": {},
   "outputs": [],
   "source": [
    "import computational_OT"
   ]
  },
  {
   "cell_type": "code",
   "execution_count": null,
   "metadata": {},
   "outputs": [],
   "source": [
    "N = [ 500, 600 ]\n",
    "x,y = generate_data(N)"
   ]
  },
  {
   "attachments": {},
   "cell_type": "markdown",
   "metadata": {},
   "source": [
    "### Log-domain Sinkhorn "
   ]
  },
  {
   "cell_type": "code",
   "execution_count": null,
   "metadata": {},
   "outputs": [],
   "source": [
    "a = normalize(np.ones(N[0]))\n",
    "b = normalize(np.ones(N[1]))\n",
    "# Log domain Sinkhorn\n",
    "print(\"Log domain Sinkhorn.... \")\n",
    "results_logSinkhorn = []\n",
    "times_logSinkhorn   = []\n",
    "logsinkhornP        = []\n",
    "# epsilons = [ 0.1 , 0.05 , 0.01, 0.005,  0.001]\n",
    "# epsilons = [1.0]\n",
    "\n",
    "epsilons    = [ 0.5, 0.1, 0.05, 0.01, 0.005 ]\n",
    "niter_array = [ 100, 200, 350, 2000, 4000]\n",
    "\n",
    "#Cost matrix\n",
    "C = distmat(x,y)\n",
    "\n",
    "for i in range(len(epsilons)):\n",
    "  eps   = epsilons[i]\n",
    "  niter = niter_array[i]\n",
    "\n",
    "  print( \"Sinkhorn for epsilon = \"+str(eps)+\":\" )\n",
    "\n",
    "  print( \"Doing for (\",N[0],N[1],\").\" )\n",
    "  print( \" |- Iterating\" )\n",
    "\n",
    "  start = time.time()\n",
    "  logsinkhorn = computational_OT.Log_domainSinkhorn(a,b,C,eps)\n",
    "  output = logsinkhorn.update( niter = niter )\n",
    "  results_logSinkhorn.append( output )\n",
    "  end = time.time()\n",
    "  times_logSinkhorn.append(1e-3*(end-start) )\n",
    "  logsinkhornP.append(GetP(output['potential_f']/eps, np.exp(-C/eps),output['potential_g']/eps))"
   ]
  },
  {
   "attachments": {},
   "cell_type": "markdown",
   "metadata": {},
   "source": [
    "#### Error plot"
   ]
  },
  {
   "cell_type": "code",
   "execution_count": null,
   "metadata": {},
   "outputs": [],
   "source": [
    "plt.figure( figsize = (20,7) )\n",
    "\n",
    "plt.subplot(2,1,1),\n",
    "plt.title( \"$||P1 -a||_1+||P1 -b||_1$\" )\n",
    "for i in range( len( results_logSinkhorn) ):\n",
    "  error = np.asarray( results_logSinkhorn[i]['error'] )\n",
    "  plt.plot( error, label = 'log-sinkhorn for $\\epsilon=$'+ str(epsilons[i]) , linewidth = 2 )\n",
    "plt.yscale( 'log' )\n",
    "plt.legend()\n",
    "plt.xlabel(\"Iterations\")\n",
    "plt.ylabel(\"Error in log-scale\")\n",
    "plt.show()\n"
   ]
  },
  {
   "cell_type": "code",
   "execution_count": null,
   "metadata": {},
   "outputs": [],
   "source": [
    "Hessians_logsinkhorn = []\n",
    "for i in range(len(epsilons)):\n",
    "    u  = np.exp((results_logSinkhorn[i]['potential_f'])/epsilons[i])  \n",
    "    v  = np.exp((results_logSinkhorn[i]['potential_g'])/epsilons[i])\n",
    "    K  = np.exp(-C/epsilons[i])\n",
    "    r1 = u[:,None]*np.dot(K,v)[:,None] \n",
    "    r2 = v[:,None]*np.dot(K.T,u)[:,None]                                \n",
    "    P  = u[:,None]*np.exp(-C/epsilons[i])*v[None,:]\n",
    "    A  = np.diag( np.array(r1.reshape(r1.shape[0],)) )\n",
    "    B  = P       \n",
    "    C_  = P.T\n",
    "    D  = np.diag( np.array(r2.reshape(r2.shape[0],)) )\n",
    "    result = np.vstack( ( np.hstack((A,B)), np.hstack((C_,D)) ) )    \n",
    "    Hessians_logsinkhorn.append(result)\n",
    "    "
   ]
  },
  {
   "cell_type": "code",
   "execution_count": null,
   "metadata": {},
   "outputs": [],
   "source": [
    "eigs = []\n",
    "eigvecs = []\n",
    "for i in range(len(epsilons)):\n",
    "    eps = epsilons[i]\n",
    "    print(\"Spectral statistics of Hessian for epsilon=\"+str(eps))\n",
    "    diag   = 1/np.sqrt(np.diag( Hessians_logsinkhorn[i] ).flatten())\n",
    "    result = diag[:,None]*Hessians_logsinkhorn[i]*diag[None,:]\n",
    "    ev = spectral_decomposition( result )\n",
    "    eigs.append(ev[0])\n",
    "    eigvecs.append(ev[1])\n",
    "    print(\"\")\n"
   ]
  },
  {
   "attachments": {},
   "cell_type": "markdown",
   "metadata": {},
   "source": [
    "## Robustness plot of  eigenvectors\n"
   ]
  },
  {
   "attachments": {},
   "cell_type": "markdown",
   "metadata": {},
   "source": [
    "#### L2-norm"
   ]
  },
  {
   "cell_type": "markdown",
   "metadata": {},
   "source": [
    "##### Middle reference epsilon"
   ]
  },
  {
   "cell_type": "code",
   "execution_count": null,
   "metadata": {},
   "outputs": [],
   "source": [
    "plt.rcParams.update({'font.size': 20})\n",
    "num = list(range(len(epsilons)-1))\n",
    "\n",
    "error = {}\n",
    "reference_epsilonindex = len(epsilons)//2\n",
    "for i in range(10):\n",
    "  last_eigvec = eigvecs[reference_epsilonindex][:,(N[0]+N[1])-i-1]\n",
    "\n",
    "  error[i] = []\n",
    "  for eps in range(len(epsilons)):\n",
    "    if eps!= reference_epsilonindex:\n",
    "      curr_eigvec = eigvecs[eps][:,(N[0]+N[1])-i-1]\n",
    "      correlation = np.dot(curr_eigvec, last_eigvec) \n",
    "      if correlation<=0:\n",
    "        curr_eigvec = -curr_eigvec\n",
    "        sum_error = np.linalg.norm(curr_eigvec-last_eigvec)\n",
    "      else:\n",
    "        sum_error = np.linalg.norm(curr_eigvec-last_eigvec)\n",
    "      error[i].append(sum_error)\n",
    "  \n",
    "xticks = []\n",
    "for i in range(len(epsilons)):\n",
    "  if i != reference_epsilonindex:\n",
    "    xticks.append(str(epsilons[i])+\"-\"+str(epsilons[reference_epsilonindex]))\n",
    "\n",
    "plt.figure(figsize= (30,30))\n",
    "plt.subplot(2,1,1),\n",
    "plt.title( \"Robustness of eigenvectors among the different spectrum of eigenvalues corresponding to different\"+\" $\\epsilon$\") \n",
    "for i in range(10):\n",
    "  plt.plot( num, error[i],label = str(i+1)+'th largest eigenvalue',\n",
    "             linewidth = 2, marker = 'o', markersize = 20 )\n",
    "\n",
    "plt.legend()\n",
    "plt.ylabel(\"Error: L2 norm\")\n",
    "plt.xlabel(\"$\\epsilon$ difference\")\n",
    "plt.xticks(list(range(len(xticks))),xticks)\n",
    "plt.savefig(\"../Images/Robustness_images/Robustnessplotlargesteigenvalue_L2norm_midref.pdf\",format = 'pdf', bbox_inches=\"tight\")\n",
    "plt.show()\n"
   ]
  },
  {
   "cell_type": "markdown",
   "metadata": {},
   "source": [
    "##### End reference epsilon"
   ]
  },
  {
   "cell_type": "code",
   "execution_count": null,
   "metadata": {},
   "outputs": [],
   "source": [
    "plt.rcParams.update({'font.size': 20})\n",
    "num = list(range(len(epsilons)-1))\n",
    "\n",
    "error = {}\n",
    "reference_epsilonindex = len(epsilons)-1\n",
    "for i in range(10):\n",
    "  # last_eigv = eigvecs[-1][:,(N[0]+N[1])-i-1]\n",
    "  last_eigvec = eigvecs[reference_epsilonindex][:,(N[0]+N[1])-i-1]\n",
    "\n",
    "  error[i] = []\n",
    "  for eps in range(len(epsilons)):\n",
    "    if eps!= reference_epsilonindex:\n",
    "      curr_eigvec = eigvecs[eps][:,(N[0]+N[1])-i-1]\n",
    "      correlation = np.dot(curr_eigvec, last_eigvec) \n",
    "      if correlation<0:\n",
    "        curr_eigvec = -curr_eigvec\n",
    "        sum_error = np.linalg.norm(curr_eigvec-last_eigvec)\n",
    "      else:\n",
    "        sum_error = np.linalg.norm(curr_eigvec-last_eigvec)\n",
    "      error[i].append(sum_error)\n",
    "  \n",
    "xticks = []\n",
    "for i in range(len(epsilons)):\n",
    "  if i != reference_epsilonindex:\n",
    "    xticks.append(str(epsilons[i])+\"-\"+str(epsilons[reference_epsilonindex]))\n",
    "\n",
    "plt.figure(figsize= (30,30))\n",
    "plt.subplot(2,1,1),\n",
    "plt.title( \"Robustness of eigenvectors among the different spectrum of eigenvalues corresponding to different\"+\" $\\epsilon$\") \n",
    "for i in range(10):\n",
    "  plt.plot( num, error[i],label = str(i+1)+'th largest eigenvalue',\n",
    "             linewidth = 2, marker = 'o', markersize = 20 )\n",
    "\n",
    "plt.legend()\n",
    "plt.ylabel(\"Error: L2 norm\")\n",
    "plt.xlabel(\"$\\epsilon$ difference\")\n",
    "plt.xticks(list(range(len(xticks))),xticks)\n",
    "plt.savefig(\"../Images/Robustness_images/Robustnessplotlargesteigenvalue_L2norm_endref.pdf\",format = 'pdf', bbox_inches=\"tight\")\n",
    "plt.show()"
   ]
  },
  {
   "cell_type": "code",
   "execution_count": null,
   "metadata": {},
   "outputs": [],
   "source": [
    "eigenmodes_min   = 6\n",
    "eigenmodes_max   = 10\n",
    "eigenmodes_count = eigenmodes_max - eigenmodes_min + 1 \n",
    "plt.rcParams.update({'font.size': 15})\n",
    "\n",
    "X=np.hstack((np.hstack((x[0,:],y[0,:]))[:,None],np.hstack((x[1,:],y[1,:]))[:,None]))\n",
    "fig, ax = plt.subplots(figsize=(30,40),nrows=len(epsilons), ncols = eigenmodes_count,sharey=True)\n",
    "scale = 20\n",
    "courant_modes = []\n",
    "for i in range(len(epsilons)):\n",
    "    eigenvectors = eigvecs[i]\n",
    "    eigenvalues  = eigs[i]\n",
    "    courant_modes.append( [] )\n",
    "    for j in range(eigenmodes_min, eigenmodes_max+1):\n",
    "        eigenvalue = eigenvalues[N[0]+N[1]-j-1]\n",
    "        function_as_vector = eigenvectors[:,N[0]+N[1]-j-1]\n",
    "        function_as_vector = function_as_vector/np.max(function_as_vector)\n",
    "        # Index\n",
    "        ax_index = j - eigenmodes_min\n",
    "        # Flip sign if anti-correlated\n",
    "        if i>0:\n",
    "            old_mode = courant_modes[i-1][ax_index]\n",
    "            correlation = np.dot( old_mode, function_as_vector)/(np.linalg.norm(old_mode)*np.linalg.norm(function_as_vector))\n",
    "            if correlation<=0:\n",
    "                    function_as_vector = -function_as_vector\n",
    "        # Record\n",
    "        courant_modes[i].append( function_as_vector )\n",
    "        im1 = ax[i][ax_index].scatter(X.T[0,:], X.T[1,:], s=scale, edgecolors=(0,0,0,0),  c=function_as_vector, cmap='plasma', linewidths=2)\n",
    "        fig.colorbar(im1,ax=ax[i][ax_index])\n",
    "        # Title\n",
    "        ax[i][ax_index].set_title( f'''${j}''' + \"^{st}$ largest eig. $\\lambda_{\" + str(j) + \"}$= \" + str(np.round(eigenvalue, 3)) + f''', $\\epsilon$={str(epsilons[i])} ''')\n",
    "    # end for\n",
    "# end for v\n",
    "\n",
    "#fig.colorbar(im1, ax=ax.ravel().tolist())\n",
    "plt.xlim(np.min(X.T[0,:])-.1,np.max(X.T[0,:])+.1)\n",
    "plt.ylim(np.min(X.T[1,:])-.1,np.max(X.T[1,:])+.1)\n",
    "plt.subplots_adjust(wspace=0,hspace=0.15)\n",
    "plt.tight_layout()\n",
    "plt.savefig(\"../Images/Robustness_images/Heatmapofeigvecof7largestEigvalL2.pdf\", format = 'pdf')\n",
    "plt.show();\n",
    "\n"
   ]
  },
  {
   "cell_type": "code",
   "execution_count": null,
   "metadata": {},
   "outputs": [],
   "source": []
  },
  {
   "cell_type": "code",
   "execution_count": null,
   "metadata": {},
   "outputs": [],
   "source": []
  }
 ],
 "metadata": {
  "kernelspec": {
   "display_name": ".venv_computational-OT",
   "language": "python",
   "name": "python3"
  },
  "language_info": {
   "codemirror_mode": {
    "name": "ipython",
    "version": 3
   },
   "file_extension": ".py",
   "mimetype": "text/x-python",
   "name": "python",
   "nbconvert_exporter": "python",
   "pygments_lexer": "ipython3",
   "version": "3.10.12"
  },
  "orig_nbformat": 4
 },
 "nbformat": 4,
 "nbformat_minor": 2
}
