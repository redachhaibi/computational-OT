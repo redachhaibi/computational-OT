{
 "cells": [
  {
   "cell_type": "code",
   "execution_count": null,
   "metadata": {},
   "outputs": [],
   "source": [
    "import os\n",
    "os.environ['XLA_FLAGS'] = (\n",
    "    '--xla_gpu_enable_triton_softmax_fusion=true '\n",
    "    '--xla_gpu_triton_gemm_any=True '\n",
    "    '--xla_gpu_enable_async_collectives=true '\n",
    "    '--xla_gpu_enable_latency_hiding_scheduler=true '\n",
    "    '--xla_gpu_enable_highest_priority_async_stream=true '\n",
    ")"
   ]
  },
  {
   "cell_type": "code",
   "execution_count": null,
   "metadata": {},
   "outputs": [],
   "source": [
    "import jax\n",
    "import jax.numpy as jnp\n",
    "from jax import jit\n",
    "jax.config.update(\"jax_enable_x64\", True)\n",
    "jax.config.update(\"jax_platform_name\", \"cpu\")\n",
    "\n",
    "from __future__ import division\n",
    "import numpy as np\n",
    "import time\n",
    "import matplotlib.pyplot as plt\n",
    "import warnings\n",
    "warnings.filterwarnings('ignore')\n",
    "np.random.seed(1234)\n",
    "\n",
    "%matplotlib inline \n",
    "\n",
    "%load_ext autoreload                                                                                                                                                                                            \n",
    "%autoreload "
   ]
  },
  {
   "cell_type": "code",
   "execution_count": null,
   "metadata": {},
   "outputs": [],
   "source": [
    "import computational_OT"
   ]
  },
  {
   "cell_type": "markdown",
   "metadata": {},
   "source": [
    "### log-domain Sinkhorn using numpy"
   ]
  },
  {
   "cell_type": "code",
   "execution_count": null,
   "metadata": {},
   "outputs": [],
   "source": [
    "\"\"\"To compute distance matrix\"\"\"\n",
    "def distmat(x,y):\n",
    "    return np.sum( x**2,0 )[:,None] + np.sum( y**2,0 )[None,:] - 2*x.transpose().dot(y)\n",
    "\n",
    "\"\"\"To Normalise a vector\"\"\"\n",
    "normalize = lambda a: a/np.sum( a )\n",
    "\n",
    "\"\"\"To Compute P\"\"\"\n",
    "def GetP(u,K,v):\n",
    "    return u[:,None]*K*v[None,:]\n",
    "\n",
    "def plotp(x, col,plt, scale=200, edgecolors=\"k\"):\n",
    "  return plt.scatter( x[0,:], x[1,:], s=scale, edgecolors=edgecolors,  c=col, cmap='plasma', linewidths=2 )"
   ]
  },
  {
   "cell_type": "code",
   "execution_count": null,
   "metadata": {},
   "outputs": [],
   "source": [
    "def generate_data(N):\n",
    "    \"\"\"\n",
    "     N is a list of the size of the data on x and y\n",
    "    \"\"\"\n",
    "    x = np.random.rand( 2,N[0] )-0.5\n",
    "    theta = 2*np.pi*np.random.rand( 1,N[1] )\n",
    "    r = 0.8+.2*np.random.rand( 1,N[1] )\n",
    "    y = np.vstack( ( r*np.cos( theta ),r*np.sin( theta ) ) )\n",
    "    return x,y"
   ]
  },
  {
   "cell_type": "code",
   "execution_count": null,
   "metadata": {},
   "outputs": [],
   "source": [
    "N = [ 500, 600 ]\n",
    "x,y = generate_data(N)\n",
    "a = normalize(np.ones(N[0]))\n",
    "b = normalize(np.ones(N[1]))\n",
    "# Log domain Sinkhorn\n",
    "print(\"Log domain Sinkhorn.... \")\n",
    "results_logSinkhorn = []\n",
    "times_logSinkhorn   = []\n",
    "logsinkhornP        = []\n",
    "epsilons = [ 0.1 , 0.05 , 0.01, 0.005,  0.001 ]\n",
    "  \n",
    "#Cost matrix\n",
    "C = distmat(x,y)\n",
    "for eps in epsilons:\n",
    "\n",
    "  print( \"Sinkhorn for epsilon = \"+str(eps)+\":\" )    \n",
    "  \n",
    "  print( \"Doing for (\",N[0],N[1],\").\" )\n",
    "  print( \" |- Iterating\" )\n",
    "\n",
    "  start = time.time()\n",
    "  logsinkhorn = computational_OT.Log_domainSinkhorn(a, b, C, eps)\n",
    "  output = logsinkhorn.update( niter = 500 )\n",
    "  results_logSinkhorn.append( output )\n",
    "  end = time.time()\n",
    "  times_logSinkhorn.append(1e-3*(end-start) )\n",
    "  logsinkhornP.append(GetP(np.exp(output['potential_f']/eps), np.exp(-C/eps),np.exp(output['potential_g']/eps)))"
   ]
  },
  {
   "cell_type": "code",
   "execution_count": null,
   "metadata": {},
   "outputs": [],
   "source": [
    "plt.figure( figsize = (20,7) )\n",
    "\n",
    "plt.subplot(2,1,1),\n",
    "plt.title( \"$||P1 -a||_1+||P1 -b||_1$\" )\n",
    "for i in range( len( results_logSinkhorn) ):\n",
    "  error = np.asarray( results_logSinkhorn[i]['error'] )\n",
    "  plt.plot( error, label = 'log-sinkhorn for $\\epsilon=$'+ str(epsilons[i]) , linewidth = 2 )\n",
    "plt.yscale( 'log' )\n",
    "plt.legend()\n",
    "plt.xlabel(\"Iterations\")\n",
    "plt.ylabel(\"Error in log-scale\")\n",
    "plt.show()\n"
   ]
  },
  {
   "cell_type": "markdown",
   "metadata": {},
   "source": [
    "### log-domain Sinkhorn using JAX"
   ]
  },
  {
   "cell_type": "code",
   "execution_count": null,
   "metadata": {},
   "outputs": [],
   "source": [
    "\n",
    "@jit\n",
    "def distmat_JAX(x, y):\n",
    "    return jnp.sum(x**2, axis=0)[:, None] + jnp.sum(y**2, axis=0)[None, :] - 2 * x.transpose().dot(y)\n",
    "\n",
    "# Function to normalize a vector\n",
    "normalize_JAX = lambda a: a / jnp.sum(a)\n",
    "\n",
    "# Function to compute P\n",
    "@jit\n",
    "def GetP_JAX(u, K, v):\n",
    "    return u[:, None] * K * v[None, :]\n",
    "\n",
    "# Function to plot points\n",
    "def plotp(x, col, plt, scale=200, edgecolors=\"k\"):\n",
    "    return plt.scatter(x[0, :], x[1, :], s=scale, edgecolors=edgecolors, c=col, cmap='plasma', linewidths=2)\n"
   ]
  },
  {
   "cell_type": "code",
   "execution_count": null,
   "metadata": {},
   "outputs": [],
   "source": [
    "def generate_data_JAX(N):\n",
    "    \"\"\"\n",
    "     N is a list of the size of the data on x and y\n",
    "    \"\"\"\n",
    "    shape = (2, N[0])\n",
    "    key_x, key_y = jax.random.split(jax.random.PRNGKey(42), 2)  # Splitting the PRNGKey\n",
    "    random_array_uniform_x = jax.random.uniform(key_x, shape=shape) \n",
    "    x = random_array_uniform_x  -0.5\n",
    "    shape = (1, N[1])\n",
    "    random_array_uniform_y = jax.random.uniform(key_y, shape=shape)\n",
    "    theta = 2*jnp.pi*random_array_uniform_y\n",
    "    r = 0.8+.2*random_array_uniform_y\n",
    "    y = jnp.vstack( ( r*jnp.cos( theta ),r*jnp.sin( theta ) ) )\n",
    "    return x,y"
   ]
  },
  {
   "cell_type": "code",
   "execution_count": null,
   "metadata": {},
   "outputs": [],
   "source": [
    "N = [ 500, 600 ]\n",
    "epsilons = [ 0.1 , 0.05 , 0.01, 0.005,  0.001 ]\n",
    "x,y = generate_data_JAX(N)\n",
    "a = normalize_JAX(jnp.ones(N[0]))\n",
    "b = normalize_JAX(jnp.ones(N[1]))\n",
    "\n",
    "# Log domain Sinkhorn\n",
    "print(\"Log domain Sinkhorn.... \")\n",
    "results_logSinkhorn_JAX = []\n",
    "times_logSinkhorn_JAX   = []\n",
    "logsinkhornP_JAX     = []      \n",
    "\n",
    "#Cost matrix\n",
    "C = distmat_JAX(x,y)  \n",
    "for eps in epsilons:\n",
    "\n",
    "  print( \"Sinkhorn for epsilon = \"+str(eps)+\":\" )    \n",
    "  print( \"Doing for (\",N[0],N[1],\").\" )\n",
    "  print( \" |- Iterating\" )\n",
    "\n",
    "  start = time.time()\n",
    "  output = computational_OT.logdomain_sinkhorn_JAX.update( a, b, C, eps)\n",
    "  results_logSinkhorn_JAX.append( output )\n",
    "  end = time.time()\n",
    "  times_logSinkhorn_JAX.append(1e-3*(end-start) )\n",
    "  logsinkhornP_JAX.append(GetP_JAX(jnp.exp(output['potential_f']/eps), jnp.exp(-C/eps), jnp.exp(output['potential_g']/eps)))"
   ]
  },
  {
   "cell_type": "code",
   "execution_count": null,
   "metadata": {},
   "outputs": [],
   "source": [
    "plt.figure( figsize = (20,7) )\n",
    "plt.subplot(2,1,1),\n",
    "plt.title( \"$||P1 -a||_1+||P1 -b||_1$\" )\n",
    "for i in range( len( results_logSinkhorn_JAX ) ):\n",
    "  error = jnp.asarray( results_logSinkhorn_JAX[i]['error'] )\n",
    "  plt.plot( error, label = 'log-sinkhorn for $\\epsilon=$'+ str(epsilons[i]) , linewidth = 2 )\n",
    "plt .yscale( 'log' )\n",
    "plt.legend()\n",
    "plt.xlabel(\"Iterations\")\n",
    "plt.ylabel(\"Error in log-scale\")\n",
    "plt.show()"
   ]
  },
  {
   "cell_type": "markdown",
   "metadata": {},
   "source": [
    "### Time plot"
   ]
  },
  {
   "cell_type": "code",
   "execution_count": null,
   "metadata": {},
   "outputs": [],
   "source": [
    "plt.figure(figsize = (10,4))\n",
    "plt.plot(list(range(len(epsilons))), times_logSinkhorn[::-1], label = 'Log-domain Sinkhorn', marker='o', linewidth = 2)\n",
    "plt.plot(list(range(len(epsilons))), times_logSinkhorn_JAX[::-1], label = 'Log-domain Sinkhorn using JAX', marker='o', linewidth = 2)\n",
    "plt.legend()\n",
    "plt.xticks(list(range(len(epsilons))), epsilons[::-1])\n",
    "plt.xlabel(\"$\\epsilon$\")\n",
    "plt.yscale('log')\n",
    "plt.ylabel(\"Time in ms\")\n",
    "plt.show()"
   ]
  },
  {
   "cell_type": "code",
   "execution_count": null,
   "metadata": {},
   "outputs": [],
   "source": []
  }
 ],
 "metadata": {
  "kernelspec": {
   "display_name": ".venv_computational-OT",
   "language": "python",
   "name": "python3"
  },
  "language_info": {
   "codemirror_mode": {
    "name": "ipython",
    "version": 3
   },
   "file_extension": ".py",
   "mimetype": "text/x-python",
   "name": "python",
   "nbconvert_exporter": "python",
   "pygments_lexer": "ipython3",
   "version": "3.10.12"
  }
 },
 "nbformat": 4,
 "nbformat_minor": 2
}
