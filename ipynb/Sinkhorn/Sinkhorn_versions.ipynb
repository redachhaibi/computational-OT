{
 "cells": [
  {
   "cell_type": "code",
   "execution_count": null,
   "metadata": {},
   "outputs": [],
   "source": [
    "from __future__ import division\n",
    "import os\n",
    "os.environ['XLA_FLAGS'] = (\n",
    "    '--xla_gpu_enable_triton_softmax_fusion=true '\n",
    "    '--xla_gpu_triton_gemm_any=True '\n",
    "    '--xla_gpu_enable_async_collectives=true '\n",
    "    '--xla_gpu_enable_latency_hiding_scheduler=true '\n",
    "    '--xla_gpu_enable_highest_priority_async_stream=true '\n",
    ")\n",
    "\n",
    "import numpy as np\n",
    "import torch\n",
    "torch.set_default_tensor_type(torch.DoubleTensor)\n",
    "torch.set_default_dtype(torch.float64)\n",
    "import jax\n",
    "from jax import numpy as jnp\n",
    "jax.config.update(\"jax_enable_x64\", True)\n",
    "jax.config.update(\"jax_platform_name\", \"cpu\")\n",
    "\n",
    "\n",
    "import time\n",
    "import matplotlib.pyplot as plt\n",
    "import scipy as scp\n",
    "import pylab as pyl\n",
    "import warnings\n",
    "warnings.filterwarnings('ignore')\n",
    "np.random.seed(1234)\n",
    "torch.manual_seed(1234)\n",
    "\n",
    "%matplotlib inline\n",
    "%load_ext autoreload\n",
    "%autoreload "
   ]
  },
  {
   "cell_type": "code",
   "execution_count": null,
   "metadata": {},
   "outputs": [],
   "source": [
    "NUM_THREADS = os.cpu_count()\n",
    "print(\"Number of used CPU threads: \", torch.get_num_threads())\n",
    "torch.set_num_threads(NUM_THREADS)\n",
    "print(\"Number of used CPU threads: \", torch.get_num_threads())"
   ]
  },
  {
   "cell_type": "markdown",
   "metadata": {},
   "source": [
    "\n",
    "\n",
    "\n",
    "\n",
    "\n",
    "\n",
    "\n",
    "\n",
    "\n",
    "\n",
    "\n",
    "\n",
    "\n",
    "\n",
    "\n",
    "\n",
    "\n",
    "\n",
    "\n",
    "\n",
    "\n",
    "\n",
    "\n",
    "\n",
    "\n",
    "\n",
    "\n",
    "\n",
    "\n",
    "\n",
    "\n",
    "\n",
    "\n",
    "\n",
    "\n",
    "\n",
    "\n",
    "\n",
    "\n",
    "\n",
    "\n",
    "\n",
    "\n",
    "\n",
    "\n",
    "\n",
    "\n",
    "\n",
    "\n",
    "\n",
    "\n",
    "\n",
    "\n",
    "\n",
    "\n",
    "\n",
    "\n",
    "\n",
    "\n",
    "\n",
    "\n",
    "\n",
    "\n",
    "\n",
    "\n",
    "\n",
    "\n",
    "\n",
    "\n",
    "\n",
    "\n",
    "\n",
    "\n",
    "\n",
    "\n",
    "\n",
    "\n",
    "\n",
    "\n",
    "\n",
    "\n",
    "\n",
    "\n",
    "#### Creating directory for image outputs\n"
   ]
  },
  {
   "cell_type": "code",
   "execution_count": null,
   "metadata": {},
   "outputs": [],
   "source": [
    "if not os.path.isdir('SinkhornVersions_images'):\n",
    "    os.makedirs('SinkhornVersions_images')"
   ]
  },
  {
   "cell_type": "markdown",
   "metadata": {},
   "source": [
    "#### To compute distance matrix\n"
   ]
  },
  {
   "cell_type": "code",
   "execution_count": null,
   "metadata": {},
   "outputs": [],
   "source": [
    "def distmat(x,y):\n",
    "    return np.sum( x**2,0 )[:,None] + np.sum( y**2,0 )[None,:] - 2*x.transpose().dot(y)\n",
    "\n",
    "def torchdistmat(x,y):\n",
    "   return torch.sum( x**2,0 )[:,None]+torch.sum(y**2,0)[None,:]- 2*torch.matmul(x.t(),y)"
   ]
  },
  {
   "cell_type": "markdown",
   "metadata": {},
   "source": [
    "#### Normalize vector"
   ]
  },
  {
   "cell_type": "code",
   "execution_count": null,
   "metadata": {},
   "outputs": [],
   "source": [
    "normalize = lambda a: a/np.sum( a )\n",
    "torchnormalize = lambda a: a/torch.sum( a )"
   ]
  },
  {
   "cell_type": "markdown",
   "metadata": {},
   "source": [
    "#### Compute P and plot"
   ]
  },
  {
   "cell_type": "code",
   "execution_count": null,
   "metadata": {},
   "outputs": [],
   "source": [
    "def GetP(u,K,v):\n",
    "    return u[:,None]*K*v[None,:]\n",
    "\n",
    "def plotp(x, col,plt, scale=200, edgecolors=\"k\"):\n",
    "  return plt.scatter( x[0,:], x[1,:], s=scale, edgecolors=edgecolors,  c=col, cmap='plasma', linewidths=2 )"
   ]
  },
  {
   "cell_type": "code",
   "execution_count": null,
   "metadata": {},
   "outputs": [],
   "source": [
    "import computational_OT"
   ]
  },
  {
   "cell_type": "code",
   "execution_count": null,
   "metadata": {},
   "outputs": [],
   "source": [
    "def generate_data(N):\n",
    "    \"\"\"\n",
    "     N is a list of the size of the data on x and y\n",
    "    \"\"\"\n",
    "    x = np.random.rand( 2,N[0] )-0.5\n",
    "    theta = 2*np.pi*np.random.rand( 1,N[1] )\n",
    "    r = 0.8+.2*np.random.rand( 1,N[1] )\n",
    "    y = np.vstack( ( r*np.cos( theta ),r*np.sin( theta ) ) )\n",
    "    return x,y"
   ]
  },
  {
   "cell_type": "code",
   "execution_count": null,
   "metadata": {},
   "outputs": [],
   "source": [
    "iterations_count = int(1e4*3)\n",
    "epsilons = [ 0.1, 0.005, 0.001, 0.0007, 0.0005]\n",
    "N = [ 400, 500 ]"
   ]
  },
  {
   "cell_type": "markdown",
   "metadata": {},
   "source": [
    "## Experiment functions"
   ]
  },
  {
   "cell_type": "code",
   "execution_count": null,
   "metadata": {},
   "outputs": [],
   "source": [
    "def Experiment(algorithm, C, epsilons, N, iterations = iterations_count):\n",
    "    P        = []\n",
    "    results  = []\n",
    "    time_stamps    = []\n",
    "\n",
    "    for eps in epsilons:\n",
    "        print( str(algorithm)+ \"for epsilon = \"+str(eps)+\":\" )    \n",
    "        print(\"Doing for (\",N[0],N[1],\").\")\n",
    "        print( \" |- Iterating\")\n",
    "        start = time.time()\n",
    "        if algorithm== \"Sinkhorn\": \n",
    "            # a and b   \n",
    "            a = normalize(np.ones(N[0]))\n",
    "            b = normalize(np.ones(N[1]))\n",
    "            K = np.exp(-C/eps)\n",
    "            #Inflating\n",
    "            a = a.reshape(a.shape[0],-1)\n",
    "            b = b.reshape(b.shape[0],-1)\n",
    "            u = a\n",
    "            v = b\n",
    "            start = time.time()\n",
    "            Optimizer = computational_OT.Sinkhorn(\n",
    "                                                    K, \n",
    "                                                    a,\n",
    "                                                    b,\n",
    "                                                    u,\n",
    "                                                    v,\n",
    "                                                    eps\n",
    "                                                    )\n",
    "            out = Optimizer._update(maxiter = iterations)\n",
    "            results.append( out )\n",
    "            end = time.time()\n",
    "            if not (np.isnan(np.linalg.norm(out[\"error_a\"])) or np.isnan(np.linalg.norm(out[\"error_b\"]))):\n",
    "                time_stamps.append( 1e-3*( end-start ) )\n",
    "            \n",
    "            print( \" |- Computing P\")\n",
    "            print( \"\" )\n",
    "            P.append( GetP( np.exp(out['potential_f']/eps),K,np.exp(out['potential_g']/eps) ) )\n",
    "        elif algorithm == \"Log_domainSinkhorn\":\n",
    "            # a and b   \n",
    "            a = normalize(np.ones(N[0]))\n",
    "            b = normalize(np.ones(N[1]))\n",
    "            K = np.exp(-C/eps)\n",
    "            start = time.time()\n",
    "            Optimizer = computational_OT.Log_domainSinkhorn(\n",
    "                                                                a,\n",
    "                                                                b,\n",
    "                                                                C,\n",
    "                                                                eps\n",
    "                                                                )\n",
    "            out = Optimizer.update( niter = iterations )\n",
    "            results.append( out )\n",
    "            end = time.time()\n",
    "            print( \" |- Computing P\")\n",
    "            print( \"\" )\n",
    "            P.append( GetP( np.exp(out['potential_f']/eps),K,np.exp(out['potential_g']/eps) ) )\n",
    "            time_stamps.append( 1e-3*( end-start ) )\n",
    "        elif algorithm == 'Log_domainSinkhorntorch':\n",
    "            # a and b   \n",
    "            a = torchnormalize(torch.ones(N[0]))\n",
    "            b = torchnormalize(torch.ones(N[1]))\n",
    "            K = torch.exp(-C/eps)\n",
    "            start = time.time()\n",
    "            Optimizer = computational_OT.torchLog_domainSinkhorn(\n",
    "                                                                    a,\n",
    "                                                                    b,\n",
    "                                                                    C,\n",
    "                                                                    eps\n",
    "                                                                    )\n",
    "            out = Optimizer.update( niter = iterations )\n",
    "            results.append( out )\n",
    "            end = time.time()\n",
    "            print( \" |- Computing P\")\n",
    "            print( \"\" )\n",
    "            P.append( GetP( torch.exp(out['potential_f']/eps),K,torch.exp(out['potential_g']/eps) ))\n",
    "            time_stamps.append( 1e-3*( end-start ) )\n",
    "        else:\n",
    "            # a and b   \n",
    "            a = normalize(jnp.ones(N[0]))\n",
    "            b = normalize(jnp.ones(N[1]))\n",
    "            K = jnp.exp(-C/eps)\n",
    "            start = time.time()\n",
    "            start = time.time()\n",
    "            output = computational_OT.logdomain_sinkhorn_JAX.update( \n",
    "                                                                        a, \n",
    "                                                                        b, \n",
    "                                                                        C, \n",
    "                                                                        eps,\n",
    "                                                                        niter = iterations\n",
    "                                                                        )\n",
    "            results.append( output )\n",
    "            end = time.time()\n",
    "            print( \" |- Computing P\")\n",
    "            print( \"\" )\n",
    "            P.append(GetP(jnp.exp(output['potential_f']/eps), jnp.exp(-C/eps), jnp.exp(output['potential_g']/eps)))  \n",
    "            time_stamps.append(1e-3*(end-start) )  \n",
    "            \n",
    "    return {\n",
    "        'results_list': results,\n",
    "        'time_stamps' : time_stamps,\n",
    "        'Ps'          : P\n",
    "    }\n",
    "    "
   ]
  },
  {
   "cell_type": "markdown",
   "metadata": {},
   "source": [
    "## Experiments"
   ]
  },
  {
   "cell_type": "markdown",
   "metadata": {},
   "source": [
    "### Sinkhorn"
   ]
  },
  {
   "cell_type": "code",
   "execution_count": null,
   "metadata": {},
   "outputs": [],
   "source": [
    "x,y = generate_data(N)\n",
    "outputSinkhorn = Experiment(\"Sinkhorn\", distmat(x,y), epsilons, N)"
   ]
  },
  {
   "cell_type": "code",
   "execution_count": null,
   "metadata": {},
   "outputs": [],
   "source": [
    "plt.figure( figsize = (20,7) )\n",
    "plt.title( \"$||P1 -a||_1+||P1 -b||_1$\" )\n",
    "for i in range( len(outputSinkhorn['results_list']) ):\n",
    "  error=np.asarray( outputSinkhorn['results_list'][i]['error_a'] )+np.asarray( outputSinkhorn['results_list'][i]['error_b'] )\n",
    "  plt.plot( error,label='Sinkhorn for $\\epsilon=$'+ str(epsilons[i]), linewidth = 2 )\n",
    "plt.yscale( 'log' )\n",
    "plt.legend()\n",
    "plt.savefig(\"SinkhornVersions_images/ConvergenceSinkhornvaryingepsilon.png\")\n",
    "plt.show()"
   ]
  },
  {
   "cell_type": "markdown",
   "metadata": {},
   "source": [
    "### Log-domain Sinkhorn"
   ]
  },
  {
   "cell_type": "code",
   "execution_count": null,
   "metadata": {},
   "outputs": [],
   "source": [
    "x,y = generate_data(N)\n",
    "outputLogSinkhorn = Experiment(\"Log_domainSinkhorn\", distmat(x,y), epsilons, N)"
   ]
  },
  {
   "cell_type": "code",
   "execution_count": null,
   "metadata": {},
   "outputs": [],
   "source": [
    "plt.figure( figsize = (20,7) )\n",
    "plt.title( \"LogSin$||P1-a||_1+||P1-b||_1$\" )\n",
    "for i in range(len(outputLogSinkhorn['results_list'])):\n",
    "    error = np.asarray( outputLogSinkhorn['results_list'][i]['error'] )\n",
    "    plt.plot( error, label='Log-domain Sinkhorn for $\\epsilon=$'+str(epsilons[i]), linewidth = 2  )\n",
    "plt.yscale(  'log' )\n",
    "plt.legend()\n",
    "plt.savefig(\"SinkhornVersions_images/ConvergenceLogSinkhornvaryingepsilons.png\")\n",
    "plt.show()"
   ]
  },
  {
   "cell_type": "markdown",
   "metadata": {},
   "source": [
    "### Log-domain Sinkhorn using jax"
   ]
  },
  {
   "cell_type": "code",
   "execution_count": null,
   "metadata": {},
   "outputs": [],
   "source": [
    "x,y = generate_data(N)\n",
    "outputLogSinkhornJax = Experiment(\"Log_domainSinkhornJax\", distmat(x,y), epsilons, N)"
   ]
  },
  {
   "cell_type": "code",
   "execution_count": null,
   "metadata": {},
   "outputs": [],
   "source": [
    "plt.figure( figsize = (20,7) )\n",
    "plt.title( \"LogSin$||P1-a||_1+||P1-b||_1$\" )\n",
    "for i in range(len(outputLogSinkhornJax['results_list'])):\n",
    "    error = np.asarray( outputLogSinkhornJax['results_list'][i]['error'] )\n",
    "    plt.plot( error, label='Log-domain Sinkhorn for $\\epsilon=$'+str(epsilons[i]), linewidth = 2  )\n",
    "plt.yscale(  'log' )\n",
    "plt.legend()\n",
    "plt.savefig(\"SinkhornVersions_images/ConvergenceLogSinkhornJaxvaryingepsilons.png\")\n",
    "plt.show()"
   ]
  },
  {
   "cell_type": "markdown",
   "metadata": {},
   "source": [
    "### Log-domain Sinkhorn usig torch"
   ]
  },
  {
   "cell_type": "code",
   "execution_count": null,
   "metadata": {},
   "outputs": [],
   "source": [
    "x,y = generate_data(N)\n",
    "x, y = torch.from_numpy(x), torch.from_numpy(y)"
   ]
  },
  {
   "cell_type": "code",
   "execution_count": null,
   "metadata": {},
   "outputs": [],
   "source": [
    "outputtorchLogSinkhorn = Experiment(\"Log_domainSinkhorntorch\", torchdistmat(x,y), epsilons, N)"
   ]
  },
  {
   "cell_type": "code",
   "execution_count": null,
   "metadata": {},
   "outputs": [],
   "source": [
    "plt.figure( figsize = (20,7) )\n",
    "plt.title( \"$||P1-a||_1+||P1-b||_1$\" ),\n",
    "for i in range(len(outputtorchLogSinkhorn['results_list'])):\n",
    "    error = outputtorchLogSinkhorn['results_list'][i]['error'] \n",
    "    plt.plot( error, label='Log-domain Sinkhorn for $\\epsilon=$'+str(epsilons[i]), linewidth = 2  )\n",
    "plt.yscale(  'log' )\n",
    "plt.legend()\n",
    "plt.savefig(\"SinkhornVersions_images/ConvergenceLogSinkhorntorchvaryingepsilons.png\")\n",
    "plt.show()"
   ]
  },
  {
   "cell_type": "markdown",
   "metadata": {},
   "source": [
    "#### Time plot"
   ]
  },
  {
   "cell_type": "code",
   "execution_count": null,
   "metadata": {},
   "outputs": [],
   "source": [
    "plt.figure(figsize = (10,4))\n",
    "plt.title(\"Time plot for differents Sinkhorn versions\")\n",
    "plt.plot(list(range(len(outputSinkhorn['time_stamps']))), outputSinkhorn['time_stamps'], label = 'Sinkhorn', marker='o', linewidth = 2)\n",
    "plt.plot(list(range(len(epsilons))), outputLogSinkhorn['time_stamps'], label = 'Log-domain Sinkhorn', marker='o', linewidth = 2)\n",
    "plt.plot(list(range(len(epsilons))), outputtorchLogSinkhorn['time_stamps'], label = 'Log-domain Sinkhorn using Pytorch',marker='o', linewidth = 2)\n",
    "plt.plot(list(range(len(epsilons))), outputLogSinkhornJax['time_stamps'], label = 'Log-domain Sinkhorn using JAX',marker='o', linewidth = 2)\n",
    "plt.legend()\n",
    "plt.xticks(list(range(len(epsilons))), epsilons)\n",
    "plt.xlabel(\"$\\epsilon$\")\n",
    "plt.yscale('log')\n",
    "plt.ylabel(\"Time in ms\")\n",
    "plt.savefig(\"SinkhornVersions_images/Timeplot.png\")\n",
    "plt.show()"
   ]
  },
  {
   "cell_type": "code",
   "execution_count": null,
   "metadata": {},
   "outputs": [],
   "source": []
  }
 ],
 "metadata": {
  "kernelspec": {
   "display_name": ".venv_computational-OT",
   "language": "python",
   "name": "python3"
  },
  "language_info": {
   "codemirror_mode": {
    "name": "ipython",
    "version": 3
   },
   "file_extension": ".py",
   "mimetype": "text/x-python",
   "name": "python",
   "nbconvert_exporter": "python",
   "pygments_lexer": "ipython3",
   "version": "3.10.12"
  }
 },
 "nbformat": 4,
 "nbformat_minor": 2
}
