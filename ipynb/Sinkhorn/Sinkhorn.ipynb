{
 "cells": [
  {
   "cell_type": "code",
   "execution_count": null,
   "metadata": {},
   "outputs": [],
   "source": [
    "from __future__ import division\n",
    "import os\n",
    "import numpy as np\n",
    "import time\n",
    "import matplotlib.pyplot as plt\n",
    "import scipy as scp\n",
    "import pylab as pyl\n",
    "\n",
    "import warnings\n",
    "warnings.filterwarnings('ignore')\n",
    "np.random.seed(1234)\n",
    "\n",
    "%matplotlib inline\n",
    "%load_ext autoreload\n",
    "%autoreload "
   ]
  },
  {
   "cell_type": "code",
   "execution_count": null,
   "metadata": {},
   "outputs": [],
   "source": [
    "if not os.path.isdir('Sinkhorn_images'):\n",
    "    os.makedirs('Sinkhorn_images')"
   ]
  },
  {
   "cell_type": "code",
   "execution_count": null,
   "metadata": {},
   "outputs": [],
   "source": [
    "\"\"\"To compute distance matrix\"\"\"\n",
    "def distmat(x,y):\n",
    "    return np.sum( x**2,0 )[:,None] + np.sum( y**2,0 )[None,:] - 2*x.transpose().dot(y)\n",
    "\n",
    "\"\"\"To Normalise a vector\"\"\"\n",
    "normalize = lambda a: a/np.sum( a )\n",
    "\n",
    "\"\"\"To Compute P\"\"\"\n",
    "def GetP(u,K,v):\n",
    "    return u[:,None]*K*v[None,:]\n",
    "\n",
    "def plotp(x, col,plt, scale=200, edgecolors=\"k\"):\n",
    "  return plt.scatter( x[0,:], x[1,:], s=scale, edgecolors=edgecolors,  c=col, cmap='plasma', linewidths=2 )"
   ]
  },
  {
   "cell_type": "code",
   "execution_count": null,
   "metadata": {},
   "outputs": [],
   "source": [
    "import computational_OT"
   ]
  },
  {
   "attachments": {},
   "cell_type": "markdown",
   "metadata": {},
   "source": [
    "## Sinkhorn for varying N and fixed $\\varepsilon$"
   ]
  },
  {
   "cell_type": "code",
   "execution_count": null,
   "metadata": {},
   "outputs": [],
   "source": [
    "def randomsampledata(N):\n",
    "  x = []\n",
    "  y = []\n",
    "  N=np.sort(N)\n",
    "  for i in range(len(N)):\n",
    "    x.append(np.random.rand(2,N[i])-0.5)\n",
    "    theta= 2*np.pi*np.random.rand(1,N[i])\n",
    "    r = 0.8+0.2*np.random.rand(1,N[i])\n",
    "    y.append(np.vstack((np.cos(theta)*r,np.sin(theta)*r)))\n",
    "  \n",
    "  return x,y,N"
   ]
  },
  {
   "cell_type": "code",
   "execution_count": null,
   "metadata": {},
   "outputs": [],
   "source": [
    "N = [ 200,400,600,800,1000 ]\n",
    "x,y,N = randomsampledata(N)"
   ]
  },
  {
   "cell_type": "code",
   "execution_count": null,
   "metadata": {},
   "outputs": [],
   "source": [
    "# Sinkhorn\n",
    "print(\"Sinkhorn.... \")\n",
    "SinkhornP = []\n",
    "results_Sinkhorn = []\n",
    "times_Sinkhorn = []\n",
    "Pmatrix_dist_linVSsinkhorn = []\n",
    "for i in range(len(N)):\n",
    "\n",
    "  \n",
    "  xi,yi = x[i],y[i]\n",
    "  #Cost matrix\n",
    "  C = distmat(xi,yi)\n",
    "  \n",
    "  # a and b\n",
    "  a = normalize(np.ones(N[i]))\n",
    "  a = a.reshape(a.shape[0],-1)\n",
    "  b = normalize(np.ones(N[i]))\n",
    "  b = b.reshape(b.shape[0],-1)\n",
    "  \n",
    "  #Epsilon\n",
    "  epsilon = .06\n",
    "\n",
    "  #Kernel\n",
    "  K = np.exp(-C/epsilon)\n",
    "\n",
    "\n",
    "  print(\"Doing for \",N[i])\n",
    "  print( \" |- Iterating\")\n",
    "\n",
    "  #Inflating\n",
    "  u = a\n",
    "  v = b\n",
    "\n",
    "  start = time.time()\n",
    "  Optimizer = computational_OT.Sinkhorn(K,a,b,u,v,epsilon)\n",
    "  out = Optimizer._update()\n",
    "  results_Sinkhorn.append(out)\n",
    "  end = time.time()\n",
    "  times_Sinkhorn.append(end-start)\n",
    "  print( \" |- Computing P\")\n",
    "  print( \"\" )\n",
    "  SinkhornP.append(GetP(out['potential_f']/epsilon,K,out['potential_g']/epsilon))\n",
    "  "
   ]
  },
  {
   "cell_type": "code",
   "execution_count": null,
   "metadata": {},
   "outputs": [],
   "source": [
    "plt.figure(figsize = (20,7))\n",
    "\n",
    "plt.subplot(2,1,1),\n",
    "plt.title(\"$||P1 -a||_1$\")\n",
    "for result in results_Sinkhorn:\n",
    "  plt.plot( np.asarray(result['error_a']), linewidth = 2)\n",
    "plt.yscale( 'log')\n",
    "plt.legend([str(i) for i in N],loc=\"upper right\")\n",
    "\n",
    "plt.subplot(2,1,2)\n",
    "plt.title(\"$||P^T 1 -b||_1$\")\n",
    "for result in results_Sinkhorn:\n",
    "  plt.plot( np.asarray(result['error_b']), linewidth = 2)\n",
    "plt.yscale( 'log')\n",
    "plt.legend([str(i) for i in N],loc=\"upper right\")\n",
    "plt.savefig(\"Sinkhorn_images/ConvergenceSinkhorn.png\")\n",
    "plt.show()"
   ]
  },
  {
   "cell_type": "code",
   "execution_count": null,
   "metadata": {},
   "outputs": [],
   "source": [
    "plt.figure(figsize = (20,7))\n",
    "plt.subplot(2,1,1),\n",
    "plt.title(\"Objective Function\")\n",
    "\n",
    "\n",
    "for result in results_Sinkhorn:\n",
    "  plt.plot(np.asarray(result['objectives']).flatten(), linewidth = 2)\n",
    "plt.legend([str(i) for i in N],loc=\"upper right\")\n",
    "plt.savefig(\"Sinkhorn_images/ObjectivefunctionSinkhorn.png\")\n",
    "plt.show()"
   ]
  },
  {
   "attachments": {},
   "cell_type": "markdown",
   "metadata": {},
   "source": [
    "## Sinkhron for varying $\\varepsilon$"
   ]
  },
  {
   "cell_type": "code",
   "execution_count": null,
   "metadata": {},
   "outputs": [],
   "source": [
    "N = [ 400,500 ]"
   ]
  },
  {
   "cell_type": "code",
   "execution_count": null,
   "metadata": {},
   "outputs": [],
   "source": [
    "x = np.random.rand( 2,N[0] )-0.5\n",
    "theta = 2*np.pi*np.random.rand( 1,N[1] )\n",
    "r = 0.8+.2*np.random.rand( 1,N[1] )\n",
    "y = np.vstack( ( r*np.cos( theta ),r*np.sin( theta ) ) )"
   ]
  },
  {
   "cell_type": "code",
   "execution_count": null,
   "metadata": {},
   "outputs": [],
   "source": [
    "# Sinkhorn\n",
    "print(\"Sinkhorn.... \")\n",
    "SinkhornP=[]\n",
    "results_Sinkhorn=[]\n",
    "times_Sinkhorn=[]\n",
    "epsilons = [ 1.0, 0.5, 0.3, 0.1, 0.09, 0.05, 0.03, 0.02, 0.01, 0.005, 0.001 ]\n",
    "Pmatrix_dist_linVSsinkhorn=[]\n",
    "for eps in epsilons:\n",
    "\n",
    "  print( \"Log-Sinkhorn for epsilon = \"+str(eps)+\":\" )    \n",
    "  #Cost matrix\n",
    "  C = distmat(x,y)\n",
    "  \n",
    "  # a and b\n",
    "  a = normalize(np.ones(N[0]))\n",
    "  a = a.reshape(a.shape[0],-1)\n",
    "  b = normalize(np.ones(N[1]))\n",
    "  b = b.reshape(b.shape[0],-1)\n",
    "\n",
    "\n",
    "\n",
    "  #Kernel\n",
    "  K = np.exp(-C/eps)\n",
    "\n",
    "\n",
    "  print( \"Doing for (\",N[0],N[1],\").\" )\n",
    "  print( \" |- Iterating\" )\n",
    "\n",
    "  #Inflating\n",
    "  u = a\n",
    "  v = b\n",
    "\n",
    "  start = time.time()\n",
    "  Optimizer = computational_OT.Sinkhorn( K,a,b,u,v,eps )\n",
    "  out = Optimizer._update(maxiter = 500 )\n",
    "  results_Sinkhorn.append( out )\n",
    "  end = time.time()\n",
    "  times_Sinkhorn.append( end-start )\n",
    "  print( \" |- Computing P\" )\n",
    "  print( \"\" )\n",
    "  SinkhornP.append(GetP(out['potential_f']/eps,K,out['potential_g']/eps))\n",
    "  "
   ]
  },
  {
   "cell_type": "code",
   "execution_count": null,
   "metadata": {},
   "outputs": [],
   "source": [
    "plt.figure( figsize = (20,7) )\n",
    "\n",
    "plt.subplot(2,1,1),\n",
    "plt.title( \"$||P1 -a||_1+||P1 -b||_1$\" )\n",
    "for i in range( len(results_Sinkhorn) ):\n",
    "  error=np.asarray( results_Sinkhorn[i]['error_a'] )+np.asarray( results_Sinkhorn[i]['error_b'] )\n",
    "  plt.plot( error,label='Sinkhorn for $\\epsilon=$'+ str(epsilons[i]), linewidth = 2 )\n",
    "plt.yscale( 'log' )\n",
    "plt.legend()\n",
    "\n",
    "plt.savefig(\"Sinkhorn_images/ConvergenceSinkhornvaryingepsilon.png\")\n",
    "plt.show()"
   ]
  },
  {
   "cell_type": "code",
   "execution_count": null,
   "metadata": {},
   "outputs": [],
   "source": []
  }
 ],
 "metadata": {
  "kernelspec": {
   "display_name": ".venv_computational-OT",
   "language": "python",
   "name": "python3"
  },
  "language_info": {
   "codemirror_mode": {
    "name": "ipython",
    "version": 3
   },
   "file_extension": ".py",
   "mimetype": "text/x-python",
   "name": "python",
   "nbconvert_exporter": "python",
   "pygments_lexer": "ipython3",
   "version": "3.10.6"
  },
  "orig_nbformat": 4
 },
 "nbformat": 4,
 "nbformat_minor": 2
}
