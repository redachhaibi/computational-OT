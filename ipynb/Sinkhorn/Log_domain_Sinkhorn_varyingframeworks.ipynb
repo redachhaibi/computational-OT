{
 "cells": [
  {
   "cell_type": "markdown",
   "metadata": {},
   "source": [
    "# In this we look into the performance of log-domain Sinkhorn for different framework namely: numpy, jax and torch."
   ]
  },
  {
   "cell_type": "code",
   "execution_count": null,
   "metadata": {},
   "outputs": [],
   "source": [
    "import os\n",
    "# os.environ['XLA_FLAGS'] = (\n",
    "#     '--xla_gpu_enable_triton_softmax_fusion=true '\n",
    "#     '--xla_gpu_triton_gemm_any=True '\n",
    "#     '--xla_gpu_enable_async_collectives=true '\n",
    "#     '--xla_gpu_enable_latency_hiding_scheduler=true '\n",
    "#     '--xla_gpu_enable_highest_priority_async_stream=true '\n",
    "# )"
   ]
  },
  {
   "cell_type": "code",
   "execution_count": null,
   "metadata": {},
   "outputs": [],
   "source": [
    "import jax\n",
    "import jax.numpy as jnp\n",
    "jax.config.update(\"jax_enable_x64\", True)\n",
    "jax.config.update(\"jax_platform_name\", \"cpu\")\n",
    "from __future__ import division\n",
    "import numpy as np\n",
    "import time\n",
    "import matplotlib.pyplot as plt\n",
    "import warnings\n",
    "warnings.filterwarnings('ignore')\n",
    "np.random.seed(1234)\n",
    "import torch\n",
    "torch.set_default_tensor_type(torch.DoubleTensor)\n",
    "torch.set_default_dtype(torch.float64)\n",
    "torch.manual_seed(1234)        \n",
    "%matplotlib inline \n",
    "%load_ext autoreload                                                                                                                                                                                            \n",
    "%autoreload "
   ]
  },
  {
   "cell_type": "code",
   "execution_count": null,
   "metadata": {},
   "outputs": [],
   "source": [
    "import computational_OT"
   ]
  },
  {
   "cell_type": "code",
   "execution_count": null,
   "metadata": {},
   "outputs": [],
   "source": [
    "relative_path_to_new_folder = \"../Images\"\n",
    "os.makedirs(relative_path_to_new_folder, exist_ok = True)\n",
    "if not os.path.isdir('../Images/Log_domain_Sinkhorn_varyingframework_images'):\n",
    "    os.makedirs('../Images/Log_domain_Sinkhorn_varyingframework_images')"
   ]
  },
  {
   "cell_type": "markdown",
   "metadata": {},
   "source": [
    "## Entropy regularized formulation\n",
    "\n",
    "The primal entropy regularized formulation of OT is given by:\n",
    "$$\n",
    "OT_{\\varepsilon}(\\alpha,\\beta) = min_{\\pi \\in \\mathcal{U}(\\alpha,\\beta)} \\langle C,\\pi \\rangle +\\varepsilon KL(\\pi\\|\\alpha \\otimes \\beta)\\ ,\n",
    "$$\n",
    "where\n",
    "$\\ \n",
    "KL(\\pi\\|\\alpha \\otimes \\beta) \n",
    "\\ $ is the KL-divergence. "
   ]
  },
  {
   "cell_type": "markdown",
   "metadata": {},
   "source": [
    "## Entropy regularized dual-formulation\n",
    "The dual formulation of OT is given by:\n",
    "$$\n",
    "OT_{\\varepsilon}(\\alpha,\\beta) = \\max_{f\\in \\mathbb{R}^{n}, g\\in\\mathbb{R}^{m}} \\langle f, \\alpha \\rangle + \\langle g, \\beta \\rangle - \\varepsilon\\left(\\langle\\alpha \\otimes \\beta, e^{\\frac{f}{\\varepsilon}}\\odot K \\odot e^{\\frac{g}{\\varepsilon}}  \\rangle-1\\right)\\ ,\n",
    "$$\n",
    "where\n",
    "$$\n",
    "\\alpha \\in \\mathcal{M}_{1}(\\mathcal{X}),\\ \\beta \\in \\mathcal{M}_{1}(\\mathcal{Y}),\\ \\varepsilon0,\\ f\\in\\mathbb{R}^{n},\\ g\\in \\mathbb{R}^{m}\\ .\n",
    "$$"
   ]
  },
  {
   "cell_type": "markdown",
   "metadata": {},
   "source": [
    "## Sinkhorn\n",
    "The optimal coupling $\\pi^{*}$ has the following form :\n",
    "$$\n",
    "\\pi^{*} = diag(\\alpha)K diag(\\beta)\n",
    "$$\n",
    "and we know that $\\pi^{*}\\mathbb{1}=\\alpha$ and $(\\pi^{*})^{T}\\mathbb{1}=\\beta$.\n",
    "###\n",
    "Therefore, Sinkhorn updates is given by the following iterative projections\n",
    "$$\n",
    "u^{t+1}  \\leftarrow \\frac{1}{K(v^{t}\\odot \\beta)}\\ , \\ \n",
    "v^{t+1}  \\leftarrow \\frac{1}{K^{T}(u^{t+1}\\odot \\alpha)}\\ , \n",
    "$$\n",
    "where \n",
    "$K = e^{-\\frac{C}{\\varepsilon}}\\in M_{n\\times m}(\\mathbb{R}),\\ \\alpha \\in \\mathbb{R}^{n},\\ \\beta \\in \\mathbb{R}^{m}\\ ,\\ u\\in \\mathbb{R}^{n},\\ v\\in \\mathbb{R}^{m}\\ and \\ (u^{0},v^{0})=(u,v)\\ .$\n",
    "\n"
   ]
  },
  {
   "cell_type": "markdown",
   "metadata": {},
   "source": [
    "## Log-domain Sinkhorn\n",
    "Now, the exp-log regularized update of the Sinkhorn algorithm is as follows:\n",
    "$$\n",
    "m_{i}(g)\\leftarrow \\min_{j}(C_{ij}-g_{j}^{(t)}),\\ \\forall\\  i = 1,\\dots,n\\ ,\n",
    "$$\n",
    "$$\n",
    "f^{(t+1)}_{i}\\leftarrow -\\varepsilon \\log\\left(\\sum_{j=1}^{m}\\exp\\left(\\frac{-\\left(C_{ij}-g_{j}^{(t)}-m_{i}(g)\\right)}{\\varepsilon}\\right)\\beta_{j}\\right)+m_{i}(g),\\ \\forall\\  i=1,\\dots,n\\ ,\n",
    "$$\n",
    "$$\n",
    "m_{j}(f)\\leftarrow \\min_{i}(C_{ij}-f_{i}^{(t+1)}),\\ \\forall\\   j=1,\\dots,m\\\n",
    " ,\n",
    "$$\n",
    "$$\n",
    "g^{(t+1)}_{j}\\leftarrow -\\varepsilon \\log\\left(\\sum_{i=1}^{n}\\exp\\left(\\frac{-\\left(C_{ij}-f_{i}^{(t+1)}-m_{j}(f)\\right)}{\\varepsilon}\\right)\\alpha_{i}\\right)+m_{j}(f),\\ \\forall\\  j=1,\\dots,m\\ ,\n",
    "$$\n",
    "where \n",
    "$K=e^{-C/\\varepsilon} \\in M_{n \\times m}(\\mathbb{R}),\\ $ $\\varepsilon >0,\\ $ $\\alpha \\in \\mathbb{R}^{n},\\ $ $\\beta \\in \\mathbb{R}^{m},\\ $\n",
    "   $f \\in \\mathbb{R}^{n},\\ $ $g \\in \\mathbb{R}^{m}\\ and \\ (f^{(0)},g^{(0)})=(f,g)$.\n",
    "\n"
   ]
  },
  {
   "cell_type": "code",
   "execution_count": null,
   "metadata": {},
   "outputs": [],
   "source": [
    "\"\"\"To compute distance matrix\"\"\"\n",
    "def distmat( x, y ):\n",
    "    return np.sum( x**2, 0 )[:,None] + np.sum( y**2, 0 )[None,:] - 2 * x.transpose().dot( y )\n",
    "\n",
    "\"\"\"To Normalise a vector\"\"\"\n",
    "normalize = lambda a: a/np.sum( a )\n",
    "\n",
    "\"\"\"To Compute P\"\"\"\n",
    "def GetP( u, K, v ):\n",
    "    return u[:,None] * K * v[None,:]\n",
    "\n",
    "def plotp( x, col, plt, scale = 200, edgecolors = \"k\" ):\n",
    "  return plt.scatter( x[0,:], x[1,:], s = scale, edgecolors = edgecolors,  c = col, cmap = 'plasma', linewidths = 2 )"
   ]
  },
  {
   "cell_type": "code",
   "execution_count": null,
   "metadata": {},
   "outputs": [],
   "source": [
    "def generate_data(N):\n",
    "    \"\"\"\n",
    "     N is a list of the size of the data on x and y\n",
    "    \"\"\"\n",
    "    x = np.random.rand( 2, N[0] ) - 0.5\n",
    "    theta = 2 * np.pi * np.random.rand( 1, N[1] )\n",
    "    r = 0.8 + .2 * np.random.rand( 1, N[1] )\n",
    "    y = np.vstack( ( r * np.cos( theta ), r * np.sin( theta ) ) )\n",
    "    return x, y"
   ]
  },
  {
   "cell_type": "code",
   "execution_count": null,
   "metadata": {},
   "outputs": [],
   "source": [
    "epsilons = [ 0.5, 0.1, 0.05, 0.01 ]\n",
    "N = [ 500, 600 ]"
   ]
  },
  {
   "cell_type": "markdown",
   "metadata": {},
   "source": [
    "### I. Log-domain Sinkhorn using numpy"
   ]
  },
  {
   "cell_type": "code",
   "execution_count": null,
   "metadata": {},
   "outputs": [],
   "source": [
    "# Log domain Sinkhorn\n",
    "print( \"Log domain Sinkhorn using numpu... \" )\n",
    "print( \"Doing for (\",N[0],N[1],\").\" )\n",
    "x, y = generate_data( N )\n",
    "a = normalize( np.ones( N[0] ) )\n",
    "b = normalize( np.ones( N[1] ) )\n",
    "results_logSinkhorn_numpy = []\n",
    "times_logSinkhorn_numpy   = []\n",
    "logsinkhornP_numpy        = []\n",
    "#Cost matrix\n",
    "C = distmat( x, y )\n",
    "for eps in epsilons:\n",
    "  print( \"For epsilon = \"+str(eps)+\":\" )    \n",
    "  print( \" |- Iterating\" )\n",
    "  start = time.time()\n",
    "  logsinkhorn = computational_OT.log_domainSinkhorn_np(   a,\n",
    "                                                          b,\n",
    "                                                          C,\n",
    "                                                          eps )\n",
    "  out = logsinkhorn.update( max_iterations = 500 )\n",
    "  results_logSinkhorn_numpy.append( out )\n",
    "  end = time.time()\n",
    "  times_logSinkhorn_numpy.append( end - start )\n",
    "  print( \" |- Computing P\" )\n",
    "  print( \"\" )\n",
    "  u_opt = np.exp( out['potential_f']/eps )\n",
    "  K = np.exp( - C/eps )\n",
    "  v_opt =  np.exp( out['potential_g']/eps )\n",
    "  P_opt = GetP( u_opt, K, v_opt )\n",
    "  logsinkhornP_numpy.append( P_opt )\n",
    "# end for"
   ]
  },
  {
   "cell_type": "markdown",
   "metadata": {},
   "source": [
    "#### Error plot"
   ]
  },
  {
   "cell_type": "code",
   "execution_count": null,
   "metadata": {},
   "outputs": [],
   "source": [
    "plt.figure( figsize = ( 20, 7 ) )\n",
    "plt.subplot( 2, 1, 1),\n",
    "plt.title( \"$||P1 -a||_1+||P1 -b||_1$\" )\n",
    "for i in range( len( results_logSinkhorn_numpy) ):\n",
    "  error = np.asarray( results_logSinkhorn_numpy[i]['error'] )\n",
    "  plt.plot( error, label = 'Log-sinkhorn for $\\epsilon = $'+ str(epsilons[i]) , linewidth = 2 )\n",
    "# end for\n",
    "plt.yscale( 'log' )\n",
    "plt.legend( loc = \"upper right\" )\n",
    "plt.xlabel( \"Iterations\" )\n",
    "plt.ylabel( \"Error in log-scale\" )\n",
    "plt.savefig( \"../Images/Log_domain_Sinkhorn_varyingframework_images/Convergencelog_Sinkhorn_np.pdf\", format = 'pdf'  )\n",
    "plt.show()"
   ]
  },
  {
   "cell_type": "markdown",
   "metadata": {},
   "source": [
    "### II. Log-domain Sinkhorn using JAX"
   ]
  },
  {
   "cell_type": "code",
   "execution_count": null,
   "metadata": {},
   "outputs": [],
   "source": [
    "# Log domain Sinkhorn using JAX\n",
    "print(\"Log domain Sinkhorn using JAX... \")\n",
    "print( \"Doing for (\",N[0], N[1],\").\" )\n",
    "x, y = generate_data( N )\n",
    "a = normalize( np.ones( N[0] ) )\n",
    "b = normalize( np.ones( N[1] ) )\n",
    "results_logSinkhorn_jax = []\n",
    "times_logSinkhorn_jax   = []\n",
    "logsinkhornP_jax     = []      \n",
    "#Cost matrix\n",
    "C = distmat( x, y )  \n",
    "for eps in epsilons:\n",
    "  print( \"For epsilon = \"+str(eps)+\":\" )    \n",
    "  print( \" |- Iterating\" )\n",
    "  start = time.time()\n",
    "  out = computational_OT.Logdomain_Sinkhorn_jax.update(   a,\n",
    "                                                          b,\n",
    "                                                          C,\n",
    "                                                          eps)\n",
    "  results_logSinkhorn_jax.append( out )\n",
    "  end = time.time() \n",
    "  times_logSinkhorn_jax.append( end - start )\n",
    "  print( \" |- Computing P\" )\n",
    "  print( \"\" )\n",
    "  u_opt = np.exp( out['potential_f']/eps )\n",
    "  K = np.exp( - C/eps )\n",
    "  v_opt =  np.exp( out['potential_g']/eps )\n",
    "  P_opt = GetP( u_opt, K, v_opt )\n",
    "  logsinkhornP_jax.append( P_opt )\n",
    "# end for"
   ]
  },
  {
   "cell_type": "markdown",
   "metadata": {},
   "source": [
    "#### Error plot"
   ]
  },
  {
   "cell_type": "code",
   "execution_count": null,
   "metadata": {},
   "outputs": [],
   "source": [
    "plt.figure( figsize = ( 20, 7 ) )\n",
    "plt.subplot( 2, 1, 1),\n",
    "plt.title( \"$||P1 -a||_1+||P1 -b||_1$\" )\n",
    "for i in range( len( results_logSinkhorn_jax ) ):\n",
    "  error = jnp.asarray( results_logSinkhorn_jax[i]['error'] )\n",
    "  plt.plot( error, label = 'Log-sinkhorn for $\\epsilon = $'+ str(epsilons[i]) , linewidth = 2 )\n",
    "# end for\n",
    "plt.yscale( 'log' )\n",
    "plt.legend( loc = \"upper right\" )\n",
    "plt.xlabel( \"Iterations\" )\n",
    "plt.ylabel( \"Error in log-scale\" ) \n",
    "plt.savefig( \"../Images/Log_domain_Sinkhorn_varyingframework_images/Convergencelog_Sinkhorn_jax.pdf\", format = 'pdf'  )\n",
    "plt.show()"
   ]
  },
  {
   "cell_type": "markdown",
   "metadata": {},
   "source": [
    "### III. Log-domain Sinkhorn using torch"
   ]
  },
  {
   "cell_type": "code",
   "execution_count": null,
   "metadata": {},
   "outputs": [],
   "source": [
    "def torchdistmat( x, y ):\n",
    "   return torch.sum( x**2, 0 )[:,None] + torch.sum( y**2 ,0  )[None,:] - 2 * torch.matmul( x.t(), y )\n",
    "torchnormalize = lambda a: a/torch.sum( a )"
   ]
  },
  {
   "cell_type": "code",
   "execution_count": null,
   "metadata": {},
   "outputs": [],
   "source": [
    "# Log domain Sinkhorn using torch\n",
    "print(\"Log domain Sinkhorn using torch... \")\n",
    "print( \"Doing for (\",N[0], N[1],\").\" )\n",
    "x, y = generate_data( N )\n",
    "x, y = torch.from_numpy( x ), torch.from_numpy( y )\n",
    "a = torchnormalize( torch.ones( N[0] ) )\n",
    "b = torchnormalize( torch.ones( N[1] ) )\n",
    "results_logSinkhorn_torch = []\n",
    "times_logSinkhorn_torch   = []\n",
    "logsinkhornP_torch        = []\n",
    "#Cost matrix\n",
    "C = torchdistmat( x, y )\n",
    "for eps in epsilons:\n",
    "  print( \"For epsilon = \"+str(eps)+\":\" )    \n",
    "  print( \" |- Iterating\" )\n",
    "  start = time.time()\n",
    "  optimizer = computational_OT.logdomain_Sinkhorn_torch(  a,\n",
    "                                                          b,\n",
    "                                                          C,\n",
    "                                                          eps )\n",
    "  out = optimizer.update( max_iterations = 500 )\n",
    "  results_logSinkhorn_torch.append( out )\n",
    "  end = time.time()\n",
    "  times_logSinkhorn_torch.append( end - start )\n",
    "  print( \" |- Computing P\" )\n",
    "  print( \"\" )\n",
    "  u_opt = np.exp( out['potential_f']/eps )\n",
    "  K = np.exp( - C/eps )\n",
    "  v_opt =  np.exp( out['potential_g']/eps )\n",
    "  P_opt = GetP( u_opt, K, v_opt )\n",
    "  logsinkhornP_torch.append( P_opt )\n",
    "# end for"
   ]
  },
  {
   "cell_type": "markdown",
   "metadata": {},
   "source": [
    "#### Error plot"
   ]
  },
  {
   "cell_type": "code",
   "execution_count": null,
   "metadata": {},
   "outputs": [],
   "source": [
    "plt.figure( figsize = ( 20, 7 ) )\n",
    "plt.title( \"$||P1 -a||_1+||P1 -b||_1$\" ),\n",
    "for i in range(len(results_logSinkhorn_torch)):\n",
    "    error = results_logSinkhorn_torch[i]['error'] \n",
    "    plt.plot( error, label='Log-domain Sinkhorn for $\\epsilon = $'+str(epsilons[i]), linewidth = 2  )\n",
    "# end for\n",
    "plt.yscale( 'log' )\n",
    "plt.legend( loc = \"upper right\" )\n",
    "plt.savefig( \"../Images/Log_domain_Sinkhorn_varyingframework_images/Convergencelog_Sinkhorn_torch.pdf\", format = 'pdf'  )\n",
    "plt.show()"
   ]
  },
  {
   "cell_type": "markdown",
   "metadata": {},
   "source": [
    "### Time plot: numpy vs jax vs torch"
   ]
  },
  {
   "cell_type": "code",
   "execution_count": null,
   "metadata": {},
   "outputs": [],
   "source": [
    "plt.figure( figsize = ( 10, 4 ) )\n",
    "plt.plot( list(range(len(epsilons))), times_logSinkhorn_numpy[::-1], label = 'Log-domain Sinkhorn', marker = 'o', linewidth = 2 )\n",
    "plt.plot( list(range(len(epsilons))), times_logSinkhorn_jax[::-1], label = 'Log-domain Sinkhorn using JAX', marker = 'o', linewidth = 2 )\n",
    "plt.plot( list(range(len(epsilons))), times_logSinkhorn_torch[::-1], label = 'Log-domain Sinkhorn using torch', marker = 'o', linewidth = 2 )\n",
    "plt.legend( loc = \"upper right\" )\n",
    "plt.xticks( list(range(len(epsilons))), epsilons[::-1] )\n",
    "plt.xlabel( \"$\\epsilon$\" )\n",
    "plt.yscale( 'log' )\n",
    "plt.ylabel( \"Time in sec\" )\n",
    "plt.savefig( \"../Images/Log_domain_Sinkhorn_varyingframework_images/Timecomparison_log_Sinkhorn_torch.pdf\", format = 'pdf'  )\n",
    "plt.show()"
   ]
  }
 ],
 "metadata": {
  "kernelspec": {
   "display_name": ".venv_computational-OT",
   "language": "python",
   "name": "python3"
  },
  "language_info": {
   "codemirror_mode": {
    "name": "ipython",
    "version": 3
   },
   "file_extension": ".py",
   "mimetype": "text/x-python",
   "name": "python",
   "nbconvert_exporter": "python",
   "pygments_lexer": "ipython3",
   "version": "3.12.3"
  }
 },
 "nbformat": 4,
 "nbformat_minor": 2
}
