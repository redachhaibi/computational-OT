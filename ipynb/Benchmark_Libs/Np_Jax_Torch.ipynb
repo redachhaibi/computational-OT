{
 "cells": [
  {
   "cell_type": "code",
   "execution_count": null,
   "metadata": {},
   "outputs": [],
   "source": [
    "!pip install perfplot\n",
    "!pip install --upgrade \"jax[cpu]\""
   ]
  },
  {
   "cell_type": "code",
   "execution_count": null,
   "metadata": {},
   "outputs": [],
   "source": [
    "# NVIDIA GPU JAX Installation\n",
    "!pip install --upgrade pip\n",
    "# CUDA 12 installation\n",
    "# Note: wheels only available on linux.\n",
    "!pip install --upgrade \"jax[cuda12_pip]\" -f https://storage.googleapis.com/jax-releases/jax_cuda_releases.html\n"
   ]
  },
  {
   "cell_type": "code",
   "execution_count": null,
   "metadata": {},
   "outputs": [],
   "source": [
    "import numpy as np\n",
    "import jax \n",
    "import jax.numpy as jnp\n",
    "import torch"
   ]
  },
  {
   "cell_type": "code",
   "execution_count": null,
   "metadata": {},
   "outputs": [],
   "source": [
    "NUM_THREADS = 12\n",
    "torch.set_num_threads(NUM_THREADS)"
   ]
  },
  {
   "cell_type": "code",
   "execution_count": null,
   "metadata": {},
   "outputs": [],
   "source": [
    "import perfplot\n",
    "\n",
    "perfplot.show(\n",
    "    setup=lambda n: [np.random.rand(n, n), np.random.rand(n,n), torch.rand(n,n), torch.rand(n,n)] ,\n",
    "    kernels=[\n",
    "        lambda data: np.dot( data[0], data[1]),\n",
    "        lambda data: jnp.dot( data[0], data[1]),\n",
    "        lambda data: torch.matmul( data[2], data[3]),\n",
    "    ],\n",
    "    title=\"Matrix multiplication\",\n",
    "    labels=[\"Numpy\", \"Jax\", \"Torch\"],\n",
    "    n_range=[2 ** k for k in range(15)],\n",
    "    xlabel=\"len(a)\",\n",
    "    equality_check=False,\n",
    ")"
   ]
  },
  {
   "cell_type": "code",
   "execution_count": null,
   "metadata": {},
   "outputs": [],
   "source": [
    "import perfplot\n",
    "\n",
    "perfplot.show(\n",
    "    setup=lambda n: [np.random.rand(n, n), torch.rand(n,n)] ,\n",
    "    kernels=[\n",
    "        lambda data: np.exp( data[0] ),\n",
    "        lambda data: jnp.exp( data[0] ),\n",
    "        lambda data: torch.exp( data[1] ),\n",
    "    ],\n",
    "    title=\"Element-wise exponentiation\",\n",
    "    labels=[\"Numpy\", \"Jax\", \"Torch\"],\n",
    "    n_range=[2 ** k for k in range(15)],\n",
    "    xlabel=\"len(a)\",\n",
    "    equality_check=False,\n",
    ")"
   ]
  },
  {
   "cell_type": "code",
   "execution_count": null,
   "metadata": {},
   "outputs": [],
   "source": []
  }
 ],
 "metadata": {
  "kernelspec": {
   "display_name": ".venv_computational-OT",
   "language": "python",
   "name": "python3"
  },
  "language_info": {
   "codemirror_mode": {
    "name": "ipython",
    "version": 3
   },
   "file_extension": ".py",
   "mimetype": "text/x-python",
   "name": "python",
   "nbconvert_exporter": "python",
   "pygments_lexer": "ipython3",
   "version": "3.10.12"
  },
  "orig_nbformat": 4
 },
 "nbformat": 4,
 "nbformat_minor": 2
}
