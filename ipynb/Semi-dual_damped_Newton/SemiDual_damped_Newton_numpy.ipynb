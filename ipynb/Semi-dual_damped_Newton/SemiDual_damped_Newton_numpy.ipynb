{
 "cells": [
  {
   "cell_type": "markdown",
   "metadata": {},
   "source": [
    "# In this notebook we look into the performance of semi-dual damped Newton in the numpy framework."
   ]
  },
  {
   "cell_type": "code",
   "execution_count": null,
   "metadata": {},
   "outputs": [],
   "source": [
    "!pip install jaxlinop"
   ]
  },
  {
   "cell_type": "code",
   "execution_count": null,
   "metadata": {
    "metadata": {}
   },
   "outputs": [],
   "source": [
    "from __future__ import division\n",
    "import os\n",
    "import numpy as np\n",
    "import time\n",
    "import matplotlib.pyplot as plt\n",
    "import scipy as scp\n",
    "import warnings\n",
    "warnings.filterwarnings('ignore')\n",
    "np.random.seed(1234)\n",
    "import computational_OT\n",
    "%matplotlib inline\n",
    "%load_ext autoreload\n",
    "%autoreload 2"
   ]
  },
  {
   "cell_type": "code",
   "execution_count": null,
   "metadata": {
    "metadata": {}
   },
   "outputs": [],
   "source": [
    "relative_path_to_new_folder = \"../Images\"\n",
    "os.makedirs(relative_path_to_new_folder, exist_ok=True)\n",
    "if not os.path.isdir(\"../Images/DampedNewton_SemiDual_images_numpy\"):\n",
    "    os.makedirs(\"../Images/DampedNewton_SemiDual_images_numpy\")"
   ]
  },
  {
   "cell_type": "code",
   "execution_count": null,
   "metadata": {
    "metadata": {}
   },
   "outputs": [],
   "source": [
    "\"\"\"To compute distance matrix\"\"\"\n",
    "def distmat(x,y):\n",
    "    return np.sum( x**2,0 )[:,None] + np.sum( y**2,0 )[None,:] - 2*x.transpose().dot(y)\n",
    "\n",
    "\"\"\"To Normalise a vector\"\"\"\n",
    "normalize = lambda a: a/np.sum( a )\n",
    "\n",
    "\"\"\"To Compute P\"\"\"\n",
    "def GetP(u,K,v):\n",
    "    return u[:,None]*K*v[None,:]\n",
    "\n",
    "def plotp(x, col,plt, scale=200, edgecolors=\"k\"):\n",
    "  return plt.scatter( x[0,:], x[1,:], s=scale, edgecolors=edgecolors,  c=col, cmap='plasma', linewidths=2 )"
   ]
  },
  {
   "cell_type": "code",
   "execution_count": null,
   "metadata": {
    "metadata": {}
   },
   "outputs": [],
   "source": [
    "def generate_data(N):\n",
    "    \"\"\"\n",
    "     N is a list of the size of the data on x and y\n",
    "    \"\"\"\n",
    "    x = np.random.rand( 2,N[0] )-0.5\n",
    "    theta = 2*np.pi*np.random.rand( 1,N[1] )\n",
    "    r = 0.8+.2*np.random.rand( 1,N[1] )\n",
    "    y = np.vstack( ( r*np.cos( theta ),r*np.sin( theta ) ) )\n",
    "    return x,y"
   ]
  },
  {
   "cell_type": "code",
   "execution_count": null,
   "metadata": {
    "metadata": {}
   },
   "outputs": [],
   "source": [
    "N = [ 500,  600 ]\n",
    "x , y = generate_data(N)"
   ]
  },
  {
   "cell_type": "markdown",
   "metadata": {},
   "source": [
    "## Entropy regularized dual-formulation\n",
    "The dual formulation of the entropy regularized OT is given by:\n",
    "$$\n",
    "OT_{\\epsilon}(\\alpha,\\beta) = \\max_{f\\in \\mathbb{R}^{n}, g\\in\\mathbb{R}^{m}} \\langle f, \\alpha \\rangle + \\langle g, \\beta \\rangle - \\epsilon\\left(\\langle\\alpha \\otimes \\beta, e^{\\frac{f}{\\epsilon}}\\odot K \\odot e^{\\frac{g}{\\epsilon}}  \\rangle-1\\right)\\ ,\n",
    "$$\n",
    "where\n",
    "$$\n",
    "\\alpha \\in \\mathcal{M}_{1}(\\mathcal{X}),\\ \\beta \\in \\mathcal{M}_{1}(\\mathcal{Y}),\\ \\epsilon>0,\\ f\\in\\mathbb{R}^{n},\\ g\\in \\mathbb{R}^{m}\\ .\n",
    "$$"
   ]
  },
  {
   "cell_type": "markdown",
   "metadata": {},
   "source": [
    "## The dual formulation of OT is given by:\n",
    "Using the Shrodinger-bridge equations between the potentials, that is, $g_{j} = -\\epsilon\\log\\left(\\sum_{i}\\exp\\left(\\frac{f_{i}-C_{ij}}{\\epsilon}\\right)\\alpha_{i}\\right)\\ , \\ \\forall j = 1,\\dots,m$, we obtain the semi-dual formulation of the objective function, that is,\n",
    "$$\n",
    "Q_{\\epsilon}^{semi}(f) = \\langle f, \\alpha \\rangle + \\langle g(f,C,\\epsilon), \\beta \\rangle\\ , \n",
    "$$\n",
    "where\n",
    "$g(f,C,\\epsilon)_{j} = -\\epsilon\\log\\left(\\sum_{i}\\exp\\left(\\frac{f_{i}-C_{ij}}{\\epsilon}\\right)\\alpha_{i}\\right)$.\n",
    "\n",
    "In this setup, the gradients and the Hessian is as follows:\n",
    "$$\n",
    "\\nabla_{f}Q_{\\epsilon}^{semi}(f)_{i} = \\frac{1}{\\epsilon}\\alpha_{i}\\left(1-\\sum_{s=1}^{n}\\frac{e^{\\frac{f_{i}-C_{ij}}{\\epsilon}}\\beta_{s}}{\\left(\\sum_{t=1}^{n}\\alpha_{t}e^{\\frac{f_{t}-C_{ts}}{\\epsilon}}\\right)}\\right)\\ ,\\ \\forall i = 1,\\dots,n \n",
    "$$\n",
    "and\n",
    "$$\n",
    "\\nabla^{2}_{f}Q_{\\epsilon}^{semi}(f)_{ii} = \\frac{-1}{\\epsilon}\\sum_{s=1}^{m}\\left(\\alpha_{i}\\exp\\left(\\frac{f_{i}+g(f,C,\\epsilon)_{s}-C_{is}}{\\epsilon}\\right)\\right)\\left(1 - \\alpha_{i}\\left(\\exp\\left(\\frac{f_{i}+g(f,C,\\epsilon)_{s}-C_{is}}{\\epsilon}\\right)\\right)\\right)\\beta_{s}\\ ,\\ \\forall i =1,\\dots,n,\n",
    "$$\n",
    "and\n",
    "$$\n",
    "\\nabla^{2}_{f}Q_{\\epsilon}^{semi}(f)_{ij} = \\frac{1}{\\epsilon}\\sum_{s=1}^{m}\\alpha_{i}\\alpha_{j}\\left(\\exp\\left(\\frac{f_{i}+g(f,C,\\epsilon)_{s}-C_{is}}{\\epsilon}\\right)\\right)\\left(\\exp\\left(\\frac{f_{j}+g(f,C,\\epsilon)_{s}-C_{js}}{\\epsilon}\\right)\\right)\\beta_{s}\\ ,\\ \\forall i \\neq j = 1,\\dots,n\\ .\n",
    "$$\n",
    "Now we plug-in these gradients and Hessian in damped Newton algorithm as we did before.\n",
    "\n",
    "Here we also use the exp-log stabilization to stabilize $g$, the gradients as well as the Hessian as below\n",
    "$$\n",
    "m(f)_{j} \\leftarrow \\min_{i}(C_{ij}-f_{i})\\ ,  \\ \\forall j = 1,\\dots,m\\\\\n",
    "g_{j} = -\\epsilon\\log\\left(\\sum_{i}\\exp\\left(\\frac{f_{i}-C_{ij}+m(f)_{j}}{\\epsilon}\\right)\\alpha_{i}\\right)+m(f)_{j}\\ ,  \\ \\forall j = 1,\\dots,m\\ ,\\\\\n",
    "\\nabla_{f}Q_{\\epsilon}^{semi}(f)_{i} = \\frac{1}{\\epsilon}\\alpha_{i}\\left(1-\\sum_{s=1}^{n}\\frac{e^{\\frac{f_{i}-C_{ij}+m(f)_{j}}{\\epsilon}}\\beta_{s}}{\\left(\\sum_{t=1}^{n}\\alpha_{t}e^{\\frac{f_{t}-C_{ts}+m(f)_{j}}{\\epsilon}}\\right)}\\right)\\ ,\\ \\forall i = 1,\\dots,n\\ , \\\\\n",
    "\\nabla^{2}_{f}Q_{\\epsilon}^{semi}(f)_{ii} = \\frac{-1}{\\epsilon}\\sum_{s=1}^{m}\\left(\\alpha_{i}\\exp\\left(\\frac{f_{i}+g(f,C,\\epsilon)_{s}-C_{is}}{\\epsilon}\\right)\\right)\\left(1 - \\alpha_{i}\\left(\\exp\\left(\\frac{f_{i}+g(f,C,\\epsilon)_{s}-C_{is}}{\\epsilon}\\right)\\right)\\right)\\beta_{s}\\ ,\\ \\forall i =1,\\dots,n\\ , \\\\\n",
    "\\nabla^{2}_{f}Q_{\\epsilon}^{semi}(f)_{ij} = \\frac{1}{\\epsilon}\\sum_{s=1}^{m}\\alpha_{i}\\alpha_{j}\\left(\\exp\\left(\\frac{f_{i}+g(f,C,\\epsilon)_{s}-C_{is}}{\\epsilon}\\right)\\right)\\left(\\exp\\left(\\frac{f_{j}+g(f,C,\\epsilon)_{s}-C_{js}}{\\epsilon}\\right)\\right)\\beta_{s}\\ ,\\ \\forall i \\neq j = 1,\\dots,n\\ .\n",
    "$$"
   ]
  },
  {
   "cell_type": "markdown",
   "metadata": {},
   "source": [
    "## I. Semidual damped Newton (Direct inversion / No preconditioning)"
   ]
  },
  {
   "cell_type": "code",
   "execution_count": null,
   "metadata": {
    "metadata": {}
   },
   "outputs": [],
   "source": [
    "\n",
    "epsilons = [ 0.1, 0.05, 0.03 ]\n",
    "rho = 0.95\n",
    "c = 0.5\n",
    "Semi_dual_dampedNewtonP   = []\n",
    "results_DampedNewtonsemidual  = []\n",
    "times_DampedNewtonsemidual     = []\n",
    "Hessians_DampedNewtonsemidual  = []\n",
    "\n",
    "#Cost matrix\n",
    "C = distmat(x,y)\n",
    "# a and b\n",
    "a = normalize(np.ones(N[0]))\n",
    "a = a.reshape(a.shape[0],-1)\n",
    "b = normalize(np.ones(N[1]))\n",
    "b = b.reshape(b.shape[0],-1)\n",
    "for eps in epsilons:\n",
    "    K = np.exp(-C/eps)\n",
    "    # Line Search\n",
    "    print(\"Semi-dual damped Newton for epsilon=\"+str(eps)+\":\")   \n",
    "    f = a\n",
    "    print(\"Doing for (\",N[0],N[1],\").\")\n",
    "    print( \" |- Iterating\" )  \n",
    "    start = time.time()\n",
    "    Optimizer = computational_OT.DampedNewton_SemiDual_np(C,a,b,f,eps,rho,c)\n",
    "    out = Optimizer._update(maxiter = 50, debug = True)\n",
    "    results_DampedNewtonsemidual.append(out)\n",
    "    end = time.time()\n",
    "    times_DampedNewtonsemidual.append(1e3*(end-start))\n",
    "    print( \" |- Computing P\")\n",
    "    Semi_dual_dampedNewtonP.append(GetP(np.exp(out['potential_f']/eps),K,np.exp(out['potential_g']/eps)))\n",
    "    print( \" |- Recording (unstabilized) Hessian \\n\")\n",
    "    mat  = -eps*Optimizer.Hessian\n",
    "    diag = 1/np.sqrt( np.vstack( a ) ).flatten()\n",
    "    mat = diag*mat*diag\n",
    "    Hessians_DampedNewtonsemidual.append( mat )"
   ]
  },
  {
   "cell_type": "code",
   "execution_count": null,
   "metadata": {
    "metadata": {}
   },
   "outputs": [],
   "source": [
    "plt.figure(figsize = (12,5))\n",
    "plt.title(\"$$\")\n",
    "plt.title(\"$||P1 -a||_1+||P^T 1 -b||_1$\")\n",
    "\n",
    "for i in range(len(results_DampedNewtonsemidual)):\n",
    "  error = np.asarray(results_DampedNewtonsemidual[i]['error'])\n",
    "  plt.plot( error, label = 'Semi-dual damped Newton for $\\epsilon=$'+ str(epsilons[i]), linewidth = 2)\n",
    "\n",
    "plt.xlabel(\"Number of iterations\")\n",
    "plt.ylabel(\"Error in log-scale\")\n",
    "plt.legend(loc = \"upper right\")\n",
    "plt.yscale( 'log' )\n",
    "plt.tight_layout()\n",
    "plt.savefig(\"../Images/DampedNewton_SemiDual_images_numpy/ErrorLinesearchNewton.pdf\", format = 'pdf')\n",
    "plt.show()\n",
    "print(\"\\n Error plots can increase! The error is not the objective function!\")"
   ]
  },
  {
   "cell_type": "code",
   "execution_count": null,
   "metadata": {
    "metadata": {}
   },
   "outputs": [],
   "source": [
    "plt.figure(figsize = (12,5))\n",
    "plt.title(\"$$\")\n",
    "\n",
    "plt.title(\"Objective Function\")\n",
    "\n",
    "for i in range(len(results_DampedNewtonsemidual)):\n",
    "  value = np.asarray(results_DampedNewtonsemidual[i]['objectives'])\n",
    "  plt.plot( value,label='Semi-dual damped Newton for $\\epsilon=$'+ str(epsilons[i]), linewidth = 2)\n",
    "\n",
    "plt.xlabel(\"Number of iterations\")\n",
    "plt.ylabel(\"Objective value\")\n",
    "plt.yscale('log')\n",
    "plt.legend()\n",
    "plt.savefig(\"../Images/DampedNewton_SemiDual_images_numpy/ObjectiveLineSearchNewton.pdf\", format = 'pdf')\n",
    "plt.show()"
   ]
  },
  {
   "cell_type": "code",
   "execution_count": null,
   "metadata": {
    "metadata": {}
   },
   "outputs": [],
   "source": [
    "plt.figure(figsize = (20,7))\n",
    "plt.subplot(2,1,1),\n",
    "plt.title(\"Alpha\")\n",
    "for i in range(len(results_DampedNewtonsemidual)):\n",
    "  plt.plot( np.asarray(results_DampedNewtonsemidual[i][\"linesearch_steps\"]),label='Damped Newton for $\\epsilon=$'+ str(epsilons[i]), linewidth = 2)\n",
    "plt.xlabel(\"Number of iterations\")\n",
    "plt.ylabel(\"Alpha in log-scale\")\n",
    "plt.legend()\n",
    "# plt.yscale( 'log')\n",
    "plt.savefig(\"../Images/DampedNewton_SemiDual_images_numpy/AlphaLineSearchNewton.pdf\", format = 'pdf')\n",
    "plt.show()"
   ]
  },
  {
   "cell_type": "markdown",
   "metadata": {},
   "source": [
    "## II. Semidual damped Newton with preconditioning\n",
    "Here we proceed similar to semi-dual damped Newton but with preconditioning. We consider $t$ eigenvalues of the Hessian and form the following preconditioning matrix:\n",
    "$$\n",
    "P = \\left(I_{n+m}-\\sum_{i-1}^{t}\\left(1 - \\frac{1}{\\sqrt{\\lambda_{i}}}\\right)y_{i}y_{i}^{T}\\right)\\ .\n",
    "$$\n",
    "Now, at the $k^{th}$ iteration we solve the following equation:\n",
    "$$\n",
    "(P\\nabla^{2}Q_{\\epsilon}(f,g)P)(Pp_{k})=P\\nabla Q_{\\epsilon}(f,g)\\ ,\n",
    "$$\n",
    "using iterative inversion methods such as \"Conjugate gradient\" and \"GMRES\" to get the update direction $p_{k}$, following which we use the Armijo condition to obtain the step size $\\alpha_{k}$."
   ]
  },
  {
   "cell_type": "code",
   "execution_count": null,
   "metadata": {
    "metadata": {}
   },
   "outputs": [],
   "source": [
    "def print_spectral_statistics(mat, stabilize=False):\n",
    "    if stabilize:\n",
    "        # Stabilizing largest and smallest eigenvalue\n",
    "        min_vector = np.hstack( (np.ones(N[0])) )\n",
    "        max_vector = np.hstack( (np.ones(N[0])) )\n",
    "        norm = np.sqrt( N[0] )\n",
    "        min_vector = min_vector/norm\n",
    "        max_vector = max_vector/norm\n",
    "        min_vector = min_vector.reshape( (min_vector.shape[0], 1) )\n",
    "        max_vector = max_vector.reshape( (max_vector.shape[0], 1) )\n",
    "        #\n",
    "        mat = mat + np.dot( min_vector, min_vector.T)\n",
    "        mat = mat - np.dot( max_vector, max_vector.T)\n",
    "    # endif\n",
    "    eig, v = np.linalg.eigh( mat )\n",
    "    sorting_indices = np.argsort(eig)\n",
    "    eig = eig[sorting_indices]\n",
    "    v   = v[:, sorting_indices]\n",
    "    \n",
    "    #print( \"Mean eigenvalue: \", np.mean(eig) )\n",
    "    print( \"List of smallest eigenvalues: \", eig[:10])\n",
    "    print( \"List of largest  eigenvalues: \", eig[-10:])\n",
    "    min_index = np.argmin(eig)\n",
    "    max_index = np.argmax(eig)\n",
    "    min_value = eig[min_index]\n",
    "    max_value = eig[max_index]\n",
    "    min_vector = v[:, min_index]\n",
    "    min_vector = min_vector/min_vector[0]\n",
    "    max_vector = v[:,max_index]\n",
    "    max_vector = max_vector/max_vector[0]\n",
    "    condition_number = max_value/min_value\n",
    "    # Test smallest and largest\n",
    "    # print( \"Min eigenvalue vector: \", min_vector)\n",
    "    # print( \"Max eigenvalue vector: \", max_vector)\n",
    "    #\n",
    "    #print( v[:,0]*np.sqrt( self.N1 + self.N2))\n",
    "    #vector = v[:,0]\n",
    "    #test = np.dot( result, vector)\n",
    "    #print( np.linalg.norm(test) )\n",
    "    #print(\"Min absolute eigenvalues: \", min_value)\n",
    "    #print(\"Norm of v-1: \", np.linalg.norm(min_vector-eig_vector))\n",
    "    print(\"Condition number: \", condition_number)\n",
    "    # plt.hist( eig, 50)\n",
    "    # plt.title( \"Histogram of eigenvalues for Hessian\")\n",
    "    # plt.xlabel( \"Eigenvalues\")\n",
    "    # plt.yscale( \"log\" )\n",
    "    # plt.show()\n",
    "    return eig,v"
   ]
  },
  {
   "cell_type": "code",
   "execution_count": null,
   "metadata": {
    "metadata": {}
   },
   "outputs": [],
   "source": [
    "eigs=[]\n",
    "eigvecs=[]\n",
    "for i in range(len(epsilons)):\n",
    "    eps = epsilons[i]\n",
    "    print(\"Spectral statistics of Hessian for epsilon=\"+str(eps))\n",
    "    Hessian = Hessians_DampedNewtonsemidual[i]\n",
    "    ev=print_spectral_statistics( Hessian, stabilize=False)\n",
    "    eigs.append(ev[0])\n",
    "    eigvecs.append(ev[1])\n",
    "    print(\"\")\n"
   ]
  },
  {
   "cell_type": "code",
   "execution_count": null,
   "metadata": {
    "metadata": {}
   },
   "outputs": [],
   "source": [
    "fig,ax=plt.subplots(figsize=(5,9), nrows=len(epsilons), ncols=1, sharey=True)\n",
    "plt.title(\"Histogram of eigenvalues.\")\n",
    "for i in range(len(epsilons)):\n",
    "    ax[i].hist( eigs[i], 50)\n",
    "    ax[i].set_title( \" $\\epsilon$: \"+str(epsilons[i]))\n",
    "    ax[i].set_xlabel(\"Eigenvalues\")\n",
    "    ax[i].set_yscale( \"log\" )\n",
    "    ax[i].set_xlim( 0, 1 )\n",
    "plt.subplots_adjust(wspace=0,hspace=0)\n",
    "plt.tight_layout()\n",
    "plt.savefig(\"../Images/DampedNewton_SemiDual_images_numpy/eigenhistunstabilized.pdf\", format = 'pdf')\n",
    "plt.show()"
   ]
  },
  {
   "cell_type": "code",
   "execution_count": null,
   "metadata": {
    "metadata": {}
   },
   "outputs": [],
   "source": [
    "def build_preconditioners( num_eigs,modified_Hessian, ansatz=True ):\n",
    "    # Diagonalize\n",
    "    eigenvalues, eigenvectors = np.linalg.eigh( modified_Hessian )\n",
    "    sorting_indices = np.argsort( eigenvalues )\n",
    "    eigenvalues  = eigenvalues[sorting_indices]\n",
    "    eigenvectors = eigenvectors[:, sorting_indices]\n",
    "    # Form null vector\n",
    "    if not ansatz:\n",
    "        null_vector = eigenvectors[:, 0]\n",
    "    else:\n",
    "        null_vector = np.hstack( (np.ones(N[0])) )\n",
    "        norm = np.sqrt( N[0])\n",
    "        null_vector = null_vector/norm\n",
    "    # Form other vectors\n",
    "    indices = []\n",
    "    for i in range(num_eigs):\n",
    "        indices.append(i+1)\n",
    "   \n",
    "    precond_vectors = eigenvectors[:, indices ]\n",
    "    precond_vectors = []\n",
    "    for index in indices:\n",
    "        precond_vectors.append( eigenvectors[:,index] )\n",
    "    #\n",
    "    return null_vector, precond_vectors"
   ]
  },
  {
   "cell_type": "code",
   "execution_count": null,
   "metadata": {
    "metadata": {}
   },
   "outputs": [],
   "source": [
    "num_eigs = 13\n",
    "null_vector, precond_vectors = build_preconditioners( num_eigs, Hessians_DampedNewtonsemidual[-1], ansatz=False )"
   ]
  },
  {
   "cell_type": "code",
   "execution_count": null,
   "metadata": {
    "metadata": {}
   },
   "outputs": [],
   "source": [
    "rho = 0.95\n",
    "c = 0.5\n",
    "reset_starting_point    = True  \n",
    "final_modified_Hessians = []\n",
    "Semi_dual_dampedNewtonP           = []\n",
    "results_DampedNewton_with_precodonditioner_SemiDual    = []\n",
    "times_DampedNewton_with_precodonditioner_SemiDual     = []\n",
    "precond_epsilons = [ 1.0, 0.5, 0.05, 0.03, 0.01 ]\n",
    "f, g = None, None\n",
    "# Cost matrix\n",
    "C = distmat(x,y)\n",
    "# a and b\n",
    "a = normalize( np.ones(N[0]) )\n",
    "a = a.reshape( a.shape[0],-1 )\n",
    "b = normalize( np.ones(N[1]) )\n",
    "b = b.reshape( b.shape[0],-1 )\n",
    "for eps in epsilons:\n",
    "    # Line Search\n",
    "    print( \"Semi-dual damped Newton for epsilon=\"+str(eps)+\":\" )    \n",
    "    if (f is None) or (g is None):\n",
    "        f, g = a*0, b*0\n",
    "    print( \"Doing for (\",N[0],N[1],\").\" )\n",
    "    print( \" |- Iterating\" )  \n",
    "    start = time.time()\n",
    "    Optimizer = computational_OT.DampedNewton_with_precodonditioner_SemiDual_np( C, a, b, f, g, eps, rho, c, null_vector, precond_vectors[:] )\n",
    "    out = Optimizer._update( maxiter = 50, iterative_inversion = 30, version = None, debug = False, optType = 'cg' )\n",
    "    results_DampedNewton_with_precodonditioner_SemiDual.append( out )\n",
    "    end = time.time()\n",
    "    times_DampedNewton_with_precodonditioner_SemiDual.append(1e3*(end-start))\n",
    "    print( \" |- Computing P\" )\n",
    "    if not reset_starting_point:\n",
    "        f = Optimizer.x[:a.shape[0]]\n",
    "        g = Optimizer.x[a.shape[0]:]\n",
    "        # f = f.reshape( f.shape[0], -1)\n",
    "        # g = g.reshape( g.shape[0], -1)\n",
    "    Semi_dual_dampedNewtonP.append( GetP(np.exp(out['potential_f']/eps),np.exp(-C/eps),np.exp(out['potential_g']/eps)) )\n",
    "    final_modified_Hessians.append( Optimizer.modified_Hessian )"
   ]
  },
  {
   "cell_type": "code",
   "execution_count": null,
   "metadata": {},
   "outputs": [],
   "source": [
    "plt.figure(figsize = (20,7)) \n",
    "plt.title(\"$$\") \n",
    "plt.title(\"$||P1 -a||_1+||P^T1 -b||_1$\") \n",
    "for i in range(len(results_DampedNewton_with_precodonditioner_SemiDual)): \n",
    "  error = np.asarray(results_DampedNewton_with_precodonditioner_SemiDual[i]['error'] ) \n",
    "  plt.plot( error, label = 'Semi-dual damped Newton for $\\epsilon=$'+ str(precond_epsilons[i]), linewidth = 2) \n",
    "plt.xlabel(\"Number of iterations\")  \n",
    "plt.ylabel(\"Error in log-scale\")  \n",
    "plt.legend() \n",
    "plt.yscale('log') \n",
    "plt.savefig(\"../Images/DampedNewton_SemiDual_images_numpy/ErrorDampedNewtonwithPrecond_final_cg.png\") \n",
    "plt.show() \n",
    "print(\"\\n Error plots can increase! The error is not the objective function!\") "
   ]
  },
  {
   "cell_type": "code",
   "execution_count": null,
   "metadata": {},
   "outputs": [],
   "source": [
    "plt.figure(figsize = (20,7))\n",
    "plt.subplot(2,1,1),\n",
    "plt.title(\"Alpha\")\n",
    "for i in range(len(results_DampedNewton_with_precodonditioner_SemiDual)):\n",
    "  plt.plot( np.asarray(results_DampedNewton_with_precodonditioner_SemiDual[i][\"linesearch_steps\"]),label='Damped Newton for $\\epsilon=$'+ str(precond_epsilons[i]), linewidth = 2)\n",
    "plt.xlabel(\"Number of iterations\")\n",
    "plt.ylabel(\"Alpha in log-scale\")\n",
    "plt.legend()\n",
    "# plt.yscale('log')\n",
    "plt.show()"
   ]
  },
  {
   "cell_type": "code",
   "execution_count": null,
   "metadata": {},
   "outputs": [],
   "source": [
    "plt.figure(figsize = (12,5))\n",
    "plt.title(\"$$\")\n",
    "plt.title(\"Objective Function\")\n",
    "for i in range(len(results_DampedNewton_with_precodonditioner_SemiDual)):\n",
    "  value = np.asarray(results_DampedNewton_with_precodonditioner_SemiDual[i]['objectives'])\n",
    "  plt.plot( value,label='Damped Newton for $\\epsilon=$'+ str(precond_epsilons[i]), linewidth = 2)\n",
    "plt.xlabel(\"Number of iterations\")\n",
    "plt.ylabel(\"Objective value\")\n",
    "plt.yscale('log')\n",
    "plt.legend()\n",
    "plt.show()"
   ]
  },
  {
   "cell_type": "code",
   "execution_count": null,
   "metadata": {},
   "outputs": [],
   "source": [
    "text = [\n",
    "        \"Preconditioning 1: Form E data\",\n",
    "        \"Preconditioning 2: Form P data\",\n",
    "        \"Form preconditioning functions\",\n",
    "        \"Invert the linear system for p_k\",\n",
    "        \"Unwinding\",\n",
    "        \"Complete code block\"\n",
    "        ]\n",
    "\n",
    "plt.figure( figsize = (20,10) )  \n",
    "for j in range( len(results_DampedNewton_with_precodonditioner_SemiDual[0]['timings'][0]) ):\n",
    "  values = []\n",
    "  for i in range( len(results_DampedNewton_with_precodonditioner_SemiDual) ):\n",
    "    mean = 0\n",
    "    for k in range( len(results_DampedNewton_with_precodonditioner_SemiDual[i]['timings']) ):\n",
    "      mean += results_DampedNewton_with_precodonditioner_SemiDual[i]['timings'][k][j]\n",
    "    mean = mean/len(results_DampedNewton_with_precodonditioner_SemiDual[i]['timings']) \n",
    "    values.append( mean )\n",
    "  if len(precond_epsilons) == len(values):\n",
    "    plt.plot( precond_epsilons, np.asarray(values), label=text[j],linewidth = 2 )\n",
    "    plt.legend( loc='upper left' )\n",
    "plt.xlabel( \"Epsilons\" )\n",
    "plt.ylabel( \"Time in ms\" )\n",
    "plt.show()"
   ]
  },
  {
   "cell_type": "code",
   "execution_count": null,
   "metadata": {},
   "outputs": [],
   "source": []
  },
  {
   "cell_type": "code",
   "execution_count": null,
   "metadata": {},
   "outputs": [],
   "source": []
  }
 ],
 "metadata": {
  "kernelspec": {
   "display_name": ".venv_computational-OT",
   "language": "python",
   "name": "python3"
  },
  "language_info": {
   "codemirror_mode": {
    "name": "ipython",
    "version": 3
   },
   "file_extension": ".py",
   "mimetype": "text/x-python",
   "name": "python",
   "nbconvert_exporter": "python",
   "pygments_lexer": "ipython3",
   "version": "3.10.12"
  }
 },
 "nbformat": 4,
 "nbformat_minor": 2
}
