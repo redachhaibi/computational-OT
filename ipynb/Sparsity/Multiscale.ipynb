{
 "cells": [
  {
   "cell_type": "markdown",
   "metadata": {},
   "source": [
    "### In this notebook we look into the multiscale analysis of the Sinkhorn algorithm."
   ]
  },
  {
   "cell_type": "code",
   "execution_count": null,
   "metadata": {},
   "outputs": [],
   "source": [
    "from __future__ import division\n",
    "import numpy as np\n",
    "import matplotlib.pyplot as plt\n",
    "import time\n",
    "import warnings\n",
    "warnings.filterwarnings('ignore')\n",
    "%matplotlib inline\n",
    "%load_ext autoreload\n",
    "%autoreload 2"
   ]
  },
  {
   "attachments": {},
   "cell_type": "markdown",
   "metadata": {},
   "source": [
    "### Helper Functions"
   ]
  },
  {
   "cell_type": "code",
   "execution_count": null,
   "metadata": {
    "id": "rNLfWwE8XxnF"
   },
   "outputs": [],
   "source": [
    "\"\"\"To compute distance matrix\"\"\"\n",
    "def distmat( x, y ):\n",
    "    return np.sum( x**2, 0 )[:,None] + np.sum( y**2, 0 )[None,:] - 2 * x.transpose().dot( y )\n",
    "\n",
    "\"\"\"To Normalise a vector\"\"\"\n",
    "normalize = lambda a: a/np.sum( a )\n",
    "\n",
    "\"\"\"To Compute P\"\"\"\n",
    "def GetP( u, K, v ):\n",
    "    return u[:,None] * K * v[None,:]\n",
    "\n",
    "def plotp( plt, x, col, scale = 200, edgecolors = \"k\" ):\n",
    "  return plt.scatter( x[0,:], x[1,:], s = scale, edgecolors = edgecolors, c = col, cmap = 'plasma', linewidths = 2 )"
   ]
  },
  {
   "attachments": {},
   "cell_type": "markdown",
   "metadata": {
    "id": "Dz4ddcGFEVje"
   },
   "source": [
    "### Functions to Generate data points"
   ]
  },
  {
   "cell_type": "code",
   "execution_count": null,
   "metadata": {
    "id": "WbLAq4b0CSqD"
   },
   "outputs": [],
   "source": [
    "def randomsampledata( N ):\n",
    "  x = []\n",
    "  y = []\n",
    "  for i in range(len(N)):\n",
    "    x.append( np.random.rand( 2, N[i] ) - 0.5 )\n",
    "    theta = 2 * np.pi * np.random.rand( 1, N[i] )\n",
    "    r = 0.8 + 0.2 * np.random.rand( 1, N[i] )\n",
    "    y.append( np.vstack( ( np.cos(theta) * r, np.sin(theta) * r ) ) )\n",
    "  return x, y"
   ]
  },
  {
   "cell_type": "code",
   "execution_count": null,
   "metadata": {},
   "outputs": [],
   "source": [
    "from sklearn.cluster import KMeans"
   ]
  },
  {
   "cell_type": "code",
   "execution_count": null,
   "metadata": {
    "id": "vbsWNUHuXyKV"
   },
   "outputs": [],
   "source": [
    "def clusteredsampling( N ):\n",
    "  x_sample = []\n",
    "  y_sample = []\n",
    "  label_x = []\n",
    "  label_y = []\n",
    "  N = np.sort( N ) \n",
    "  x = np.random.rand( 2, N[-1] ) - 0.5\n",
    "  theta = 2 * np.pi * np.random.rand( 1, N[ - 1 ] )\n",
    "  r = 0.8 + 0.2 * np.random.rand( 1, N[ - 1 ] )\n",
    "  y = np.vstack( ( np.cos(theta) * r, np.sin(theta) * r ) )\n",
    "  x_sample.append( x.T )\n",
    "  y_sample.append( y.T )\n",
    "  n = len( N )\n",
    "  for i in range( n - 1, 0, - 1 ):\n",
    "      # if i!=n-1:\n",
    "      x = x_sample[ - 1 ]\n",
    "      y = y_sample[ - 1 ]\n",
    "      # N[i-1]=4, x resolution =16\n",
    "      kmeans_x = KMeans( n_clusters = N[i - 1], random_state = i ).fit( x )\n",
    "      kmeans_y = KMeans( n_clusters = N[i  - 1], random_state = i ).fit( y )\n",
    "      center_x = kmeans_x.cluster_centers_\n",
    "      center_y = kmeans_y.cluster_centers_\n",
    "      label_x.append( kmeans_x.labels_ )\n",
    "      label_y.append( kmeans_y.labels_ )\n",
    "      x_sample.append( center_x )\n",
    "      y_sample.append( center_y )\n",
    "  # end for\n",
    "  return x_sample[::-1], y_sample[::-1], label_x[::-1], label_y[::-1], N"
   ]
  },
  {
   "cell_type": "code",
   "execution_count": null,
   "metadata": {
    "id": "a2gMs6OiXyXA"
   },
   "outputs": [],
   "source": [
    "N = [ 4, 16, 64, 256, 1024, 4096 ]\n",
    "x, y, label_x, label_y, N = clusteredsampling( N )"
   ]
  },
  {
   "cell_type": "code",
   "execution_count": null,
   "metadata": {
    "colab": {
     "base_uri": "https://localhost:8080/"
    },
    "id": "_N2TMD-tcAIp",
    "outputId": "390db1ef-7c52-4775-c75c-f0d6c77aa088"
   },
   "outputs": [],
   "source": [
    "for i in label_x:\n",
    "  print( ( len(i), i ) )\n",
    "# end for"
   ]
  },
  {
   "attachments": {},
   "cell_type": "markdown",
   "metadata": {
    "id": "yy_xO07nEQzr"
   },
   "source": [
    "### Voronoi Plot"
   ]
  },
  {
   "cell_type": "code",
   "execution_count": null,
   "metadata": {
    "id": "BhzCtr7tYBEh"
   },
   "outputs": [],
   "source": [
    "from scipy.spatial import Voronoi, voronoi_plot_2d"
   ]
  },
  {
   "cell_type": "code",
   "execution_count": null,
   "metadata": {
    "colab": {
     "base_uri": "https://localhost:8080/",
     "height": 1000
    },
    "id": "BfoAUjRZYBSG",
    "outputId": "4d4dae0b-cca8-4c49-c5e3-7d982ca461e5"
   },
   "outputs": [],
   "source": [
    "for i in range( len(N) ):\n",
    "  _, ( ax1, ax2 ) = plt.subplots( figsize = ( 8, 5 ), ncols = 2 )\n",
    "  vorx = Voronoi( x[i] )\n",
    "  fig = voronoi_plot_2d( vorx, ax = ax1, show_vertices = False )\n",
    "  vory = Voronoi( y[i] )\n",
    "  fig = voronoi_plot_2d( vory, ax = ax2, show_vertices = False )  \n",
    "  ax1.set_title( \"Square Resolution = \"+str(x[i].shape[0]) )\n",
    "  ax2.set_title( \"Annulus Resolution = \"+str(y[i].shape[0]) )\n",
    "  plt.show();\n",
    "# end for"
   ]
  },
  {
   "attachments": {},
   "cell_type": "markdown",
   "metadata": {
    "id": "RJdFJgvDEMII"
   },
   "source": [
    "### Inflate Function"
   ]
  },
  {
   "cell_type": "code",
   "execution_count": null,
   "metadata": {
    "id": "dKE2X79BYBee"
   },
   "outputs": [],
   "source": [
    "def inflate( x, labelpts ):\n",
    "  \n",
    "  mat = np.zeros( ( len(labelpts), len(x) ) )\n",
    "  for i in range((len(labelpts))):\n",
    "    mat[i][ labelpts[i] ] = 1\n",
    "  # end for\n",
    "  return np.dot( mat, x )"
   ]
  },
  {
   "attachments": {},
   "cell_type": "markdown",
   "metadata": {},
   "source": [
    "### Importing Sinkhorn"
   ]
  },
  {
   "cell_type": "code",
   "execution_count": null,
   "metadata": {},
   "outputs": [],
   "source": [
    "import computational_OT"
   ]
  },
  {
   "attachments": {},
   "cell_type": "markdown",
   "metadata": {
    "id": "tB2l8-gzExsl"
   },
   "source": [
    "### Experiment"
   ]
  },
  {
   "cell_type": "code",
   "execution_count": null,
   "metadata": {
    "colab": {
     "base_uri": "https://localhost:8080/",
     "height": 1000
    },
    "id": "npAVFb8YYBrC",
    "outputId": "72bfe802-8477-4cb8-bf4d-f333dca9bc99"
   },
   "outputs": [],
   "source": [
    "epsilons = [ 0.5, .06, .06, .06, .06, .06 ]\n",
    "# Sinkhorn\n",
    "print(\"Sinkhorn.... \")\n",
    "SinkhornP = []\n",
    "results_Sinkhorn = []\n",
    "times_Sinkhorn = []\n",
    "finflated = []\n",
    "ginflated = []\n",
    "multiscale_f = []\n",
    "multiscale_g = []\n",
    "for i in range(len(N)):\n",
    "  xi, yi = x[i].T, y[i].T\n",
    "  #Cost matrix\n",
    "  C = distmat( xi, yi )\n",
    "  # a and b\n",
    "  a = normalize( np.ones( N[i] ) )\n",
    "  b = normalize( np.ones( N[i] ) )\n",
    "  #Epsilon\n",
    "  epsilon = epsilons[i]\n",
    "  #Kernel\n",
    "  K = np.exp( - C/epsilon )\n",
    "  print( \"Doing for \",N[i] )\n",
    "  print( \" |- Iterating\" )\n",
    "  plt.figure( figsize = ( 5, 5 ) )\n",
    "  plotp( plt,xi, 'b')\n",
    "  plotp( plt,yi, 'r' )\n",
    "  plt.axis(\"off\")\n",
    "  plt.xlim( np.min( yi[0,:] ) - .1, np.max( yi[0,:]) + .1 )\n",
    "  plt.ylim( np.min( yi[1,:] ) - .1, np.max( yi[1,:] ) + .1 )\n",
    "  plt.show()\n",
    "  #Inflating\n",
    "  if i == 0:\n",
    "    u = a\n",
    "    v = b\n",
    "  else:\n",
    "    #Optimized f&g for N-1\n",
    "    f_coarse = multiscale_f[-1]\n",
    "    g_coarse = multiscale_g[-1]\n",
    "\n",
    "    # Inflated f&g to initialise for optimizing for N\n",
    "    f_inflated = inflate( f_coarse,label_x[i-1] )\n",
    "    finflated.append( f_inflated )\n",
    "    u = np.exp( f_inflated/epsilon ) \n",
    "\n",
    "    g_inflated = inflate( g_coarse, label_y[i-1] )\n",
    "    ginflated.append( g_inflated )\n",
    "    v = np.exp( g_inflated/epsilon )\n",
    "  # end if   \n",
    "  u = u\n",
    "  v = v\n",
    "  start = time.time()\n",
    "  Optimizer = computational_OT.sinkhorn(  K,\n",
    "                                          a,\n",
    "                                          b,\n",
    "                                          u,\n",
    "                                          v,\n",
    "                                          epsilon )\n",
    "  out = Optimizer._update()\n",
    "  results_Sinkhorn.append( out )\n",
    "  end = time.time() \n",
    "  times_Sinkhorn.append( end - start )\n",
    "  print( \" |- Computing P\" )\n",
    "  print( \"\" )\n",
    "  u_opt = np.exp( out['potential_f']/epsilon )\n",
    "  K = np.exp( - C/epsilon )\n",
    "  v_opt =  np.exp( out['potential_g']/epsilon )\n",
    "  P_opt = GetP( u_opt, K, v_opt )\n",
    "  SinkhornP.append( P_opt )  # Distance between P matrices of Linear P and Sinkhorn P\n",
    "  multiscale_f.append( out['potential_f'] )  \n",
    "  multiscale_g.append( out['potential_g'] ) \n",
    "#end for"
   ]
  },
  {
   "attachments": {},
   "cell_type": "markdown",
   "metadata": {
    "id": "2X6UVqRhEANK"
   },
   "source": [
    "### Convergence Plot"
   ]
  },
  {
   "cell_type": "code",
   "execution_count": null,
   "metadata": {
    "colab": {
     "base_uri": "https://localhost:8080/",
     "height": 446
    },
    "id": "27crpk0-YB48",
    "outputId": "024d7b25-46aa-44e6-d123-d91b288c570c"
   },
   "outputs": [],
   "source": [
    "plt.figure( figsize = ( 20, 7 ) )\n",
    "plt.subplot( 2, 1, 1 ),\n",
    "plt.title( \"$||P1 -a||_1$\" )\n",
    "for result in results_Sinkhorn:\n",
    "  plt.plot( np.asarray(result['error_a']), linewidth = 2)\n",
    "# end for\n",
    "plt.yscale( 'log')\n",
    "plt.legend( [ str(i) for i in N ], loc = \"upper right\" )\n",
    "plt.subplot( 2, 1, 2 )\n",
    "plt.title( \"$||P^T 1 -b||_1$\" )\n",
    "for result in results_Sinkhorn:\n",
    "  plt.plot( np.asarray(result['error_b']), linewidth = 2 )\n",
    "# end for\n",
    "plt.yscale( 'log' )\n",
    "plt.legend( [ str(i) for i in N ], loc = \"upper right\" )\n",
    "plt.show()"
   ]
  },
  {
   "attachments": {},
   "cell_type": "markdown",
   "metadata": {
    "id": "FCwwdAz-EEY-"
   },
   "source": [
    "### Objective Function"
   ]
  },
  {
   "cell_type": "code",
   "execution_count": null,
   "metadata": {
    "colab": {
     "base_uri": "https://localhost:8080/",
     "height": 446
    },
    "id": "KRPQbpgcYz3N",
    "outputId": "7f8b0f73-e61d-4158-c809-ec227a3f3b62"
   },
   "outputs": [],
   "source": [
    "# targets=[]\n",
    "# penalizations=[]\n",
    "\n",
    "# for result in results_Sinkhorn:\n",
    "#   objective = result['objectives']\n",
    "#   target = np.asarray( [x for (x,y) in objective] ).flatten()\n",
    "#   penalization = np.asarray( [y for (x,y) in objective] ).flatten()\n",
    "#   targets.append( target )\n",
    "#   penalizations.append( penalization )\n",
    "\n",
    "# plt.figure(figsize = (20,7))\n",
    "# plt.title(\"$Objectivefunction$\")\n",
    "# for target in targets:  \n",
    "#   plt.plot( target, linewidth = 2)\n",
    "# plt.legend([str(i) for i in N],loc=\"upper right\")\n",
    "# plt.show()\n",
    "\n",
    "# plt.figure(figsize = (20,7))\n",
    "# plt.title(\"$Penalizations$\")\n",
    "# for penalization in penalizations:  \n",
    "#   plt.plot( penalization, linewidth = 2)\n",
    "# plt.legend([str(i) for i in N],loc=\"upper right\")\n",
    "# plt.show()"
   ]
  },
  {
   "attachments": {},
   "cell_type": "markdown",
   "metadata": {
    "id": "nQR8EVyEHbpt"
   },
   "source": [
    "### f&g map plots"
   ]
  },
  {
   "cell_type": "code",
   "execution_count": null,
   "metadata": {
    "colab": {
     "base_uri": "https://localhost:8080/",
     "height": 1000
    },
    "id": "1q1qBnPaY7Wy",
    "outputId": "4d5d904e-34a6-4444-cf64-7bfbc82cc28f"
   },
   "outputs": [],
   "source": [
    "from locale import MON_1\n",
    "\n",
    "\n",
    "for i in range(0, len(N) - 1):\n",
    "  print(\"\\n\")\n",
    "  fig, ax = plt.subplots( figsize = ( 20, 5 ), nrows = 1, ncols = 4 )\n",
    "\n",
    "  dot_scale = 2 * 2**( len(N) - i )\n",
    "\n",
    "  xi, yi = x[i + 1].T, y[i + 1].T\n",
    "  f   = multiscale_f[ i + 1]\n",
    "  m1  = f.mean()\n",
    "  im1 = plotp( ax[0], xi, f, scale = dot_scale, edgecolors = ( 0, 0, 0, 0 ) )\n",
    "  fig.colorbar( im1, ax = ax[0] )\n",
    "\n",
    "  f   = finflated[i]\n",
    "  m2  = f.mean()\n",
    "  im2 = plotp( ax[1], xi, f, scale = dot_scale, edgecolors = ( 0, 0, 0, 0 ) )\n",
    "  fig.colorbar( im2, ax = ax[1] )\n",
    "\n",
    "  g = multiscale_g[i + 1]\n",
    "  m3 = g.mean()\n",
    "  im3 = plotp( ax[2], yi, g, scale = dot_scale, edgecolors = ( 0, 0, 0, 0 ) )\n",
    "  fig.colorbar( im3, ax = ax[2] )\n",
    "\n",
    "  g  = ginflated[i]\n",
    "  m4 = g.mean()\n",
    "  im4 = plotp( ax[3], yi, g, scale = dot_scale, edgecolors = ( 0, 0, 0, 0 ) )\n",
    "  fig.colorbar( im3, ax = ax[3] )\n",
    "\n",
    "  # print( \"Stats f:\")\n",
    "  # print( m1 )\n",
    "  # print( m2 )\n",
    "  # print( m1-m2)\n",
    "  # print( m1/m2)\n",
    "\n",
    "  # print( \"Stats g:\")\n",
    "  # print( m3 )\n",
    "  # print( m4 )\n",
    "  # print( m3-m4)\n",
    "  # print( m3/m4)\n",
    "\n",
    "  # print( \"Mixed\")\n",
    "  # print( m1 + m3 )\n",
    "  # print( m2 + m4 )\n",
    "\n",
    "\n",
    "  ax[0].set_title( \"Optimized f maps for N = \"+str(N[i + 1] ) )\n",
    "  ax[1].set_title( \"Inflated f maps for N = \"+str(N[i + 1] ) )\n",
    "\n",
    "  ax[2].set_title( \"Optimized g maps for N = \"+str(N[i + 1] ) )\n",
    "  ax[3].set_title( \"Inflated g maps for N = \"+str(N[i + 1] ) )\n",
    "# end for\n",
    "  "
   ]
  },
  {
   "cell_type": "code",
   "execution_count": null,
   "metadata": {
    "colab": {
     "base_uri": "https://localhost:8080/",
     "height": 334
    },
    "id": "ke617q6GapoU",
    "outputId": "ee5f4f48-1bfb-4953-8c89-a7aeacad8fa0"
   },
   "outputs": [],
   "source": [
    "# Comparing Sinkhorn solutions to inflated versions from coarser scale\n",
    "assert( len(finflated) == len(multiscale_f) - 1 )\n",
    "scales_count = len(finflated)\n",
    "f_error = []\n",
    "g_error = []\n",
    "for i in range( scales_count ):\n",
    "  solution = multiscale_f[i + 1]\n",
    "  coarse   = finflated[i]\n",
    "  f_error.append( np.linalg.norm( solution - coarse)/len(solution) )\n",
    "  solution = multiscale_g[i + 1]\n",
    "  coarse   = ginflated[i]\n",
    "  g_error.append( np.linalg.norm( solution - coarse)/len(solution) )\n",
    "# end for\n",
    "# Plotting\n",
    "plt.figure( figsize = ( 5, 5 ) )\n",
    "plt.plot( range(scales_count), f_error,'-bD', label = 'Errors for f' )\n",
    "plt.plot( range(scales_count), g_error, '-rD', label = 'Errors for g' )\n",
    "plt.xlabel( 'Scale ')\n",
    "plt.legend()\n",
    "plt.show()"
   ]
  },
  {
   "cell_type": "code",
   "execution_count": null,
   "metadata": {
    "colab": {
     "base_uri": "https://localhost:8080/",
     "height": 458
    },
    "id": "O6eSrdMelikW",
    "outputId": "ec4799d8-a39f-46e3-d261-ff7e8407b917"
   },
   "outputs": [],
   "source": [
    "plt.figure( figsize = ( 20, 7 ) )\n",
    "plt.title( \"Time Plot\" )\n",
    "plt.plot( list(range(1, len(times_Sinkhorn) + 1)), times_Sinkhorn, '-gD' )\n",
    "# plt.yscale( 'log')\n",
    "plt.ylabel( \"Time in second\" )\n",
    "plt.xlabel( \"Dimensions of samples drawn\" )\n",
    "plt.xticks( list(range(1, len(times_Sinkhorn) + 1 ) ), [ str(i) for i in N ] )\n",
    "plt.legend( [ \"Sinkhorn\" ], loc = \"upper left\" )\n",
    "plt.show()"
   ]
  }
 ],
 "metadata": {
  "colab": {
   "collapsed_sections": [],
   "name": "MultiscaleSinkhorn.ipynb",
   "provenance": []
  },
  "kernelspec": {
   "display_name": ".venv_computational-OT",
   "language": "python",
   "name": "python3"
  },
  "language_info": {
   "codemirror_mode": {
    "name": "ipython",
    "version": 3
   },
   "file_extension": ".py",
   "mimetype": "text/x-python",
   "name": "python",
   "nbconvert_exporter": "python",
   "pygments_lexer": "ipython3",
   "version": "3.12.3"
  },
  "vscode": {
   "interpreter": {
    "hash": "de9381b46ee18642961792e0bc26104d28dc78aa3674ba2ee1bd10d79b1e5992"
   }
  }
 },
 "nbformat": 4,
 "nbformat_minor": 1
}
