{
 "cells": [
  {
   "cell_type": "markdown",
   "metadata": {},
   "source": [
    "Entropic Regularization of Optimal Transport\n",
    "============================================\n",
    "\n",
    "*Important:* Please read the [installation page](http://gpeyre.github.io/numerical-tours/installation_matlab/) for details about how to install the toolboxes."
   ]
  },
  {
   "cell_type": "markdown",
   "metadata": {},
   "source": [
    "This numerical tours exposes the general methodology of regularizing the\n",
    "optimal transport (OT) linear program using entropy. This allows to\n",
    "derive fast computation algorithm based on iterative projections\n",
    "according to a Kulback-Leiber divergence."
   ]
  },
  {
   "cell_type": "code",
   "execution_count": null,
   "metadata": {},
   "outputs": [],
   "source": [
    "from __future__ import division\n",
    "import numpy as np\n",
    "import time\n",
    "import matplotlib.pyplot as plt\n",
    "import scipy as scp\n",
    "import pylab as pyl\n",
    "import computational_OT\n",
    "import warnings\n",
    "warnings.filterwarnings('ignore')\n",
    "np.random.seed(1234)\n",
    "import os\n",
    "%matplotlib inline\n",
    "%load_ext autoreload\n",
    "%autoreload 2"
   ]
  },
  {
   "cell_type": "code",
   "execution_count": null,
   "metadata": {},
   "outputs": [],
   "source": [
    "if not os.path.isdir('NewtonSparsity_images'):\n",
    "    os.makedirs('NewtonSparsity_images')"
   ]
  },
  {
   "cell_type": "markdown",
   "metadata": {},
   "source": [
    "### Helpers"
   ]
  },
  {
   "cell_type": "code",
   "execution_count": null,
   "metadata": {},
   "outputs": [],
   "source": [
    "\"\"\"To compute distance matrix\"\"\"\n",
    "def distmat(x,y):\n",
    "    \n",
    "    return np.sum(x**2,0)[:,None] + np.sum(y**2,0)[None,:] - 2*x.transpose().dot(y)\n",
    "\n",
    "\"\"\"To Normalise a vector\"\"\"\n",
    "normalize = lambda a: a/np.sum(a)\n",
    "\n",
    "\"\"\"To Compute P\"\"\"\n",
    "def GetP(u,K,v):\n",
    "    return u*K*(v.T)\n",
    "\n",
    "def plotp(x, col,plt, scale=200, edgecolors=\"k\"):\n",
    "  return plt.scatter(x[0,:], x[1,:], s=scale, edgecolors=edgecolors,  c=col, cmap='plasma', linewidths=2)"
   ]
  },
  {
   "cell_type": "code",
   "execution_count": null,
   "metadata": {},
   "outputs": [],
   "source": [
    "N=[400,400]"
   ]
  },
  {
   "cell_type": "code",
   "execution_count": null,
   "metadata": {},
   "outputs": [],
   "source": [
    "x=np.random.rand(2,N[0])-0.5\n",
    "theta =2*np.pi*np.random.rand(1,N[1])\n",
    "r=0.8+.2*np.random.rand(1,N[1])\n",
    "y=np.vstack((r*np.cos(theta),r*np.sin(theta)))"
   ]
  },
  {
   "cell_type": "code",
   "execution_count": null,
   "metadata": {},
   "outputs": [],
   "source": [
    "\n",
    "plt.figure(figsize=(10,10))\n",
    "\n",
    "plotp(x, 'b',plt)\n",
    "plotp(y, 'r',plt)\n",
    "\n",
    "plt.axis(\"off\")\n",
    "plt.xlim(np.min(y[0,:])-.1,np.max(y[0,:])+.1)\n",
    "plt.ylim(np.min(y[1,:])-.1,np.max(y[1,:])+.1)\n",
    "plt.savefig(\"NewtonSparsity_images/AnnulusvsSquare.png\")\n",
    "plt.show()"
   ]
  },
  {
   "cell_type": "code",
   "execution_count": null,
   "metadata": {},
   "outputs": [],
   "source": [
    "C = distmat(x,y)"
   ]
  },
  {
   "cell_type": "code",
   "execution_count": null,
   "metadata": {},
   "outputs": [],
   "source": [
    "a = np.ones(N[0])/N[0]\n",
    "b = np.ones(N[1])/N[1]"
   ]
  },
  {
   "cell_type": "code",
   "execution_count": null,
   "metadata": {},
   "outputs": [],
   "source": [
    "epsilon = .06\n",
    "K = np.exp(-C/epsilon)\n",
    "u=np.ones(N[0])\n",
    "v = np.ones(N[1])\n",
    "\n",
    "SOptimizer=computational_OT.Sinkhorn(K,a,b,u,v,epsilon)\n",
    "out=SOptimizer._update(maxiter=1000)\n",
    "# Plot\n",
    "plt.figure(figsize = (12,12))\n",
    "\n",
    "plt.subplot(2,1,1),\n",
    "plt.title(\"$||P1 -a||_1$\")\n",
    "plt.plot( np.asarray(out['error_a']), linewidth = 2)\n",
    "plt.yscale( 'log')\n",
    "plt.ylabel(\"Error in log scale\")\n",
    "plt.xlabel(\"Number of iterations\")\n",
    "plt.legend([\"Sample size: \"+str(i)+\" and Epsilon=\"+str(epsilon) for i in N],loc=\"upper right\")\n",
    "\n",
    "plt.subplot(2,1,2)\n",
    "plt.title(\"$||P^T 1 -b||_1$\")\n",
    "plt.plot( np.asarray(out['error_b']), linewidth = 2)\n",
    "plt.yscale( 'log')\n",
    "plt.ylabel(\"Error in log scale\")\n",
    "plt.xlabel(\"Number of iterations\")\n",
    "plt.legend([\"Sample size: \"+str(i)+\" and Epsilon=\"+str(epsilon) for i in N],loc=\"upper right\")\n",
    "plt.show()"
   ]
  },
  {
   "cell_type": "code",
   "execution_count": null,
   "metadata": {},
   "outputs": [],
   "source": [
    "epsilon = .06\n",
    "K = np.exp(-C/epsilon)\n",
    "u=np.ones(N[0])\n",
    "v = np.ones(N[1])\n",
    "\n",
    "\n",
    "SOptimizer=computational_OT.Sinkhorn(K,a,b,u,v,epsilon)\n",
    "outS=SOptimizer._update(maxiter=110)\n",
    "\n",
    "\n",
    "X = np.hstack( (np.exp(outS['potential_f']/epsilon).T,np.exp(outS['potential_g'].T/epsilon)) )\n",
    "X = epsilon*np.log(X)\n",
    "NOptimizer=computational_OT.NewtonRaphson(X,K,a,b,epsilon)\n",
    "outN=NOptimizer._update(maxiter=10, debug=False)\n",
    "\n"
   ]
  },
  {
   "cell_type": "code",
   "execution_count": null,
   "metadata": {},
   "outputs": [],
   "source": [
    "# Plot\n",
    "plt.figure(figsize = (12,6))\n",
    "\n",
    "#plt.subplot(2,1,1),\n",
    "plt.title(\"$||P1 -a||_1 + ||P^T 1 -b||_1$\")\n",
    "error_sinkhorn = np.asarray(out['error_a']) + np.asarray(out['error_b'])\n",
    "error_hybrid   = np.asarray(outS['error_a']+outN['error_a']) + np.asarray(outS['error_b']+outN['error_b'])\n",
    "plt.plot( error_sinkhorn, label='Sinkhorn for $\\epsilon=$' + str(epsilon), linewidth = 2)\n",
    "plt.plot( error_hybrid,label='Hybrid method for $\\epsilon=$'+ str(epsilon), linewidth = 2)\n",
    "plt.xlabel(\"Number of iterations\")\n",
    "plt.ylabel(\"Error in log-scale\")\n",
    "plt.legend()\n",
    "plt.yscale( 'log')\n",
    "plt.savefig(\"NewtonSparsity_images/SinkhornNewton.png\")\n",
    "plt.show()"
   ]
  },
  {
   "cell_type": "markdown",
   "metadata": {},
   "source": [
    "## Experiments for different epsilons"
   ]
  },
  {
   "cell_type": "code",
   "execution_count": null,
   "metadata": {},
   "outputs": [],
   "source": [
    "epsilons = [0.01,0.02,0.1,0.2,0.3,0.4,0.5]\n",
    "n = len(epsilons)\n",
    "outS = {}\n",
    "outN = {}\n",
    "P = {}\n",
    "\n",
    "for i in range(n):\n",
    "    K = np.exp(-C/epsilons[i])\n",
    "    u = np.ones(N[0])\n",
    "    v = np.ones(N[1])\n",
    "\n",
    "    SOptimizer = computational_OT.Sinkhorn(K,a,b,u,v,epsilons[i])\n",
    "    out1 = SOptimizer._update(maxiter=1000)\n",
    "    outS[i] = out1\n",
    "\n",
    "    X = np.hstack( (np.exp(outS[i]['potential_f']/epsilons[i]),np.exp(outS[i]['potential_g']/epsilons[i])) )\n",
    "    X = epsilons[i]*np.log(X)\n",
    "    NOptimizer = computational_OT.NewtonRaphson(X,K,a,b,epsilons[i])\n",
    "    out2 = NOptimizer._update(maxiter=10, debug=False)\n",
    "    outN[i]=out2\n",
    "    \n",
    "    \n",
    "    P[i] = np.dot(np.dot(np.diag(np.exp(out1['potential_f'])/epsilons[i]),K),np.diag(np.exp(out1['potential_g'])/epsilons[i]))\n",
    "    P_xx = np.dot(P[i], P[i].T)\n",
    "    P_yy = np.dot(P[i].T, P[i])\n",
    "    _,ax=plt.subplots(figsize=(20,5),nrows=1,ncols=3)\n",
    "\n",
    "    ax[0].set_title(\"P$_{\\epsilon}$ histogram for $\\epsilon$: \"+str(epsilons[i]))\n",
    "\n",
    "    ax[0].hist(P[i].flatten(), 20)\n",
    "    ax[0].set_xscale(\"log\")\n",
    "    ax[0].set_yscale(\"log\")\n",
    "    ax[1].set_title(\"P$_{\\epsilon}$P$^{T}_{\\epsilon}$ flattened and $\\epsilon$: \"+str(epsilons[i]))\n",
    "    ax[1].hist( P_xx.flatten(), 20, cumulative=False)\n",
    "    ax[1].set_xscale(\"log\")\n",
    "    ax[1].set_yscale(\"log\")\n",
    "    \n",
    "    ax[2].set_title(\"P$^{T}_{\\epsilon}$P$_{\\epsilon}$ flattened and $\\epsilon$: \"+str(epsilons[i]))\n",
    "    ax[2].hist( P_yy.flatten(), 20, cumulative=False)\n",
    "    ax[2].set_xscale(\"log\")\n",
    "    ax[2].set_yscale(\"log\")\n",
    "    plt.savefig(\"NewtonSparsity_images/Phist\"+str(i)+\".png\")\n",
    "    plt.show()\n",
    "    print(\"\\n \\n\")\n",
    "    "
   ]
  },
  {
   "cell_type": "markdown",
   "metadata": {},
   "source": [
    "### Compute the cutoffs"
   ]
  },
  {
   "cell_type": "code",
   "execution_count": null,
   "metadata": {},
   "outputs": [],
   "source": [
    "q=0.8\n",
    "cutoff_x=[]\n",
    "cutoff_y=[]\n",
    "for i in range(n):\n",
    "    cutoff_x.append(np.quantile(np.dot(P[0],P[0].T).flatten(),q))\n",
    "    cutoff_y.append(np.quantile(np.dot(P[0].T,P[0]).flatten(),q))\n"
   ]
  },
  {
   "cell_type": "markdown",
   "metadata": {},
   "source": [
    "## Cuthill Mckee"
   ]
  },
  {
   "cell_type": "code",
   "execution_count": null,
   "metadata": {},
   "outputs": [],
   "source": [
    "for i in range(n):\n",
    "    CuthillMckee=computational_OT._Expcuthill_mckee(P[i])\n",
    "    CuthillMckee._evaluate(cut_offx=cutoff_x[i],cut_offy=cutoff_y[i],epsilon=epsilons[i],index=i)\n"
   ]
  },
  {
   "cell_type": "code",
   "execution_count": null,
   "metadata": {},
   "outputs": [],
   "source": [
    "# Plot\n",
    "plt.figure(figsize = (15,6))\n",
    "\n",
    "#plt.subplot(2,1,1),\n",
    "plt.title(\"$||P1 -a||_1 + ||P^T 1 -b||_1$\")\n",
    "for i in range(n):\n",
    "    error_hybrid   = np.asarray(outS[i]['error_a']) + np.asarray(outS[i]['error_b'])\n",
    "    plt.plot( error_hybrid,label='Sinkhorn for $\\epsilon=$'+ str(epsilons[i]), linewidth = 2)\n",
    "\n",
    "plt.xlabel(\"Number of iterations\")\n",
    "plt.ylabel(\"Error in log-scale\")\n",
    "plt.legend()\n",
    "plt.yscale( 'log')\n",
    "plt.savefig(\"NewtonSparsity_images/Sinkhornvaryepsilon.png\")\n",
    "plt.show()"
   ]
  },
  {
   "cell_type": "markdown",
   "metadata": {},
   "source": [
    "### Nested Dissection"
   ]
  },
  {
   "cell_type": "code",
   "execution_count": null,
   "metadata": {},
   "outputs": [],
   "source": [
    "for i in range(n): \n",
    "    nd=computational_OT.NestedDissection(P[i],stopdim=50 )\n",
    "    nd._evaluate(cutoff_x[i],cutoff_y[i],epsilons[i],index=i)\n",
    "    "
   ]
  },
  {
   "cell_type": "markdown",
   "metadata": {},
   "source": [
    "### Annulus vs Rotated Annulus"
   ]
  },
  {
   "cell_type": "code",
   "execution_count": null,
   "metadata": {},
   "outputs": [],
   "source": [
    "N=[400,400]"
   ]
  },
  {
   "cell_type": "markdown",
   "metadata": {},
   "source": [
    "### Sampled Annulus"
   ]
  },
  {
   "cell_type": "code",
   "execution_count": null,
   "metadata": {},
   "outputs": [],
   "source": [
    "random = 0.05*np.random.normal(size=N[0])\n",
    "random2 = np.floor(3*np.random.uniform(size=N[0]))/3\n",
    "biased_unif = (random + random2) % 1\n",
    "theta   = 2*np.pi*biased_unif\n",
    "r = 1.0\n",
    "X = np.vstack((np.cos(theta)*r,np.sin(theta)*r))"
   ]
  },
  {
   "cell_type": "code",
   "execution_count": null,
   "metadata": {},
   "outputs": [],
   "source": [
    "Angleorderedmatrices = []"
   ]
  },
  {
   "cell_type": "markdown",
   "metadata": {},
   "source": [
    "### Rotated Annulus"
   ]
  },
  {
   "cell_type": "code",
   "execution_count": null,
   "metadata": {},
   "outputs": [],
   "source": [
    "Y = np.vstack((np.cos(theta+(np.pi/2))*r,np.sin(theta+(np.pi/2))*r))\n"
   ]
  },
  {
   "cell_type": "code",
   "execution_count": null,
   "metadata": {},
   "outputs": [],
   "source": [
    "_,ax = plt.subplots(figsize=(10,5),nrows=1,ncols=2)\n",
    "\n",
    "plotp(X, 'b',ax[0],scale=50, edgecolors=(0,0,0,0))\n",
    "plotp(Y, 'r',ax[1],scale=50, edgecolors=(0,0,0,0))\n",
    "\n",
    "# ax.axis(\"off\")\n",
    "ax[0].axis(\"off\")\n",
    "ax[1].axis(\"off\")\n",
    "\n",
    "# ax[0].xlim(np.min(X[0,:])-.1,np.max(X[0,:])+.1)\n",
    "# ax[1].ylim(np.min(Y[1,:])-.1,np.max(Y[1,:])+.1)\n",
    "plt.savefig(\"NewtonSparsity_images/SuperimposedAnnulusvsRotatedAnnulus1.png\")\n",
    "plt.show()"
   ]
  },
  {
   "cell_type": "code",
   "execution_count": null,
   "metadata": {},
   "outputs": [],
   "source": [
    "_,ax = plt.subplots(figsize=(8,8),nrows=1,ncols=1)\n",
    "\n",
    "plotp(X, 'b',ax,scale=50, edgecolors=(0,0,0,0))\n",
    "plotp(Y, 'r',ax,scale=50, edgecolors=(0,0,0,0))\n",
    "\n",
    "ax.axis(\"off\")\n",
    "# ax[0].axis(\"off\")\n",
    "# ax[1].axis(\"off\")\n",
    "\n",
    "# ax[0].xlim(np.min(x[0,:])-.1,np.max(x[0,:])+.1)\n",
    "# ax[1].ylim(np.min(y[1,:])-.1,np.max(y[1,:])+.1)\n",
    "plt.savefig(\"NewtonSparsity_images/SuperimposedAnnulusvsRotatedAnnulus.png\")\n",
    "plt.show()\n"
   ]
  },
  {
   "cell_type": "code",
   "execution_count": null,
   "metadata": {},
   "outputs": [],
   "source": [
    "import math\n",
    "C = np.zeros((N[0],N[1]))\n",
    "for i in range(N[0]):\n",
    "    for j in range(N[1]):\n",
    "        dotproduct = np.dot(X[:,i],Y[:,j])\n",
    "        norm = np.sqrt(np.linalg.norm(X[:,i])*np.linalg.norm(Y[:,j]))\n",
    "        angle = np.arccos(dotproduct/norm)\n",
    "        C[i][j] = r*angle\n",
    "# C=distmat(X,Y)"
   ]
  },
  {
   "cell_type": "code",
   "execution_count": null,
   "metadata": {},
   "outputs": [],
   "source": [
    "# a and b\n",
    "a  = normalize(np.ones(N[0]))\n",
    "a = a.reshape(a.shape[0],-1)\n",
    "b = normalize(np.ones(N[1]))\n",
    "b = b.reshape(b.shape[0],-1)"
   ]
  },
  {
   "cell_type": "code",
   "execution_count": null,
   "metadata": {},
   "outputs": [],
   "source": [
    "epsilon = .2\n",
    "\n",
    "K = np.exp(-C/epsilon)\n",
    "u = np.ones(N[0])\n",
    "u = u.reshape(u.shape[0],-1)\n",
    "v = np.ones(N[1])\n",
    "v = v.reshape(v.shape[0],-1)\n",
    "\n",
    "\n",
    "SOptimizer = computational_OT.Sinkhorn(K,a,b,u,v,epsilon)\n",
    "outS = SOptimizer._update(maxiter=1000)\n",
    "\n",
    "\n",
    "# Plot\n",
    "plt.figure(figsize = (12,12))\n",
    "\n",
    "plt.subplot(2,1,1),\n",
    "plt.title(\"$||P1 -a||_1$\")\n",
    "plt.plot( np.asarray(outS['error_a']), linewidth = 2)\n",
    "plt.yscale('log')\n",
    "plt.ylabel(\"Error in log scale\")\n",
    "plt.xlabel(\"Number of iterations\")\n",
    "plt.legend([\"Sample size: \"+str(i)+\" and Epsilon=\"+str(epsilon) for i in N],loc=\"upper right\")\n",
    "\n",
    "plt.subplot(2,1,2)\n",
    "plt.title(\"$||P^T 1 -b||_1$\")\n",
    "plt.plot( np.asarray(outS['error_b']), linewidth = 2)\n",
    "plt.yscale('log')\n",
    "plt.ylabel(\"Error in log scale\")\n",
    "plt.xlabel(\"Number of iterations\")\n",
    "plt.legend([\"Sample size: \"+str(i)+\" and Epsilon=\"+str(epsilon) for i in N],loc=\"upper right\")\n",
    "plt.show()"
   ]
  },
  {
   "cell_type": "code",
   "execution_count": null,
   "metadata": {},
   "outputs": [],
   "source": [
    "Ptest = np.exp(np.exp(outS['potential_f']/epsilon)*K*(np.exp(outS['potential_g'].T/epsilon)))\n",
    "P_xx = np.dot(Ptest, Ptest.T)\n",
    "P_yy = np.dot(Ptest.T, Ptest)\n",
    "_,ax = plt.subplots(figsize=(20,5),nrows=1,ncols=3)\n",
    "\n",
    "ax[0].set_title(\"P histogram for epsilon: \"+str(epsilon))\n",
    "\n",
    "ax[0].hist(Ptest.flatten(), 20)\n",
    "ax[0].set_xscale(\"log\")\n",
    "ax[0].set_yscale(\"log\")\n",
    "ax[1].set_title(\"P_xx flattened and e: \"+str(epsilon))\n",
    "ax[1].hist( P_xx.flatten(), 20, cumulative=False)\n",
    "ax[1].set_xscale(\"log\")\n",
    "ax[1].set_yscale(\"log\")\n",
    "\n",
    "ax[2].set_title(\"P_yy flattened and e: \"+str(epsilon))\n",
    "ax[2].hist( P_yy.flatten(), 20, cumulative=False)\n",
    "ax[2].set_xscale(\"log\")\n",
    "ax[2].set_yscale(\"log\")\n",
    "plt.savefig(\"NewtonSparsity_images/PhistAnnulusvsRotatedAnnulus\"+str(epsilon)+\".png\")\n",
    "plt.show()\n",
    "print(\"\\n \\n\")\n"
   ]
  },
  {
   "cell_type": "code",
   "execution_count": null,
   "metadata": {},
   "outputs": [],
   "source": [
    "q = 0.8\n",
    "cutoff_x = 0\n",
    "cutoff_y = 0\n",
    "cutoff_x = np.quantile(np.dot(Ptest[0],Ptest[0].T).flatten(),q)\n",
    "cutoff_y = np.quantile(np.dot(Ptest[0].T,Ptest[0]).flatten(),q)\n"
   ]
  },
  {
   "cell_type": "code",
   "execution_count": null,
   "metadata": {},
   "outputs": [],
   "source": [
    "sorted_theta = np.sort(theta)\n",
    "\n",
    "\n",
    "perm_matrix = np.zeros((400,400))\n",
    "for i in range(400):\n",
    "    for j in range(400):\n",
    "        if theta[i] == sorted_theta[j]:\n",
    "            perm_matrix[i][j] = 1\n",
    "\n",
    "P_= np.dot(Ptest,perm_matrix)\n",
    "P_= np.dot(perm_matrix.T,P_)\n",
    "Angleorderedmatrices.append(P_)\n",
    "\n"
   ]
  },
  {
   "cell_type": "code",
   "execution_count": null,
   "metadata": {},
   "outputs": [],
   "source": [
    "                                                                                                                                                                                                                                                                                                                                                                                                                                                                                                                                                                                                                                                                                                                                                                                                                                                                                                                                                                                                                                                                                                                                                                                                                                                                                                                                                                                                                                                                                                                                                                                                                                                                                                                                                                                                                                                                                                                                                                                                                                                                                                                                                                                                                                                                                                                                                                                                                                                                                                                                                                                                                                                                                                                                                                                                                                                                                                                                                                                                                                                                                                                                                                                                                                                                        \n",
    "CuthillMckee = computational_OT._Expcuthill_mckee(Ptest)\n",
    "CuthillMckee._evaluate(cut_offx=cutoff_x,cut_offy=cutoff_y,epsilon=epsilon,index=epsilon)"
   ]
  },
  {
   "cell_type": "code",
   "execution_count": null,
   "metadata": {},
   "outputs": [],
   "source": [
    "plt.figure(figsize=(8,8))\n",
    "\n",
    "plotp(X, 'b',plt,scale=50, edgecolors=(0,0,0,0))\n",
    "plotp(Y, 'r',plt,scale=50, edgecolors=(0,0,0,0))\n",
    "\n",
    "\n",
    "A = Ptest * (Ptest > np.max(Ptest)*.8)\n",
    "i,j = np.where(A != 0)\n",
    "plt.plot([X[0,i],Y[0,j]],[X[1,i],Y[1,j]],'k',lw = 2)\n",
    "\n",
    "\n",
    "A = Ptest * (Ptest > np.max(Ptest)*.2)\n",
    "i,j = np.where(A != 0)\n",
    "plt.plot([X[0,i],Y[0,j]],[X[1,i],Y[1,j]],'k',lw = 1)\n",
    "\n",
    "plt.axis(\"off\")\n",
    "plt.xlim(np.min(Y[0,:])-.1,np.max(Y[0,:])+.1)\n",
    "plt.ylim(np.min(Y[1,:])-.1,np.max(Y[1,:])+.1)\n",
    "plt.savefig(\"NewtonSparsity_images/FinalAnnulusvsRotatedAnnulus\"+str(epsilon)+\".png\")\n",
    "plt.show()"
   ]
  },
  {
   "cell_type": "code",
   "execution_count": null,
   "metadata": {},
   "outputs": [],
   "source": [
    "len(Angleorderedmatrices)"
   ]
  },
  {
   "cell_type": "code",
   "execution_count": null,
   "metadata": {},
   "outputs": [],
   "source": [
    "_,ax =  plt.subplots(figsize = (20,5),nrows = 1,ncols = 1)\n",
    "ax.set_title(\"For epsilon = 0.01.\")\n",
    "ax.imshow(Angleorderedmatrices[0])\n",
    "\n",
    "# ax[1].set_title(\"For epsilon=0.02.\")\n",
    "# ax[1].imshow(Angleorderedmatrices[1])\n",
    "\n",
    "# ax[2].set_title(\"For epsilon=0.05.\")\n",
    "# ax[2].imshow(Angleorderedmatrices[2])\n",
    "\n",
    "# ax[3].set_title(\"For epsilon=0.1.\")\n",
    "# ax[3].imshow(Angleorderedmatrices[3])\n",
    "\n",
    "# ax[4].set_title(\"For epsilon=0.2.\")\n",
    "# ax[4].imshow(Angleorderedmatrices[4])\n",
    "\n",
    "plt.savefig(\"NewtonSparsity_images/Angleorderedmatrices.png\")\n",
    "plt.show()\n",
    "print(\"\\n \\n\")"
   ]
  },
  {
   "cell_type": "code",
   "execution_count": null,
   "metadata": {},
   "outputs": [],
   "source": []
  }
 ],
 "metadata": {
  "kernelspec": {
   "display_name": ".venv_computational-OT",
   "language": "python",
   "name": ".venv_computational-ot"
  },
  "language_info": {
   "codemirror_mode": {
    "name": "ipython",
    "version": 3
   },
   "file_extension": ".py",
   "mimetype": "text/x-python",
   "name": "python",
   "nbconvert_exporter": "python",
   "pygments_lexer": "ipython3",
   "version": "3.10.12"
  },
  "vscode": {
   "interpreter": {
    "hash": "de9381b46ee18642961792e0bc26104d28dc78aa3674ba2ee1bd10d79b1e5992"
   }
  }
 },
 "nbformat": 4,
 "nbformat_minor": 1
}
